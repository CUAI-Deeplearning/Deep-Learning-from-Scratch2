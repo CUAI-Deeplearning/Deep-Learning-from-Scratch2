{
 "cells": [
  {
   "cell_type": "markdown",
   "metadata": {},
   "source": [
    "# Chapter 8 어텐션"
   ]
  },
  {
   "cell_type": "markdown",
   "metadata": {},
   "source": [
    "## 8.1 어텐션의 구조"
   ]
  },
  {
   "cell_type": "markdown",
   "metadata": {},
   "source": [
    "어텐션은 seq2seq를 필요한 정보에만 주목할 수 있도록 한다. 이를 통해 seq2seq가 갖고 있는 문제를 해결할 수 있다."
   ]
  },
  {
   "cell_type": "markdown",
   "metadata": {},
   "source": [
    "### 8.1.1 seq2seq의 문제점"
   ]
  },
  {
   "cell_type": "markdown",
   "metadata": {},
   "source": [
    "이전의 seq2seq는 Encoder가 고정 길이의 벡터를 출력했다. 아무리 긴 문장이 있더라도 고정된 길이의 벡터로 반환해야 하기 때문에 한계가 있다."
   ]
  },
  {
   "cell_type": "markdown",
   "metadata": {},
   "source": [
    "### 8.1.2 Encoder 개선"
   ]
  },
  {
   "cell_type": "markdown",
   "metadata": {},
   "source": [
    "시각 별 LSTM 계층의 은닉 상태 벡터를 모두 사용한다. 이렇게 되면 입력된 단어 길이와 같은 수의 벡터를 얻을 수 있다. \n",
    "\n",
    "여러 딥러닝 프레임워크에서 RNN 계층을 초기화할 때 모든 시각의 은닉 상태 벡터 변환과 마지막 은닉 상태 벡터만 반환 둘 중 하나로 설정할 수 있다.\n",
    "\n",
    "각 시각의 은닉 상태에는 해당 시각에 입력된 단어의 정보가 많이 담겨 있을 것이다. 추가적으로, 문장에서 단어의 정보는 주변 정보를 균형 있게 담아야 하기 때문에 양방향 RNN이나 양방향 LSTM을 사용하면 효과적이다."
   ]
  },
  {
   "cell_type": "markdown",
   "metadata": {},
   "source": [
    "### 8.1.3 Decoder 개선 - 1"
   ]
  },
  {
   "cell_type": "markdown",
   "metadata": {},
   "source": [
    "**얼라인먼트(alignment)**: 단어(혹은 문구)의 대응 관계를 나타내는 정보, 이전까지는 사람의 수작업으로 만들어졌다. 어텐션은 이를 자동으로 수행한다.\n",
    "\n",
    "필요한 정보에만 주목해서 그 정보로부터 시계열 변환을 수행하는 것을 어텐션이라고 한다.\n",
    "\n",
    "<img src='./images/fig8-6.png' width=700>\n",
    "\n",
    "위의 어떤 계산의 입력으로는 Encoder로부터 온 hs와 시각별 LSTM 계층의 은닉 상태이다. 필요한 정보만 골라 Affine 계층으로 출력한다. Encoder의 마지막 은닉 상태 벡터는 여전히 Decoder의 첫번째 LSTM 계층로 전달된다.\n",
    "\n",
    "위의 어떤 계산은 Decoder에서 출력을 할 때 필요한 정보를 hs에서 선택하는 과정이다. 하지만 선택하는 작업은 미분할 수 없다는 문제가 있다. 이 문제를 **전체를 선택한 후 각 단어의 가중치를 별도로 계산하는 문제로 치환**하면 미분이 가능해진다.\n",
    "\n",
    "<img src=\"./images/fig8-8.png\" width=600>\n",
    "\n",
    "각 단어의 중요도를 나타내는 가중치 a(확률분포와 유사)를 구한 후 단어 벡터 hs와 가중합을 계산해서 맥락 벡터 c를 구한다. 위의 예시에서 '나'에 대응하는 가중치가 0.8이었으니 맥락 벡터에는 '나' 벡터의 성분이 많이 포함되어 있다. 맥락 벡터 c에는 현 시각의 변환을 수행하는데 필요한 정보가 담겨 있어야 하고, 결국 이렇게 학습하도록하는 것이 궁극적인 목표이다."
   ]
  },
  {
   "cell_type": "code",
   "execution_count": 1,
   "metadata": {},
   "outputs": [],
   "source": [
    "import numpy as np"
   ]
  },
  {
   "cell_type": "code",
   "execution_count": 2,
   "metadata": {},
   "outputs": [
    {
     "name": "stdout",
     "output_type": "stream",
     "text": [
      "(5, 4)\n",
      "(5, 4)\n",
      "(4,)\n"
     ]
    }
   ],
   "source": [
    "# 형상에 주목\n",
    "T, H = 5, 4\n",
    "hs = np.random.randn(T, H)\n",
    "a = np.array([0.8, 0.1, 0.03, 0.05, 0.02])\n",
    "\n",
    "ar = a.reshape(5, 1).repeat(4, axis=1)\n",
    "print(ar.shape)\n",
    "\n",
    "t = hs * ar\n",
    "print(t.shape)\n",
    "\n",
    "c = np.sum(t, axis=0)\n",
    "print(c.shape)"
   ]
  },
  {
   "cell_type": "markdown",
   "metadata": {},
   "source": [
    "구현에서 repeat 대신 브로드캐스트를 이용하는 것이 더욱 효율적이다. 브로드캐스트를 하더라도 Repeat 노드에 해당하므로 Repeat 노드의 역전파를 수행해야 한다. 단, 가장 효율적으로 가중합을 구하는 방식은 행렬 곱을 이용하는 것이다. 이 방식은 미니배치 처리로 확장하기 쉽지 않고, 미니배치로 구현하려면 텐서 곱이라는 개념이 필요하다(np.tensordot()과 np.einsum() 사용).\n",
    "\n",
    "#### axis 매개 변수 사용법\n",
    "- np.repeat: 반복을 수행할 축\n",
    "- np.sum: 합을 구해서 사라지게 할 축"
   ]
  },
  {
   "cell_type": "code",
   "execution_count": 3,
   "metadata": {},
   "outputs": [
    {
     "name": "stdout",
     "output_type": "stream",
     "text": [
      "(10, 5, 4)\n",
      "(10, 4)\n"
     ]
    }
   ],
   "source": [
    "# 미니배치 처리용 가중합 구현\n",
    "N, T, H = 10, 5, 4\n",
    "hs = np.random.randn(N, T, H)\n",
    "a = np.random.randn(N, T)\n",
    "ar = a.reshape(N, T, 1).repeat(H, axis=2)\n",
    "# ar = a.reshape(N, T, 1) # 브로드캐스트를 사용하는 경우\n",
    "\n",
    "t = hs * ar\n",
    "print(t.shape)\n",
    "\n",
    "c = np.sum(t, axis=1)\n",
    "print(c.shape)"
   ]
  },
  {
   "cell_type": "code",
   "execution_count": 4,
   "metadata": {},
   "outputs": [],
   "source": [
    "class WeightSum:\n",
    "    \n",
    "    def __init__(self):\n",
    "        self.params, self.grads = [], [] # params는 사용하지 않으나 구현 규칙에 따라 만들어주었다.\n",
    "        self.cache = None\n",
    "        \n",
    "        \n",
    "    def forward(self, hs, a):\n",
    "        N, T, H = hs.shape\n",
    "        \n",
    "        ar = a.reshape(N, T, 1).repeat(H, axis=2)\n",
    "        t = hs * ar\n",
    "        c = np.sum(t, axis=1)\n",
    "        \n",
    "        self.cache = (hs, ar)\n",
    "        \n",
    "        return c\n",
    "    \n",
    "    \n",
    "    def backward(self, dc):\n",
    "        hs, ar = self.cache\n",
    "        N, T, H = hs.shape\n",
    "        \n",
    "        dt = dc.reshape(N, 1, H).repeat(T, axis=1)\n",
    "        dar = dt * hs\n",
    "        dhs = dt * ar\n",
    "        da = np.sum(dar, axis=2)\n",
    "        \n",
    "        return dhs"
   ]
  },
  {
   "cell_type": "markdown",
   "metadata": {},
   "source": [
    "### 8.1.4 Decoder 개선 - 2"
   ]
  },
  {
   "cell_type": "markdown",
   "metadata": {},
   "source": [
    "가중치 a도 데이터로부터 자동으로 학습할 수 있도록 해야 한다.\n",
    "\n",
    "Decoder의 LSTM 계층의 은닉 상태 벡터(h)와 Encoder의 마지막 시각의 hs 사이의 유사도는 벡터의 내적으로 구할 수 있다. 내적은 두 벡터가 얼마나 같은 방향을 향하고 있는지를 나타낸다. 내적을 하면 정규화하기 전의 점수 s를 구할 수 있다. s는 일반적으로 소프트맥스 함수를 거쳐 정규화해 가중치 a를 구한다."
   ]
  },
  {
   "cell_type": "code",
   "execution_count": 5,
   "metadata": {},
   "outputs": [],
   "source": [
    "from common.layers import Softmax\n",
    "import numpy as np"
   ]
  },
  {
   "cell_type": "code",
   "execution_count": 6,
   "metadata": {},
   "outputs": [
    {
     "name": "stdout",
     "output_type": "stream",
     "text": [
      "(10, 5, 4)\n",
      "(10, 5)\n",
      "(10, 5)\n"
     ]
    }
   ],
   "source": [
    "N, T, H = 10, 5, 4\n",
    "hs = np.random.randn(N, T, H)\n",
    "h = np.random.randn(N, H)\n",
    "hr = h.reshape(N, 1, H)\n",
    "\n",
    "t = hs * hr\n",
    "print(t.shape)\n",
    "\n",
    "s = np.sum(t, axis=2)\n",
    "print(s.shape)\n",
    "\n",
    "softmax = Softmax()\n",
    "a = softmax.forward(s)\n",
    "print(a.shape)"
   ]
  },
  {
   "cell_type": "code",
   "execution_count": 7,
   "metadata": {},
   "outputs": [],
   "source": [
    "from common.np import *\n",
    "from common.layers import Softmax"
   ]
  },
  {
   "cell_type": "code",
   "execution_count": 8,
   "metadata": {},
   "outputs": [],
   "source": [
    "class AttentionWeight:\n",
    "    \n",
    "    def __init__(self):\n",
    "        self.params, self.grads = [], []\n",
    "        self.softmax = Softmax()\n",
    "        self.cache = None\n",
    "        \n",
    "    \n",
    "    def forward(self, hs, h):\n",
    "        N, T, H = hs.shape\n",
    "        \n",
    "        hr = h.reshape(N, 1, H).repeat(T, axis=1)\n",
    "        t = hs * hr\n",
    "        s = np.sum(t, axis=2)\n",
    "        a = self.softmax.forward(s)\n",
    "        \n",
    "        self.cache = (hs, hr)\n",
    "        return a\n",
    "    \n",
    "    \n",
    "    def backward(self, da):\n",
    "        hs, hr = self.cache\n",
    "        N, T, H = hs.shape\n",
    "        \n",
    "        ds = self.softmax.backward(da)\n",
    "        dt = ds.reshape(N, T, 1).repeat(H, axis=2)\n",
    "        dhs = dt * hr\n",
    "        dhr = dt * hs\n",
    "        dh = np.sum(dhr, axis=1)\n",
    "        \n",
    "        return dhs, dh"
   ]
  },
  {
   "cell_type": "markdown",
   "metadata": {},
   "source": [
    "### 8.1.5 Decoder 개선 - 3"
   ]
  },
  {
   "cell_type": "markdown",
   "metadata": {},
   "source": [
    "<img src=\"./images/fig8-16.png\" width=600>\n",
    "\n",
    "방금까지 본 계층을 Weight Sum, Attention Weight 게층이라고 하고, 이 둘을 합쳐서 Attention 계층이라고 한다."
   ]
  },
  {
   "cell_type": "code",
   "execution_count": 9,
   "metadata": {},
   "outputs": [],
   "source": [
    "class Attention:\n",
    "    \n",
    "    def __init__(self):\n",
    "        self.params, self.grads = [], []\n",
    "        self.attention_weight_layer = AttentionWeight()\n",
    "        self.weight_sum_layer = WeightSum()\n",
    "        self.attention_weight = None\n",
    "        \n",
    "        \n",
    "    def forward(self, hs, h):\n",
    "        a = self.attention_weight_layer.forward(hs, h)\n",
    "        out = self.weight_sum_layer.forward(hs, a)\n",
    "        self.attention_weight = a\n",
    "        \n",
    "        return out\n",
    "    \n",
    "    \n",
    "    def backward(self, dout):\n",
    "        dhs0, da = self.weight_sum_layer.backward(dout)\n",
    "        dhs1, dh = self.attention_weight_layer.backward(da)\n",
    "        dhs = dhs0 + dhs1\n",
    "        \n",
    "        return dhs, dh"
   ]
  },
  {
   "cell_type": "markdown",
   "metadata": {},
   "source": [
    "<img src=\"./images/fig8-18.png\" width=700>\n",
    "\n",
    "Affine 계층에 맥락 벡터와 은닉 상태 벡터가 입력된다.\n",
    "\n",
    "이전과 마찬가지로 다수의 Attention 계층을 모아 Time Attention 계층으로 만들 수 있다.\n",
    "\n",
    "<img src=\"./images/fig8-20.png\" width=700>"
   ]
  },
  {
   "cell_type": "code",
   "execution_count": 11,
   "metadata": {},
   "outputs": [],
   "source": [
    "class TimeAttention:\n",
    "    \n",
    "    def __init__(self):\n",
    "        self.params, self.grads = [], []\n",
    "        self.layers = None\n",
    "        self.attention_weights = None\n",
    "        \n",
    "        \n",
    "    def forward(self, hs_enc, hs_dec):\n",
    "        N, T, H = hs_dec.shape\n",
    "        out = np.empty_like(hs_dec)\n",
    "        self.layers = []\n",
    "        self.attention_weights = []\n",
    "        \n",
    "        for t in range(T):\n",
    "            layer = Attention()\n",
    "            out[:, t, :] = layer.forward(hs_enc, hs_dec[:, t, :])\n",
    "            self.layers.append(layer)\n",
    "            self.attention_weights.append(layer.attention_weight)\n",
    "            \n",
    "        return out\n",
    "    \n",
    "    \n",
    "    def backward(self, dout):\n",
    "        N, T, H = dout.shape\n",
    "        dhs_enc = 0\n",
    "        dhs_dec = np.empty_like(dout)\n",
    "        \n",
    "        for t in range(T):\n",
    "            layer = self.layers[t]\n",
    "            dhs, dh = layer.backward(dout[:, t, :])\n",
    "            dhs_enc += dhs\n",
    "            dhs_dec[:, t, :] = dh\n",
    "            \n",
    "        return dhs_enc, dhs_dec"
   ]
  },
  {
   "cell_type": "markdown",
   "metadata": {},
   "source": [
    "## 8.2 어텐션을 갖춘 seq2seq 구현"
   ]
  },
  {
   "cell_type": "markdown",
   "metadata": {},
   "source": [
    "### 8.2.1 Encoder 구현"
   ]
  },
  {
   "cell_type": "markdown",
   "metadata": {},
   "source": [
    "모든 은닉 상태 반환"
   ]
  },
  {
   "cell_type": "code",
   "execution_count": 13,
   "metadata": {},
   "outputs": [],
   "source": [
    "from common.time_layers import *\n",
    "from seq2seq import Encoder, Seq2seq\n",
    "from attention_layer import TimeAttention"
   ]
  },
  {
   "cell_type": "code",
   "execution_count": 14,
   "metadata": {},
   "outputs": [],
   "source": [
    "class AttentionEncoder(Encoder):\n",
    "    \n",
    "    def forward(self, xs):\n",
    "        xs = self.embed.forward(xs)\n",
    "        hs = self.lstm.forward(xs)\n",
    "        \n",
    "        return hs\n",
    "    \n",
    "    \n",
    "    def backward(self, dhs):\n",
    "        dout = self.lstm.backward(dhs)\n",
    "        dout = self.embed.backward(dout)\n",
    "        \n",
    "        return dout"
   ]
  },
  {
   "cell_type": "markdown",
   "metadata": {},
   "source": [
    "### 8.2.2 Decoder 구현"
   ]
  },
  {
   "cell_type": "code",
   "execution_count": 15,
   "metadata": {},
   "outputs": [],
   "source": [
    "class AttentionDecoder:\n",
    "    \n",
    "    def __init__(self, vocab_size, wordvec_size, hidden_size):\n",
    "        V, D, H = vocab_size, wordvec_size, hidden_size\n",
    "        rn = np.random.randn\n",
    "        \n",
    "        embed_W = (rn(V, D) / 100).astype('f')\n",
    "        lstm_Wx = (rn(D, 4 * H) / np.sqrt(D)).astype('f')\n",
    "        lstm_Wh = (rn(H, 4 * H) / np.sqrt(H)).astype('f')\n",
    "        lstm_b = np.zeros(4 * H).astype('f')\n",
    "        affine_W = (rn(2*H, V) / np.sqrt(2*H)).astype('f')\n",
    "        affine_b = np.zeros(V).astype('f')\n",
    "        \n",
    "        self.embed = TimeEmbedding(embed_W)\n",
    "        self.lstm = TimeLSTM(lstm_Wx, lstm_Wh, lstm_b, stateful=True)\n",
    "        self.attention = TimeAttention()\n",
    "        self.affine = TimeAffine(affine_W, affine_b)\n",
    "        layers = [self.embed, self.lstm, self.attention, self.affine]\n",
    "        \n",
    "        self.params, self.grads = [], []\n",
    "        for layer in layers:\n",
    "            self.params += layer.params\n",
    "            self.grads += layer.grads\n",
    "            \n",
    "        \n",
    "    def forward(self, xs, enc_hs):\n",
    "        h = enc_hs[:, -1]\n",
    "        self.lstm.set_state(h)\n",
    "        \n",
    "        out = self.embed.forward(xs)\n",
    "        dec_hs = self.lstm.forward(out)\n",
    "        c = self.attention.forward(enc_hs, dec_hs)\n",
    "        out = np.concatenate((c, dec_hs), axis=2)\n",
    "        score = self.affine.forward(out)\n",
    "        \n",
    "        return score\n",
    "    \n",
    "    \n",
    "    def backward(self, dscore):\n",
    "        pass\n",
    "    \n",
    "    \n",
    "    def generate(self, enc_hs, start_id, sample_size):\n",
    "        pass"
   ]
  },
  {
   "cell_type": "markdown",
   "metadata": {},
   "source": [
    "### 8.2.3 seq2seq 구현"
   ]
  },
  {
   "cell_type": "code",
   "execution_count": 16,
   "metadata": {},
   "outputs": [],
   "source": [
    "from seq2seq import Encoder, Seq2seq"
   ]
  },
  {
   "cell_type": "code",
   "execution_count": 17,
   "metadata": {},
   "outputs": [],
   "source": [
    "class AttentionSeq2seq(Seq2seq):\n",
    "    \n",
    "    def __init__(self, vocab_size, wordvec_size, hidden_size):\n",
    "        args = vocab_size, wordvec_size, hidden_size\n",
    "        self.encoder = AttentionEncoder(*args)\n",
    "        self.decoder = AttentionDecoder(*args)\n",
    "        self.softmax = TimeSoftmaxWithLoss()\n",
    "        \n",
    "        self.params = self.encoder.params + self.decoder.params\n",
    "        self.grads = self.encoder.grads + self.decoder.grads"
   ]
  },
  {
   "cell_type": "markdown",
   "metadata": {},
   "source": [
    "## 8.3 어텐션 평가"
   ]
  },
  {
   "cell_type": "markdown",
   "metadata": {},
   "source": [
    "날짜 형식 변경 문제  \n",
    "번역용 데이터셋 중에서는 WMT가 있으나 너무 커서 날짜 형식 변경 문제로 대체"
   ]
  },
  {
   "cell_type": "markdown",
   "metadata": {},
   "source": [
    "### 8.3.1 날짜 형식 변환 문제"
   ]
  },
  {
   "cell_type": "markdown",
   "metadata": {},
   "source": [
    "사람이 쓴 날짜 데이터(형식에 맞추지 않음)를 표준 형식(YYYY-MM-DD)으로 변환\n",
    "\n",
    "문제1. 사람이 쓴 날짜 데이터의 형식은 매우 많으므로 수작업으로 해당 패턴을 찾아서 변환 규칙을 만드는 것은 매우 번거롭다.  \n",
    "문제2. 입력과 출력의 대응 관계를 쉽게 알 수 있다.\n",
    "\n",
    "<img src=\"./images/fig8-23.png\" width=500>\n",
    "\n",
    "입력과 출력의 구분 문자는 \\_, 출력의 끝은 출력의 길이가 모두 동일하므로 따로 두지 않았다."
   ]
  },
  {
   "cell_type": "markdown",
   "metadata": {},
   "source": [
    "### 8.3.2 어텐션을 갖춘 seq2seq의 학습"
   ]
  },
  {
   "cell_type": "code",
   "execution_count": 18,
   "metadata": {},
   "outputs": [],
   "source": [
    "import numpy as np\n",
    "from dataset import sequence\n",
    "from common.optimizer import Adam\n",
    "from common.trainer import Trainer\n",
    "from common.util import eval_seq2seq\n",
    "from attention_seq2seq import AttentionSeq2seq\n",
    "from seq2seq import Seq2seq\n",
    "from peeky_seq2seq import PeekySeq2seq"
   ]
  },
  {
   "cell_type": "code",
   "execution_count": 20,
   "metadata": {},
   "outputs": [
    {
     "name": "stdout",
     "output_type": "stream",
     "text": [
      "| 에폭 1 |  반복 1 / 351 | 시간 0[s] | 손실 4.08\n",
      "| 에폭 1 |  반복 21 / 351 | 시간 10[s] | 손실 3.09\n",
      "| 에폭 1 |  반복 41 / 351 | 시간 20[s] | 손실 1.90\n",
      "| 에폭 1 |  반복 61 / 351 | 시간 30[s] | 손실 1.72\n",
      "| 에폭 1 |  반복 81 / 351 | 시간 40[s] | 손실 1.46\n",
      "| 에폭 1 |  반복 101 / 351 | 시간 50[s] | 손실 1.19\n",
      "| 에폭 1 |  반복 121 / 351 | 시간 60[s] | 손실 1.14\n",
      "| 에폭 1 |  반복 141 / 351 | 시간 71[s] | 손실 1.09\n",
      "| 에폭 1 |  반복 161 / 351 | 시간 81[s] | 손실 1.06\n",
      "| 에폭 1 |  반복 181 / 351 | 시간 91[s] | 손실 1.04\n",
      "| 에폭 1 |  반복 201 / 351 | 시간 101[s] | 손실 1.03\n",
      "| 에폭 1 |  반복 221 / 351 | 시간 111[s] | 손실 1.02\n",
      "| 에폭 1 |  반복 241 / 351 | 시간 121[s] | 손실 1.02\n",
      "| 에폭 1 |  반복 261 / 351 | 시간 131[s] | 손실 1.01\n",
      "| 에폭 1 |  반복 281 / 351 | 시간 141[s] | 손실 1.00\n",
      "| 에폭 1 |  반복 301 / 351 | 시간 152[s] | 손실 1.00\n",
      "| 에폭 1 |  반복 321 / 351 | 시간 162[s] | 손실 1.00\n",
      "| 에폭 1 |  반복 341 / 351 | 시간 172[s] | 손실 1.00\n",
      "Q 10/15/94                     \n",
      "T 1994-10-15\n",
      "X 1978-08-11\n",
      "---\n",
      "Q thursday, november 13, 2008  \n",
      "T 2008-11-13\n",
      "X 1978-08-11\n",
      "---\n",
      "Q Mar 25, 2003                 \n",
      "T 2003-03-25\n",
      "X 1978-08-11\n",
      "---\n",
      "Q Tuesday, November 22, 2016   \n",
      "T 2016-11-22\n",
      "X 1978-08-11\n",
      "---\n",
      "Q Saturday, July 18, 1970      \n",
      "T 1970-07-18\n",
      "X 1978-08-11\n",
      "---\n",
      "Q october 6, 1992              \n",
      "T 1992-10-06\n",
      "X 1978-08-11\n",
      "---\n",
      "Q 8/23/08                      \n",
      "T 2008-08-23\n",
      "X 1978-08-11\n",
      "---\n",
      "Q 8/30/07                      \n",
      "T 2007-08-30\n",
      "X 1978-08-11\n",
      "---\n",
      "Q 10/28/13                     \n",
      "T 2013-10-28\n",
      "X 1978-08-11\n",
      "---\n",
      "Q sunday, november 6, 2016     \n",
      "T 2016-11-06\n",
      "X 1978-08-11\n",
      "---\n",
      "val acc 0.000%\n",
      "| 에폭 2 |  반복 1 / 351 | 시간 0[s] | 손실 1.00\n",
      "| 에폭 2 |  반복 21 / 351 | 시간 10[s] | 손실 1.00\n",
      "| 에폭 2 |  반복 41 / 351 | 시간 20[s] | 손실 0.99\n",
      "| 에폭 2 |  반복 61 / 351 | 시간 30[s] | 손실 0.99\n",
      "| 에폭 2 |  반복 81 / 351 | 시간 40[s] | 손실 0.99\n",
      "| 에폭 2 |  반복 101 / 351 | 시간 51[s] | 손실 0.99\n",
      "| 에폭 2 |  반복 121 / 351 | 시간 61[s] | 손실 0.99\n",
      "| 에폭 2 |  반복 141 / 351 | 시간 71[s] | 손실 0.98\n",
      "| 에폭 2 |  반복 161 / 351 | 시간 81[s] | 손실 0.98\n",
      "| 에폭 2 |  반복 181 / 351 | 시간 91[s] | 손실 0.97\n",
      "| 에폭 2 |  반복 201 / 351 | 시간 102[s] | 손실 0.95\n",
      "| 에폭 2 |  반복 221 / 351 | 시간 112[s] | 손실 0.94\n",
      "| 에폭 2 |  반복 241 / 351 | 시간 122[s] | 손실 0.90\n",
      "| 에폭 2 |  반복 261 / 351 | 시간 133[s] | 손실 0.83\n",
      "| 에폭 2 |  반복 281 / 351 | 시간 144[s] | 손실 0.74\n",
      "| 에폭 2 |  반복 301 / 351 | 시간 155[s] | 손실 0.66\n",
      "| 에폭 2 |  반복 321 / 351 | 시간 166[s] | 손실 0.58\n",
      "| 에폭 2 |  반복 341 / 351 | 시간 176[s] | 손실 0.47\n",
      "Q 10/15/94                     \n",
      "T 1994-10-15\n",
      "O 1994-10-15\n",
      "---\n",
      "Q thursday, november 13, 2008  \n",
      "T 2008-11-13\n",
      "X 2006-11-13\n",
      "---\n",
      "Q Mar 25, 2003                 \n",
      "T 2003-03-25\n",
      "O 2003-03-25\n",
      "---\n",
      "Q Tuesday, November 22, 2016   \n",
      "T 2016-11-22\n",
      "O 2016-11-22\n",
      "---\n",
      "Q Saturday, July 18, 1970      \n",
      "T 1970-07-18\n",
      "O 1970-07-18\n",
      "---\n",
      "Q october 6, 1992              \n",
      "T 1992-10-06\n",
      "O 1992-10-06\n",
      "---\n",
      "Q 8/23/08                      \n",
      "T 2008-08-23\n",
      "O 2008-08-23\n",
      "---\n",
      "Q 8/30/07                      \n",
      "T 2007-08-30\n",
      "X 2007-08-09\n",
      "---\n",
      "Q 10/28/13                     \n",
      "T 2013-10-28\n",
      "X 1983-10-28\n",
      "---\n",
      "Q sunday, november 6, 2016     \n",
      "T 2016-11-06\n",
      "X 2016-11-08\n",
      "---\n",
      "val acc 51.360%\n",
      "| 에폭 3 |  반복 1 / 351 | 시간 0[s] | 손실 0.35\n",
      "| 에폭 3 |  반복 21 / 351 | 시간 10[s] | 손실 0.30\n",
      "| 에폭 3 |  반복 41 / 351 | 시간 21[s] | 손실 0.21\n",
      "| 에폭 3 |  반복 61 / 351 | 시간 31[s] | 손실 0.14\n",
      "| 에폭 3 |  반복 81 / 351 | 시간 41[s] | 손실 0.09\n",
      "| 에폭 3 |  반복 101 / 351 | 시간 51[s] | 손실 0.07\n",
      "| 에폭 3 |  반복 121 / 351 | 시간 61[s] | 손실 0.05\n",
      "| 에폭 3 |  반복 141 / 351 | 시간 72[s] | 손실 0.04\n",
      "| 에폭 3 |  반복 161 / 351 | 시간 82[s] | 손실 0.03\n",
      "| 에폭 3 |  반복 181 / 351 | 시간 92[s] | 손실 0.03\n",
      "| 에폭 3 |  반복 201 / 351 | 시간 103[s] | 손실 0.02\n",
      "| 에폭 3 |  반복 221 / 351 | 시간 113[s] | 손실 0.02\n",
      "| 에폭 3 |  반복 241 / 351 | 시간 123[s] | 손실 0.02\n",
      "| 에폭 3 |  반복 261 / 351 | 시간 133[s] | 손실 0.01\n",
      "| 에폭 3 |  반복 281 / 351 | 시간 144[s] | 손실 0.01\n",
      "| 에폭 3 |  반복 301 / 351 | 시간 154[s] | 손실 0.01\n",
      "| 에폭 3 |  반복 321 / 351 | 시간 164[s] | 손실 0.01\n",
      "| 에폭 3 |  반복 341 / 351 | 시간 174[s] | 손실 0.01\n",
      "Q 10/15/94                     \n",
      "T 1994-10-15\n",
      "O 1994-10-15\n",
      "---\n",
      "Q thursday, november 13, 2008  \n",
      "T 2008-11-13\n",
      "O 2008-11-13\n",
      "---\n",
      "Q Mar 25, 2003                 \n",
      "T 2003-03-25\n",
      "O 2003-03-25\n",
      "---\n",
      "Q Tuesday, November 22, 2016   \n",
      "T 2016-11-22\n",
      "O 2016-11-22\n",
      "---\n",
      "Q Saturday, July 18, 1970      \n",
      "T 1970-07-18\n",
      "O 1970-07-18\n",
      "---\n",
      "Q october 6, 1992              \n",
      "T 1992-10-06\n",
      "O 1992-10-06\n",
      "---\n",
      "Q 8/23/08                      \n",
      "T 2008-08-23\n",
      "O 2008-08-23\n",
      "---\n",
      "Q 8/30/07                      \n",
      "T 2007-08-30\n",
      "O 2007-08-30\n",
      "---\n",
      "Q 10/28/13                     \n",
      "T 2013-10-28\n",
      "O 2013-10-28\n",
      "---\n",
      "Q sunday, november 6, 2016     \n",
      "T 2016-11-06\n",
      "O 2016-11-06\n",
      "---\n",
      "val acc 99.900%\n",
      "| 에폭 4 |  반복 1 / 351 | 시간 0[s] | 손실 0.01\n",
      "| 에폭 4 |  반복 21 / 351 | 시간 10[s] | 손실 0.01\n",
      "| 에폭 4 |  반복 41 / 351 | 시간 20[s] | 손실 0.01\n",
      "| 에폭 4 |  반복 61 / 351 | 시간 31[s] | 손실 0.01\n",
      "| 에폭 4 |  반복 81 / 351 | 시간 41[s] | 손실 0.01\n",
      "| 에폭 4 |  반복 101 / 351 | 시간 51[s] | 손실 0.01\n",
      "| 에폭 4 |  반복 121 / 351 | 시간 61[s] | 손실 0.00\n",
      "| 에폭 4 |  반복 141 / 351 | 시간 72[s] | 손실 0.01\n",
      "| 에폭 4 |  반복 161 / 351 | 시간 82[s] | 손실 0.00\n",
      "| 에폭 4 |  반복 181 / 351 | 시간 93[s] | 손실 0.00\n",
      "| 에폭 4 |  반복 201 / 351 | 시간 105[s] | 손실 0.00\n",
      "| 에폭 4 |  반복 221 / 351 | 시간 116[s] | 손실 0.00\n",
      "| 에폭 4 |  반복 241 / 351 | 시간 126[s] | 손실 0.00\n",
      "| 에폭 4 |  반복 261 / 351 | 시간 136[s] | 손실 0.00\n",
      "| 에폭 4 |  반복 281 / 351 | 시간 147[s] | 손실 0.00\n",
      "| 에폭 4 |  반복 301 / 351 | 시간 157[s] | 손실 0.00\n",
      "| 에폭 4 |  반복 321 / 351 | 시간 167[s] | 손실 0.00\n",
      "| 에폭 4 |  반복 341 / 351 | 시간 177[s] | 손실 0.00\n",
      "Q 10/15/94                     \n",
      "T 1994-10-15\n",
      "O 1994-10-15\n",
      "---\n",
      "Q thursday, november 13, 2008  \n",
      "T 2008-11-13\n",
      "O 2008-11-13\n",
      "---\n",
      "Q Mar 25, 2003                 \n",
      "T 2003-03-25\n",
      "O 2003-03-25\n",
      "---\n",
      "Q Tuesday, November 22, 2016   \n",
      "T 2016-11-22\n",
      "O 2016-11-22\n",
      "---\n",
      "Q Saturday, July 18, 1970      \n",
      "T 1970-07-18\n",
      "O 1970-07-18\n",
      "---\n",
      "Q october 6, 1992              \n",
      "T 1992-10-06\n",
      "O 1992-10-06\n",
      "---\n",
      "Q 8/23/08                      \n",
      "T 2008-08-23\n",
      "O 2008-08-23\n",
      "---\n",
      "Q 8/30/07                      \n",
      "T 2007-08-30\n",
      "O 2007-08-30\n",
      "---\n",
      "Q 10/28/13                     \n",
      "T 2013-10-28\n",
      "O 2013-10-28\n",
      "---\n",
      "Q sunday, november 6, 2016     \n",
      "T 2016-11-06\n",
      "O 2016-11-06\n",
      "---\n",
      "val acc 99.900%\n",
      "| 에폭 5 |  반복 1 / 351 | 시간 0[s] | 손실 0.00\n",
      "| 에폭 5 |  반복 21 / 351 | 시간 10[s] | 손실 0.00\n",
      "| 에폭 5 |  반복 41 / 351 | 시간 21[s] | 손실 0.00\n",
      "| 에폭 5 |  반복 61 / 351 | 시간 31[s] | 손실 0.00\n",
      "| 에폭 5 |  반복 81 / 351 | 시간 41[s] | 손실 0.00\n",
      "| 에폭 5 |  반복 101 / 351 | 시간 52[s] | 손실 0.00\n",
      "| 에폭 5 |  반복 121 / 351 | 시간 62[s] | 손실 0.00\n",
      "| 에폭 5 |  반복 141 / 351 | 시간 72[s] | 손실 0.00\n",
      "| 에폭 5 |  반복 161 / 351 | 시간 82[s] | 손실 0.00\n",
      "| 에폭 5 |  반복 181 / 351 | 시간 93[s] | 손실 0.00\n",
      "| 에폭 5 |  반복 201 / 351 | 시간 103[s] | 손실 0.00\n",
      "| 에폭 5 |  반복 221 / 351 | 시간 113[s] | 손실 0.00\n",
      "| 에폭 5 |  반복 241 / 351 | 시간 123[s] | 손실 0.00\n",
      "| 에폭 5 |  반복 261 / 351 | 시간 133[s] | 손실 0.00\n",
      "| 에폭 5 |  반복 281 / 351 | 시간 143[s] | 손실 0.00\n",
      "| 에폭 5 |  반복 301 / 351 | 시간 154[s] | 손실 0.00\n",
      "| 에폭 5 |  반복 321 / 351 | 시간 164[s] | 손실 0.00\n",
      "| 에폭 5 |  반복 341 / 351 | 시간 174[s] | 손실 0.00\n",
      "Q 10/15/94                     \n",
      "T 1994-10-15\n",
      "O 1994-10-15\n",
      "---\n",
      "Q thursday, november 13, 2008  \n",
      "T 2008-11-13\n",
      "O 2008-11-13\n",
      "---\n",
      "Q Mar 25, 2003                 \n",
      "T 2003-03-25\n",
      "O 2003-03-25\n",
      "---\n",
      "Q Tuesday, November 22, 2016   \n",
      "T 2016-11-22\n",
      "O 2016-11-22\n",
      "---\n",
      "Q Saturday, July 18, 1970      \n",
      "T 1970-07-18\n",
      "O 1970-07-18\n",
      "---\n",
      "Q october 6, 1992              \n",
      "T 1992-10-06\n",
      "O 1992-10-06\n",
      "---\n",
      "Q 8/23/08                      \n",
      "T 2008-08-23\n",
      "O 2008-08-23\n",
      "---\n",
      "Q 8/30/07                      \n",
      "T 2007-08-30\n",
      "O 2007-08-30\n",
      "---\n",
      "Q 10/28/13                     \n",
      "T 2013-10-28\n",
      "O 2013-10-28\n",
      "---\n",
      "Q sunday, november 6, 2016     \n",
      "T 2016-11-06\n",
      "O 2016-11-06\n",
      "---\n",
      "val acc 99.940%\n",
      "| 에폭 6 |  반복 1 / 351 | 시간 0[s] | 손실 0.00\n",
      "| 에폭 6 |  반복 21 / 351 | 시간 10[s] | 손실 0.00\n",
      "| 에폭 6 |  반복 41 / 351 | 시간 21[s] | 손실 0.00\n",
      "| 에폭 6 |  반복 61 / 351 | 시간 31[s] | 손실 0.00\n",
      "| 에폭 6 |  반복 81 / 351 | 시간 41[s] | 손실 0.00\n",
      "| 에폭 6 |  반복 101 / 351 | 시간 51[s] | 손실 0.00\n",
      "| 에폭 6 |  반복 121 / 351 | 시간 62[s] | 손실 0.00\n",
      "| 에폭 6 |  반복 141 / 351 | 시간 73[s] | 손실 0.00\n",
      "| 에폭 6 |  반복 161 / 351 | 시간 83[s] | 손실 0.00\n",
      "| 에폭 6 |  반복 181 / 351 | 시간 93[s] | 손실 0.00\n",
      "| 에폭 6 |  반복 201 / 351 | 시간 104[s] | 손실 0.00\n",
      "| 에폭 6 |  반복 221 / 351 | 시간 114[s] | 손실 0.00\n",
      "| 에폭 6 |  반복 241 / 351 | 시간 124[s] | 손실 0.00\n",
      "| 에폭 6 |  반복 261 / 351 | 시간 136[s] | 손실 0.00\n",
      "| 에폭 6 |  반복 281 / 351 | 시간 147[s] | 손실 0.00\n",
      "| 에폭 6 |  반복 301 / 351 | 시간 157[s] | 손실 0.00\n",
      "| 에폭 6 |  반복 321 / 351 | 시간 167[s] | 손실 0.00\n",
      "| 에폭 6 |  반복 341 / 351 | 시간 178[s] | 손실 0.01\n",
      "Q 10/15/94                     \n",
      "T 1994-10-15\n",
      "O 1994-10-15\n",
      "---\n",
      "Q thursday, november 13, 2008  \n",
      "T 2008-11-13\n",
      "O 2008-11-13\n",
      "---\n",
      "Q Mar 25, 2003                 \n",
      "T 2003-03-25\n",
      "O 2003-03-25\n",
      "---\n",
      "Q Tuesday, November 22, 2016   \n",
      "T 2016-11-22\n",
      "O 2016-11-22\n",
      "---\n",
      "Q Saturday, July 18, 1970      \n",
      "T 1970-07-18\n",
      "O 1970-07-18\n",
      "---\n",
      "Q october 6, 1992              \n",
      "T 1992-10-06\n",
      "O 1992-10-06\n",
      "---\n",
      "Q 8/23/08                      \n",
      "T 2008-08-23\n",
      "O 2008-08-23\n",
      "---\n",
      "Q 8/30/07                      \n",
      "T 2007-08-30\n",
      "O 2007-08-30\n",
      "---\n"
     ]
    },
    {
     "name": "stdout",
     "output_type": "stream",
     "text": [
      "Q 10/28/13                     \n",
      "T 2013-10-28\n",
      "X 2013-02-28\n",
      "---\n",
      "Q sunday, november 6, 2016     \n",
      "T 2016-11-06\n",
      "O 2016-11-06\n",
      "---\n",
      "val acc 91.300%\n",
      "| 에폭 7 |  반복 1 / 351 | 시간 0[s] | 손실 0.03\n",
      "| 에폭 7 |  반복 21 / 351 | 시간 12[s] | 손실 0.02\n",
      "| 에폭 7 |  반복 41 / 351 | 시간 24[s] | 손실 0.00\n",
      "| 에폭 7 |  반복 61 / 351 | 시간 35[s] | 손실 0.00\n",
      "| 에폭 7 |  반복 81 / 351 | 시간 45[s] | 손실 0.00\n",
      "| 에폭 7 |  반복 101 / 351 | 시간 56[s] | 손실 0.00\n",
      "| 에폭 7 |  반복 121 / 351 | 시간 66[s] | 손실 0.00\n",
      "| 에폭 7 |  반복 141 / 351 | 시간 76[s] | 손실 0.00\n",
      "| 에폭 7 |  반복 161 / 351 | 시간 87[s] | 손실 0.00\n",
      "| 에폭 7 |  반복 181 / 351 | 시간 97[s] | 손실 0.00\n",
      "| 에폭 7 |  반복 201 / 351 | 시간 107[s] | 손실 0.00\n",
      "| 에폭 7 |  반복 221 / 351 | 시간 117[s] | 손실 0.00\n",
      "| 에폭 7 |  반복 241 / 351 | 시간 128[s] | 손실 0.00\n",
      "| 에폭 7 |  반복 261 / 351 | 시간 139[s] | 손실 0.00\n",
      "| 에폭 7 |  반복 281 / 351 | 시간 151[s] | 손실 0.00\n",
      "| 에폭 7 |  반복 301 / 351 | 시간 162[s] | 손실 0.00\n",
      "| 에폭 7 |  반복 321 / 351 | 시간 174[s] | 손실 0.00\n",
      "| 에폭 7 |  반복 341 / 351 | 시간 185[s] | 손실 0.00\n",
      "Q 10/15/94                     \n",
      "T 1994-10-15\n",
      "O 1994-10-15\n",
      "---\n",
      "Q thursday, november 13, 2008  \n",
      "T 2008-11-13\n",
      "O 2008-11-13\n",
      "---\n",
      "Q Mar 25, 2003                 \n",
      "T 2003-03-25\n",
      "O 2003-03-25\n",
      "---\n",
      "Q Tuesday, November 22, 2016   \n",
      "T 2016-11-22\n",
      "O 2016-11-22\n",
      "---\n",
      "Q Saturday, July 18, 1970      \n",
      "T 1970-07-18\n",
      "O 1970-07-18\n",
      "---\n",
      "Q october 6, 1992              \n",
      "T 1992-10-06\n",
      "O 1992-10-06\n",
      "---\n",
      "Q 8/23/08                      \n",
      "T 2008-08-23\n",
      "O 2008-08-23\n",
      "---\n",
      "Q 8/30/07                      \n",
      "T 2007-08-30\n",
      "O 2007-08-30\n",
      "---\n",
      "Q 10/28/13                     \n",
      "T 2013-10-28\n",
      "O 2013-10-28\n",
      "---\n",
      "Q sunday, november 6, 2016     \n",
      "T 2016-11-06\n",
      "O 2016-11-06\n",
      "---\n",
      "val acc 100.000%\n",
      "| 에폭 8 |  반복 1 / 351 | 시간 0[s] | 손실 0.00\n",
      "| 에폭 8 |  반복 21 / 351 | 시간 10[s] | 손실 0.00\n",
      "| 에폭 8 |  반복 41 / 351 | 시간 22[s] | 손실 0.00\n",
      "| 에폭 8 |  반복 61 / 351 | 시간 32[s] | 손실 0.00\n",
      "| 에폭 8 |  반복 81 / 351 | 시간 42[s] | 손실 0.00\n",
      "| 에폭 8 |  반복 101 / 351 | 시간 53[s] | 손실 0.00\n",
      "| 에폭 8 |  반복 121 / 351 | 시간 63[s] | 손실 0.00\n",
      "| 에폭 8 |  반복 141 / 351 | 시간 73[s] | 손실 0.00\n",
      "| 에폭 8 |  반복 161 / 351 | 시간 83[s] | 손실 0.00\n",
      "| 에폭 8 |  반복 181 / 351 | 시간 94[s] | 손실 0.00\n",
      "| 에폭 8 |  반복 201 / 351 | 시간 104[s] | 손실 0.00\n",
      "| 에폭 8 |  반복 221 / 351 | 시간 114[s] | 손실 0.00\n",
      "| 에폭 8 |  반복 241 / 351 | 시간 124[s] | 손실 0.00\n",
      "| 에폭 8 |  반복 261 / 351 | 시간 134[s] | 손실 0.00\n",
      "| 에폭 8 |  반복 281 / 351 | 시간 145[s] | 손실 0.00\n",
      "| 에폭 8 |  반복 301 / 351 | 시간 155[s] | 손실 0.00\n",
      "| 에폭 8 |  반복 321 / 351 | 시간 165[s] | 손실 0.00\n",
      "| 에폭 8 |  반복 341 / 351 | 시간 175[s] | 손실 0.00\n",
      "Q 10/15/94                     \n",
      "T 1994-10-15\n",
      "O 1994-10-15\n",
      "---\n",
      "Q thursday, november 13, 2008  \n",
      "T 2008-11-13\n",
      "O 2008-11-13\n",
      "---\n",
      "Q Mar 25, 2003                 \n",
      "T 2003-03-25\n",
      "O 2003-03-25\n",
      "---\n",
      "Q Tuesday, November 22, 2016   \n",
      "T 2016-11-22\n",
      "O 2016-11-22\n",
      "---\n",
      "Q Saturday, July 18, 1970      \n",
      "T 1970-07-18\n",
      "O 1970-07-18\n",
      "---\n",
      "Q october 6, 1992              \n",
      "T 1992-10-06\n",
      "O 1992-10-06\n",
      "---\n",
      "Q 8/23/08                      \n",
      "T 2008-08-23\n",
      "O 2008-08-23\n",
      "---\n",
      "Q 8/30/07                      \n",
      "T 2007-08-30\n",
      "O 2007-08-30\n",
      "---\n",
      "Q 10/28/13                     \n",
      "T 2013-10-28\n",
      "O 2013-10-28\n",
      "---\n",
      "Q sunday, november 6, 2016     \n",
      "T 2016-11-06\n",
      "O 2016-11-06\n",
      "---\n",
      "val acc 100.000%\n",
      "| 에폭 9 |  반복 1 / 351 | 시간 0[s] | 손실 0.00\n",
      "| 에폭 9 |  반복 21 / 351 | 시간 10[s] | 손실 0.00\n",
      "| 에폭 9 |  반복 41 / 351 | 시간 20[s] | 손실 0.00\n",
      "| 에폭 9 |  반복 61 / 351 | 시간 30[s] | 손실 0.00\n",
      "| 에폭 9 |  반복 81 / 351 | 시간 41[s] | 손실 0.00\n",
      "| 에폭 9 |  반복 101 / 351 | 시간 51[s] | 손실 0.00\n",
      "| 에폭 9 |  반복 121 / 351 | 시간 61[s] | 손실 0.00\n",
      "| 에폭 9 |  반복 141 / 351 | 시간 71[s] | 손실 0.00\n",
      "| 에폭 9 |  반복 161 / 351 | 시간 81[s] | 손실 0.00\n",
      "| 에폭 9 |  반복 181 / 351 | 시간 92[s] | 손실 0.00\n",
      "| 에폭 9 |  반복 201 / 351 | 시간 102[s] | 손실 0.00\n",
      "| 에폭 9 |  반복 221 / 351 | 시간 112[s] | 손실 0.00\n",
      "| 에폭 9 |  반복 241 / 351 | 시간 122[s] | 손실 0.00\n",
      "| 에폭 9 |  반복 261 / 351 | 시간 132[s] | 손실 0.00\n",
      "| 에폭 9 |  반복 281 / 351 | 시간 143[s] | 손실 0.00\n",
      "| 에폭 9 |  반복 301 / 351 | 시간 153[s] | 손실 0.00\n",
      "| 에폭 9 |  반복 321 / 351 | 시간 163[s] | 손실 0.00\n",
      "| 에폭 9 |  반복 341 / 351 | 시간 173[s] | 손실 0.00\n",
      "Q 10/15/94                     \n",
      "T 1994-10-15\n",
      "O 1994-10-15\n",
      "---\n",
      "Q thursday, november 13, 2008  \n",
      "T 2008-11-13\n",
      "O 2008-11-13\n",
      "---\n",
      "Q Mar 25, 2003                 \n",
      "T 2003-03-25\n",
      "O 2003-03-25\n",
      "---\n",
      "Q Tuesday, November 22, 2016   \n",
      "T 2016-11-22\n",
      "O 2016-11-22\n",
      "---\n",
      "Q Saturday, July 18, 1970      \n",
      "T 1970-07-18\n",
      "O 1970-07-18\n",
      "---\n",
      "Q october 6, 1992              \n",
      "T 1992-10-06\n",
      "O 1992-10-06\n",
      "---\n",
      "Q 8/23/08                      \n",
      "T 2008-08-23\n",
      "O 2008-08-23\n",
      "---\n",
      "Q 8/30/07                      \n",
      "T 2007-08-30\n",
      "O 2007-08-30\n",
      "---\n",
      "Q 10/28/13                     \n",
      "T 2013-10-28\n",
      "O 2013-10-28\n",
      "---\n",
      "Q sunday, november 6, 2016     \n",
      "T 2016-11-06\n",
      "O 2016-11-06\n",
      "---\n",
      "val acc 100.000%\n",
      "| 에폭 10 |  반복 1 / 351 | 시간 0[s] | 손실 0.00\n",
      "| 에폭 10 |  반복 21 / 351 | 시간 10[s] | 손실 0.00\n",
      "| 에폭 10 |  반복 41 / 351 | 시간 21[s] | 손실 0.00\n",
      "| 에폭 10 |  반복 61 / 351 | 시간 31[s] | 손실 0.00\n",
      "| 에폭 10 |  반복 81 / 351 | 시간 41[s] | 손실 0.00\n",
      "| 에폭 10 |  반복 101 / 351 | 시간 51[s] | 손실 0.00\n",
      "| 에폭 10 |  반복 121 / 351 | 시간 62[s] | 손실 0.00\n",
      "| 에폭 10 |  반복 141 / 351 | 시간 72[s] | 손실 0.00\n",
      "| 에폭 10 |  반복 161 / 351 | 시간 82[s] | 손실 0.00\n",
      "| 에폭 10 |  반복 181 / 351 | 시간 92[s] | 손실 0.00\n",
      "| 에폭 10 |  반복 201 / 351 | 시간 103[s] | 손실 0.00\n",
      "| 에폭 10 |  반복 221 / 351 | 시간 113[s] | 손실 0.00\n",
      "| 에폭 10 |  반복 241 / 351 | 시간 123[s] | 손실 0.00\n",
      "| 에폭 10 |  반복 261 / 351 | 시간 133[s] | 손실 0.00\n",
      "| 에폭 10 |  반복 281 / 351 | 시간 143[s] | 손실 0.00\n",
      "| 에폭 10 |  반복 301 / 351 | 시간 153[s] | 손실 0.00\n",
      "| 에폭 10 |  반복 321 / 351 | 시간 164[s] | 손실 0.00\n",
      "| 에폭 10 |  반복 341 / 351 | 시간 174[s] | 손실 0.00\n",
      "Q 10/15/94                     \n",
      "T 1994-10-15\n",
      "O 1994-10-15\n",
      "---\n",
      "Q thursday, november 13, 2008  \n",
      "T 2008-11-13\n",
      "O 2008-11-13\n",
      "---\n",
      "Q Mar 25, 2003                 \n",
      "T 2003-03-25\n",
      "O 2003-03-25\n",
      "---\n",
      "Q Tuesday, November 22, 2016   \n",
      "T 2016-11-22\n",
      "O 2016-11-22\n",
      "---\n",
      "Q Saturday, July 18, 1970      \n",
      "T 1970-07-18\n",
      "O 1970-07-18\n",
      "---\n",
      "Q october 6, 1992              \n",
      "T 1992-10-06\n",
      "O 1992-10-06\n",
      "---\n",
      "Q 8/23/08                      \n",
      "T 2008-08-23\n",
      "O 2008-08-23\n",
      "---\n",
      "Q 8/30/07                      \n",
      "T 2007-08-30\n",
      "O 2007-08-30\n",
      "---\n",
      "Q 10/28/13                     \n",
      "T 2013-10-28\n",
      "O 2013-10-28\n",
      "---\n",
      "Q sunday, november 6, 2016     \n",
      "T 2016-11-06\n",
      "O 2016-11-06\n",
      "---\n",
      "val acc 100.000%\n"
     ]
    }
   ],
   "source": [
    "# 데이터 읽기\n",
    "(x_train, t_train), (x_test, t_test) = sequence.load_data('date.txt')\n",
    "char_to_id, id_to_char = sequence.get_vocab()\n",
    "\n",
    "# 입력 문장 반전\n",
    "x_train, x_test = x_train[:, ::-1], x_test[:, ::-1]\n",
    "\n",
    "# 하이퍼파라미터 설정\n",
    "vocab_size = len(char_to_id)\n",
    "wordvec_size = 16\n",
    "hidden_size = 256\n",
    "batch_size = 128\n",
    "max_epoch = 10\n",
    "max_grad = 5.0\n",
    "\n",
    "model = AttentionSeq2seq(vocab_size, wordvec_size, hidden_size)\n",
    "optimizer = Adam()\n",
    "trainer = Trainer(model, optimizer)\n",
    "\n",
    "acc_list = []\n",
    "for epoch in range(max_epoch):\n",
    "    trainer.fit(x_train, t_train, max_epoch=1, batch_size=batch_size, max_grad=max_grad)\n",
    "    \n",
    "    correct_num = 0\n",
    "    for i in range(len(x_test)):\n",
    "        question, correct = x_test[[i]], t_test[[i]]\n",
    "        verbose = i < 10\n",
    "        correct_num += eval_seq2seq(model, question, correct, id_to_char, verbose, is_reverse=True)\n",
    "        \n",
    "    acc = float(correct_num) / len(x_test)\n",
    "    acc_list.append(acc)\n",
    "    print('val acc %.3f%%' % (acc * 100))\n",
    "    \n",
    "model.save_params()"
   ]
  },
  {
   "cell_type": "code",
   "execution_count": 21,
   "metadata": {},
   "outputs": [
    {
     "data": {
      "image/png": "[encoded data removed]",
      "text/plain": [
       "<Figure size 432x288 with 1 Axes>"
      ]
     },
     "metadata": {
      "needs_background": "light"
     },
     "output_type": "display_data"
    }
   ],
   "source": [
    "import matplotlib.pyplot as plt\n",
    "\n",
    "x = np.arange(len(acc_list))\n",
    "plt.plot(x, acc_list, marker='o')\n",
    "plt.xlabel('epochs')\n",
    "plt.ylabel('accuracy')\n",
    "plt.ylim(-0.05, 1.05)\n",
    "plt.show()"
   ]
  },
  {
   "cell_type": "markdown",
   "metadata": {},
   "source": [
    "<img src=\"./images/fig8-26.png\" width=600>\n",
    "\n",
    "기본 seq2seq는 쓸모가 없고 peeky와 어텐션은 비슷한 정확도를 보였다. 학습 속도는 어텐션이 우세했다.\n",
    "\n",
    "현실의 시계열은 훨씬 복잡하므로 어텐션이 더욱 우세할 것이다."
   ]
  },
  {
   "cell_type": "markdown",
   "metadata": {},
   "source": [
    "### 8.3.3 어텐션 시각화"
   ]
  },
  {
   "cell_type": "markdown",
   "metadata": {},
   "source": [
    "Time Attention 계층의 인스턴스 변수 attention_weight에 각 시각의 어텐션 가중치를 이용하면 입력 문장과 출력 문장의 단어 대응 관계를 2차원 맵으로 그릴 수 있다."
   ]
  },
  {
   "cell_type": "code",
   "execution_count": 22,
   "metadata": {},
   "outputs": [
    {
     "data": {
      "image/png": "[encoded data removed]",
      "text/plain": [
       "<Figure size 432x288 with 1 Axes>"
      ]
     },
     "metadata": {
      "needs_background": "light"
     },
     "output_type": "display_data"
    },
    {
     "data": {
      "image/png": "[encoded data removed]",
      "text/plain": [
       "<Figure size 432x288 with 1 Axes>"
      ]
     },
     "metadata": {
      "needs_background": "light"
     },
     "output_type": "display_data"
    },
    {
     "data": {
      "image/png": "[encoded data removed]",
      "text/plain": [
       "<Figure size 432x288 with 1 Axes>"
      ]
     },
     "metadata": {
      "needs_background": "light"
     },
     "output_type": "display_data"
    },
    {
     "data": {
      "image/png": "[encoded data removed]",
      "text/plain": [
       "<Figure size 432x288 with 1 Axes>"
      ]
     },
     "metadata": {
      "needs_background": "light"
     },
     "output_type": "display_data"
    },
    {
     "data": {
      "image/png": "[encoded data removed]",
      "text/plain": [
       "<Figure size 432x288 with 1 Axes>"
      ]
     },
     "metadata": {
      "needs_background": "light"
     },
     "output_type": "display_data"
    }
   ],
   "source": [
    "import numpy as np\n",
    "from dataset import sequence\n",
    "import matplotlib.pyplot as plt\n",
    "from attention_seq2seq import AttentionSeq2seq\n",
    "\n",
    "\n",
    "(x_train, t_train), (x_test, t_test) = \\\n",
    "    sequence.load_data('date.txt')\n",
    "char_to_id, id_to_char = sequence.get_vocab()\n",
    "\n",
    "# 입력 문장 반전\n",
    "x_train, x_test = x_train[:, ::-1], x_test[:, ::-1]\n",
    "\n",
    "vocab_size = len(char_to_id)\n",
    "wordvec_size = 16\n",
    "hidden_size = 256\n",
    "\n",
    "model = AttentionSeq2seq(vocab_size, wordvec_size, hidden_size)\n",
    "model.load_params()\n",
    "\n",
    "_idx = 0\n",
    "def visualize(attention_map, row_labels, column_labels):\n",
    "    fig, ax = plt.subplots()\n",
    "    ax.pcolor(attention_map, cmap=plt.cm.Greys_r, vmin=0.0, vmax=1.0)\n",
    "\n",
    "    ax.patch.set_facecolor('black')\n",
    "    ax.set_yticks(np.arange(attention_map.shape[0])+0.5, minor=False)\n",
    "    ax.set_xticks(np.arange(attention_map.shape[1])+0.5, minor=False)\n",
    "    ax.invert_yaxis()\n",
    "    ax.set_xticklabels(row_labels, minor=False)\n",
    "    ax.set_yticklabels(column_labels, minor=False)\n",
    "\n",
    "    global _idx\n",
    "    _idx += 1\n",
    "    plt.show()\n",
    "\n",
    "\n",
    "np.random.seed(1984)\n",
    "for _ in range(5):\n",
    "    idx = [np.random.randint(0, len(x_test))]\n",
    "    x = x_test[idx]\n",
    "    t = t_test[idx]\n",
    "\n",
    "    model.forward(x, t)\n",
    "    d = model.decoder.attention.attention_weights\n",
    "    d = np.array(d)\n",
    "    attention_map = d.reshape(d.shape[0], d.shape[2])\n",
    "\n",
    "    # 출력하기 위해 반전\n",
    "    attention_map = attention_map[:,::-1]\n",
    "    x = x[:,::-1]\n",
    "\n",
    "    row_labels = [id_to_char[i] for i in x[0]]\n",
    "    column_labels = [id_to_char[i] for i in t[0]]\n",
    "    column_labels = column_labels[1:]\n",
    "\n",
    "    visualize(attention_map, row_labels, column_labels)"
   ]
  },
  {
   "cell_type": "markdown",
   "metadata": {},
   "source": [
    "## 8.4 어텐션에 관한 남은 이야기"
   ]
  },
  {
   "cell_type": "markdown",
   "metadata": {},
   "source": [
    "### 8.4.1 양방향 RNN"
   ]
  },
  {
   "cell_type": "markdown",
   "metadata": {},
   "source": [
    "양방향 LSTM에서는 역방향도 처리하는 LSTM 계층을 추가해서 각 시각마다 두 LSTM 계층의 은닉 상태를 연결시킨 벡터를 최종 은닉 상태로 처리한다(연결 이외에도, 합하거나 평균하는 방법도 있다).\n",
    "\n",
    "양방향으로 처리하게 되면 은닉 상태 벡터에 좌, 우 양쪽 방향의 균형 잡힌 정보를 인코딩할 수 있다는 이점이 있다.\n",
    "\n",
    "구현은 단순히 입력 단어를 반대로 나열해서 입력하는 LSTM 계층을 하나 더 만든 다음 정방향으로 처리하는 계층의 출력과 연결해주면 된다."
   ]
  },
  {
   "cell_type": "code",
   "execution_count": 23,
   "metadata": {},
   "outputs": [],
   "source": [
    "class TimeBiLSTM:\n",
    "    def __init__(self, Wx1, Wh1, b1,\n",
    "                 Wx2, Wh2, b2, stateful=False):\n",
    "        self.forward_lstm = TimeLSTM(Wx1, Wh1, b1, stateful)\n",
    "        self.backward_lstm = TimeLSTM(Wx2, Wh2, b2, stateful)\n",
    "        self.params = self.forward_lstm.params + self.backward_lstm.params\n",
    "        self.grads = self.forward_lstm.grads + self.backward_lstm.grads\n",
    "\n",
    "    def forward(self, xs):\n",
    "        o1 = self.forward_lstm.forward(xs)\n",
    "        o2 = self.backward_lstm.forward(xs[:, ::-1])\n",
    "        o2 = o2[:, ::-1]\n",
    "\n",
    "        out = np.concatenate((o1, o2), axis=2)\n",
    "        return out\n",
    "\n",
    "    def backward(self, dhs):\n",
    "        H = dhs.shape[2] // 2\n",
    "        do1 = dhs[:, :, :H]\n",
    "        do2 = dhs[:, :, H:]\n",
    "\n",
    "        dxs1 = self.forward_lstm.backward(do1)\n",
    "        do2 = do2[:, ::-1]\n",
    "        dxs2 = self.backward_lstm.backward(do2)\n",
    "        dxs2 = dxs2[:, ::-1]\n",
    "        dxs = dxs1 + dxs2\n",
    "        return dxs"
   ]
  },
  {
   "cell_type": "markdown",
   "metadata": {},
   "source": [
    "### 8.4.2 Attention 계층 사용 방법"
   ]
  },
  {
   "cell_type": "markdown",
   "metadata": {},
   "source": [
    "<img src=\"./images/fig8-32.png\" width=700>\n",
    "\n",
    "이번 예시에서는 Attention 계층의 출력이 다음 시각의 LSTM 계층에 입력되도록 연결했다. 이전에 직접 구현한 경우는 Affine 계층에서 맥락 벡터를 이용한 반면 이 경우에는 LSTM 계층에서 맥락 벡터를 이용한다.\n",
    "\n",
    "구현 관점에서는 LSTM과 Affine 계층 사이에 Attention 계층을 삽입하는 것이 쉽다. 최종 정확도는 실험해봐야 알 수 있겠지만 큰 차이가 없을 것이라고 판단된다."
   ]
  },
  {
   "cell_type": "markdown",
   "metadata": {},
   "source": [
    "### 8.4.3 seq2seq 심층화와 skip 연결"
   ]
  },
  {
   "cell_type": "markdown",
   "metadata": {},
   "source": [
    "<img src=\"./images/fig8-33.png\" width=700>\n",
    "\n",
    "일반적으로 Encoder과 Decoder의 LSTM 계층을 동일한 수로 구성한다. 이외에도 여러 방식으로 심층화할 수 있다.\n",
    "\n",
    "<img src=\"./images/fig8-34.png\" width=300>\n",
    "\n",
    "층을 깊게 할 때 기울기가 잘 흐를 수 있도록 하는 방법으로 **skip 연결**이 있다. skip 연결은 단순히 설명하자면 계층을 건너뛰는 연결이다. skip 연결은 LSTM의 출력과 LSTM을 통과하지 않은 출력의 잔차의 원소별 덧셈을 해준다. 덧셈은 역전파 시 기울기를 그대로 흘려보낼 수 있게 해준다.\n",
    "\n",
    "층을 깊게 하면 여전히 오버피팅 문제가 발생할 수 있기 때문에 일반화 성능을 유지해주기 위해서 드롭아웃과 가중치 공유 등의 기술을 사용한다."
   ]
  },
  {
   "cell_type": "markdown",
   "metadata": {},
   "source": [
    "## 8.5 어텐션 응용"
   ]
  },
  {
   "cell_type": "markdown",
   "metadata": {},
   "source": [
    "### 8.5.1 구글 신경망 기계 번역(GNMT)"
   ]
  },
  {
   "cell_type": "markdown",
   "metadata": {},
   "source": [
    "#### 기계 번역의 역사\n",
    "\n",
    "규칙 기반 - 용례 기반 - 통계 기반 - 신경망 기계 번역(NMT)\n",
    "\n",
    "<img src=\"./images/fig8-35.png\" width=700>\n",
    "\n",
    "#### GNMT의 특징\n",
    "\n",
    "- seq2seq: Encoder, Decoder, Attention으로 구성\n",
    "- LSTM 다층화\n",
    "- 양방향 LSTM(첫번째 계층만)\n",
    "- skip 연결\n",
    "- GPU 분산 학습\n",
    "- 양자화: 낮은 빈도의 단어 처리나 추론 고속화 위해\n",
    "\n",
    "GNMT의 정확도는 사람이 한 번역의 정확도와 매우 가까워지고 있다. 하지만 여전히 부족한 부분도 존재한다."
   ]
  },
  {
   "cell_type": "markdown",
   "metadata": {},
   "source": [
    "### 8.5.2 트랜스포머"
   ]
  },
  {
   "cell_type": "markdown",
   "metadata": {},
   "source": [
    "RNN은 이전 시각의 계산 결과를 이용해서 순서대로 계산해야 하기 때문에 병렬 계산이 기본적으로 불가능하다.\n",
    "\n",
    "병렬 계산을 위한 RNN 연구 중 유명한 것이 'Attention is all you need'라는 논문에서 제안한 트랜스포머 모델이다.\n",
    "\n",
    "<img src=\"./images/fig8-37.png\" width=600>\n",
    "\n",
    "트랜스포머의 핵심은 셀프어텐션이다. 셀프어텐션은 하나의 시계열 내에서 원소 간 대응 관계를 구하는 방법이다. 두 개의 서로 다른 시계열을 입력으로 받아서 대응 관계를 보는 것이 아닌 하나의 시계열을 입력으로 받는다.\n",
    "\n",
    "<img src=\"./images/fig8-38.png\" width=600>\n",
    "\n",
    "트랜스포머에서는 RNN 대신 어텐션을 사용한다. Encoder와 Decoder는 모두 셀프어텐션을 사용한다. 그리고 은닉층이 1개이고 활성화 함수로 ReLU를 이용한 완전연결계층 신경망(피드포워드 신경망)을 다음 계층으로 쌓는다. 위의 그림에서 회색으로 둘러쌓은 부분을 N겹으로 쌓았다.\n",
    "\n",
    "실제 트랜스포머에서는 skip 연결과 계층 정규화, 위치 인코딩, 다수의 어텐션을 이용하는 등 더욱 복잡하지만 그림에서는 설명을 위해 축약된 모델을 표현하고 있다.\n",
    "\n",
    "트랜스포머를 이용하면 계산량을 줄이고 GPU를 이용한 병렬 계산의 혜택도 누릴 수 있다. 뿐만 아니라 정확도도 향상시킬 수 있다."
   ]
  },
  {
   "cell_type": "markdown",
   "metadata": {},
   "source": [
    "### 8.5.3 뉴럴 튜링 머신(NTM)"
   ]
  },
  {
   "cell_type": "markdown",
   "metadata": {},
   "source": [
    "뉴럴 튜링 머신의 컨셉은 RNN 외부에 정보 저장용 메모리 기능을 배치하고, 어텐션을 이용하여 그 메모리로부터 필요한 정보를 읽거나 쓰는 것이다.\n",
    "\n",
    "<img src=\"./images/fig8-41.png\" width=700>\n",
    "\n",
    "#### 처리 방식 설명\n",
    "\n",
    "LSTM 계층이 컨트롤라가 되어 NTM의 주된 처리를 한다. LSTM 계층의 은닉 상태를 Write Head 계층이 받아서 필요한 정보를 메모리에 쓴다. 다음으로 Read Head 계층이 메모리로부터 중요한 정보를 읽어 다음 시각의 LSTM 계층으로 전달한다. 메모리 조작은 콘텐츠 기반 어텐션과 위치 기반 어텐션을 이용한다.\n",
    "\n",
    "콘텐츠 기반 어텐션은 지금까지 본 어텐션과 동일하고, 입력으로 주어진 벡터와 비슷한 벡터를 메모리로부터 찾아내는 용도로 이용된다.\n",
    "\n",
    "위치 기반 어텐션은 이전 시각에서 주목한 메모리의 위치를 기준으로 전후로 이동하는 용도로 사용된다. 1차원 합성곱 연산을 통해 구현된다.\n",
    "\n",
    "메모리 조작은 이미 언급한 어텐션에서 선택 작업을 미분 가능한 문제로 대체하는 방식과 유사한 방식을 이용한다.\n",
    "\n",
    "NTM의 성과는 seq2seq으로만으로 풀지 못 했던 복잡한 문제에서 효과를 발휘하고 있다는 점이다. 특히 주어진 동작을 학습하는 것이 아닌 알고리즘 자체를 학습할 수도 있다."
   ]
  },
  {
   "cell_type": "code",
   "execution_count": null,
   "metadata": {},
   "outputs": [],
   "source": []
  }
 ],
 "metadata": {
  "kernelspec": {
   "display_name": "Python 3",
   "language": "python",
   "name": "python3"
  },
  "language_info": {
   "codemirror_mode": {
    "name": "ipython",
    "version": 3
   },
   "file_extension": ".py",
   "mimetype": "text/x-python",
   "name": "python",
   "nbconvert_exporter": "python",
   "pygments_lexer": "ipython3",
   "version": "3.7.3"
  }
 },
 "nbformat": 4,
 "nbformat_minor": 2
}
