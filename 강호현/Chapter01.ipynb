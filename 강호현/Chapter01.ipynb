{
 "cells": [
  {
   "cell_type": "markdown",
   "metadata": {},
   "source": [
    "## 그래프 시각화"
   ]
  },
  {
   "cell_type": "code",
   "execution_count": 21,
   "metadata": {},
   "outputs": [],
   "source": [
    "from pylab import rcParams\n",
    "rcParams['figure.figsize'] = 10, 10\n",
    "import matplotlib.font_manager as fm\n",
    "import matplotlib\n",
    "\n",
    "font_path = '/Library/Fonts/NanumGothic.ttf'\n",
    "fontprop = fm.FontProperties(fname=font_path, size=10)\n",
    "font_name =  fm.FontProperties(fname=font_path, size=10).get_name()\n",
    "\n",
    "matplotlib.rc('font', family=font_name)\n",
    "fm._rebuild()"
   ]
  },
  {
   "cell_type": "markdown",
   "metadata": {},
   "source": [
    "# Chapter 1. 신경망복습\n",
    "## 수학과 파이썬 복습"
   ]
  },
  {
   "cell_type": "code",
   "execution_count": 1,
   "metadata": {},
   "outputs": [
    {
     "data": {
      "text/plain": [
       "numpy.ndarray"
      ]
     },
     "execution_count": 1,
     "metadata": {},
     "output_type": "execute_result"
    }
   ],
   "source": [
    "# 벡터와 행렬\n",
    "import numpy as np\n",
    "\n",
    "x = np.array([1,2,3])\n",
    "x.__class__ # 클래스 이름 표기"
   ]
  },
  {
   "cell_type": "code",
   "execution_count": 2,
   "metadata": {},
   "outputs": [
    {
     "data": {
      "text/plain": [
       "(3,)"
      ]
     },
     "execution_count": 2,
     "metadata": {},
     "output_type": "execute_result"
    }
   ],
   "source": [
    "x.shape"
   ]
  },
  {
   "cell_type": "code",
   "execution_count": 6,
   "metadata": {},
   "outputs": [
    {
     "data": {
      "text/plain": [
       "1"
      ]
     },
     "execution_count": 6,
     "metadata": {},
     "output_type": "execute_result"
    }
   ],
   "source": [
    "x.ndim #1차원 배열이고 원소 수 3개인 벡터"
   ]
  },
  {
   "cell_type": "code",
   "execution_count": 7,
   "metadata": {},
   "outputs": [],
   "source": [
    "W = np.array([[1,2,3],[4,5,6]])"
   ]
  },
  {
   "cell_type": "code",
   "execution_count": 8,
   "metadata": {},
   "outputs": [
    {
     "data": {
      "text/plain": [
       "(2, 3)"
      ]
     },
     "execution_count": 8,
     "metadata": {},
     "output_type": "execute_result"
    }
   ],
   "source": [
    "W.shape"
   ]
  },
  {
   "cell_type": "code",
   "execution_count": 9,
   "metadata": {},
   "outputs": [
    {
     "data": {
      "text/plain": [
       "2"
      ]
     },
     "execution_count": 9,
     "metadata": {},
     "output_type": "execute_result"
    }
   ],
   "source": [
    "W.ndim"
   ]
  },
  {
   "cell_type": "code",
   "execution_count": 11,
   "metadata": {},
   "outputs": [
    {
     "data": {
      "text/plain": [
       "array([[ 1,  3,  5],\n",
       "       [ 7,  9, 11]])"
      ]
     },
     "execution_count": 11,
     "metadata": {},
     "output_type": "execute_result"
    }
   ],
   "source": [
    "#행렬의 원소별(element-wise) 연산\n",
    "W = np.array([[1,2,3],[4,5,6]])\n",
    "X = np.array([[0,1,2],[3,4,5]])\n",
    "W+X"
   ]
  },
  {
   "cell_type": "code",
   "execution_count": 12,
   "metadata": {},
   "outputs": [
    {
     "data": {
      "text/plain": [
       "array([[ 0,  2,  6],\n",
       "       [12, 20, 30]])"
      ]
     },
     "execution_count": 12,
     "metadata": {},
     "output_type": "execute_result"
    }
   ],
   "source": [
    "W*X"
   ]
  },
  {
   "cell_type": "code",
   "execution_count": 13,
   "metadata": {},
   "outputs": [
    {
     "data": {
      "text/plain": [
       "array([[10, 20],\n",
       "       [30, 40]])"
      ]
     },
     "execution_count": 13,
     "metadata": {},
     "output_type": "execute_result"
    }
   ],
   "source": [
    "# 브로드캐스트\n",
    "A = np.array([[1,2],[3,4]])\n",
    "A*10"
   ]
  },
  {
   "cell_type": "code",
   "execution_count": 15,
   "metadata": {},
   "outputs": [
    {
     "data": {
      "text/plain": [
       "array([[10, 40],\n",
       "       [30, 80]])"
      ]
     },
     "execution_count": 15,
     "metadata": {},
     "output_type": "execute_result"
    }
   ],
   "source": [
    "b = np.array([10,20])\n",
    "A*b"
   ]
  },
  {
   "cell_type": "code",
   "execution_count": 17,
   "metadata": {},
   "outputs": [
    {
     "data": {
      "text/plain": [
       "32"
      ]
     },
     "execution_count": 17,
     "metadata": {},
     "output_type": "execute_result"
    }
   ],
   "source": [
    "# 벡터의 내적과 행렬의 곱\n",
    "#벡터의 내적\n",
    "a = np.array([1,2,3])\n",
    "b = np.array([4,5,6])\n",
    "np.dot(a,b)"
   ]
  },
  {
   "cell_type": "code",
   "execution_count": 18,
   "metadata": {},
   "outputs": [
    {
     "data": {
      "text/plain": [
       "array([[19, 22],\n",
       "       [43, 50]])"
      ]
     },
     "execution_count": 18,
     "metadata": {},
     "output_type": "execute_result"
    }
   ],
   "source": [
    "#행렬의 곱\n",
    "A = np.array([[1,2],[3,4]])\n",
    "B = np.array([[5,6],[7,8]])\n",
    "np.matmul(A,B)"
   ]
  },
  {
   "cell_type": "markdown",
   "metadata": {},
   "source": [
    "* 물론 둘다 np.dot() 가능하나 코드 상 분리해주어 의도를 명확히 하라!\n",
    "* 행렬 형상 확인도 중요하다."
   ]
  },
  {
   "cell_type": "markdown",
   "metadata": {},
   "source": [
    "## 신경망의 추론\n",
    "### 신경망 추론 전체 그림"
   ]
  },
  {
   "cell_type": "code",
   "execution_count": 20,
   "metadata": {},
   "outputs": [],
   "source": [
    "# 완전연결계층에 의한 변환 미니배치 버전\n",
    "import numpy as np\n",
    "W1 = np.random.randn(2,4) #가중치\n",
    "b1 = np.random.randn(4) # 편향\n",
    "x = np.random.randn(10,2) # 입력\n",
    "h = np.matmul(x, W1) + b1\n",
    "# 이를 비선형 효과 부여하는 것이 시그모이드입니다."
   ]
  },
  {
   "cell_type": "code",
   "execution_count": 21,
   "metadata": {},
   "outputs": [],
   "source": [
    "def sigmoid(x):\n",
    "    return 1 / (1 + np.exp(-x))"
   ]
  },
  {
   "cell_type": "code",
   "execution_count": 22,
   "metadata": {},
   "outputs": [],
   "source": [
    "a = sigmoid(h)"
   ]
  },
  {
   "cell_type": "code",
   "execution_count": 25,
   "metadata": {},
   "outputs": [],
   "source": [
    "# 신경망의 추론 정리\n",
    "import numpy as np\n",
    "def sigmoid(x):\n",
    "    return 1 / (1+np.exp(-x))\n",
    "\n",
    "x = np.random.randn(10,2)\n",
    "W1 = np.random.randn(2,4)\n",
    "b1 = np.random.randn(4)\n",
    "W2 = np.random.randn(4,3)\n",
    "b2 = np.random.randn(3)\n",
    "\n",
    "h = np.matmul(x, W1) + b1\n",
    "a = sigmoid(h)\n",
    "s = np.matmul(a, W2) + b2"
   ]
  },
  {
   "cell_type": "code",
   "execution_count": 26,
   "metadata": {},
   "outputs": [
    {
     "name": "stdout",
     "output_type": "stream",
     "text": [
      "[[ 0.22070427  0.32307613 -1.20986535]\n",
      " [ 0.52263912 -0.15912166 -0.68624819]\n",
      " [ 0.59003801  0.05614804 -0.83803558]\n",
      " [ 0.14413684  0.54482023 -1.3760161 ]\n",
      " [ 0.52064946 -0.40946672 -0.58298002]\n",
      " [ 0.25810473  0.60267809 -1.32834165]\n",
      " [ 0.10706905  0.70880746 -1.40915585]\n",
      " [ 0.54234954 -0.05454548 -0.75123151]\n",
      " [ 0.30853025  0.12010321 -1.00253962]\n",
      " [ 0.5450725  -0.32357665 -0.60411009]]\n"
     ]
    }
   ],
   "source": [
    "print(s)"
   ]
  },
  {
   "cell_type": "code",
   "execution_count": 27,
   "metadata": {},
   "outputs": [],
   "source": [
    "#계층 클래스화 및 순전파 구현\n",
    "#sigmoid\n",
    "\n",
    "import numpy as np\n",
    "\n",
    "class Sigmoid:\n",
    "    def __init__(self):\n",
    "        self.params = [] #학습할 매개변수 없으니 빈 것이다.\n",
    "        \n",
    "    def forward(self, x):\n",
    "        return 1 / (1+np.exp(-x))\n"
   ]
  },
  {
   "cell_type": "code",
   "execution_count": 28,
   "metadata": {},
   "outputs": [],
   "source": [
    "class Affine:\n",
    "    def __init__(self, W, b):\n",
    "        self.params = [W, b]\n",
    "        \n",
    "    def forward(self, x):\n",
    "        W, b = self.params\n",
    "        out = np.matmul(x, W) + b\n",
    "        return out"
   ]
  },
  {
   "cell_type": "code",
   "execution_count": 29,
   "metadata": {},
   "outputs": [],
   "source": [
    "class TwoLayerNet:\n",
    "    def __init__(self, input_size, hidden_size, output_size):\n",
    "        I, H, O = input_size, hidden_size, output_size\n",
    "        \n",
    "        # 가중치와 편향 초기화\n",
    "        W1 = np.random.randn(I, H)\n",
    "        b1 = np.random.randn(H)\n",
    "        W2 = np.random.randn(H, O)\n",
    "        b2 = np.random.randn(O)\n",
    "        \n",
    "        # 계층 생성\n",
    "        self.layers = [\n",
    "            Affine(W1, b1),\n",
    "            Sigmoid(),\n",
    "            Affine(W2, b2)\n",
    "        ]\n",
    "        \n",
    "        # 모든 가중치를 리스트에 모은다.\n",
    "        self.params = []\n",
    "        for layer in self.layers:\n",
    "            self.params += layer.params\n",
    "            \n",
    "    def predict(self, x):\n",
    "        for layer in self.layers:\n",
    "            x = layer.forward(x)\n",
    "        return x\n",
    "        "
   ]
  },
  {
   "cell_type": "code",
   "execution_count": 31,
   "metadata": {},
   "outputs": [
    {
     "data": {
      "text/plain": [
       "['A', 'B', 'C', 'D']"
      ]
     },
     "execution_count": 31,
     "metadata": {},
     "output_type": "execute_result"
    }
   ],
   "source": [
    "a = ['A', 'B']\n",
    "a += ['C', 'D']\n",
    "a# 파이썬에서 리스트 결합방식"
   ]
  },
  {
   "cell_type": "code",
   "execution_count": 32,
   "metadata": {},
   "outputs": [],
   "source": [
    "x = np.random.randn(10,2)\n",
    "model = TwoLayerNet(2,4,3)\n",
    "s = model.predict(x)"
   ]
  },
  {
   "cell_type": "markdown",
   "metadata": {},
   "source": [
    "## 신경망의 학습\n",
    "### 손실 함수\n",
    "* 다중 클래스 분류 : 교차 엔트로피 오차\n",
    "### 미분과 기울기\n",
    "### 연쇄 법칙\n",
    "### 계산 그래프\n",
    "* 덧셈 노드\n",
    "* 곱셈 노드\n",
    "* 분기 노드\n",
    "* Repeat 노드"
   ]
  },
  {
   "cell_type": "code",
   "execution_count": 33,
   "metadata": {},
   "outputs": [],
   "source": [
    "import numpy as np\n",
    "D, N = 8,7\n",
    "x = np.random.randn(1, 0)\n",
    "y = np.repeat(x, N, axis=0)\n",
    "dy = np.random.randn(N, D) # 무작위 기울기\n",
    "dx = np.sum(dy, axis = 0, keepdims = True)"
   ]
  },
  {
   "cell_type": "code",
   "execution_count": 35,
   "metadata": {},
   "outputs": [],
   "source": [
    "# Sum 노드\n",
    "import numpy as np\n",
    "D, N = 8,7\n",
    "x = np.random.randn(N, D) # 입력\n",
    "y = np.sum(x, axis = 0, keepdims= True)\n",
    "\n",
    "dy = np.random.randn(1, D)\n",
    "dx = np.repeat(dy, N, axis=0) # 역전파 기울기"
   ]
  },
  {
   "cell_type": "markdown",
   "metadata": {},
   "source": [
    "Sum 노드의 순전파 = Repeat 노드의 역전파  \n",
    "Sum 노드의 역전파 = Repeat 노드의 순전파"
   ]
  },
  {
   "cell_type": "code",
   "execution_count": 37,
   "metadata": {},
   "outputs": [],
   "source": [
    "#MatMul 노드\n",
    "class MatMul:\n",
    "    def __init__(self, W):\n",
    "        self.params = [W]\n",
    "        self.grads = [np.zeros_like(W)]\n",
    "        self.x = None\n",
    "        \n",
    "    def forward(self, x):\n",
    "        W, = self.params #???\n",
    "        out = np.matmul(x, W)\n",
    "        self.x = x\n",
    "        return out\n",
    "    \n",
    "    def backward(self, dout):\n",
    "        W, = self.params\n",
    "        dx = np.matmul(dout, W.T)\n",
    "        dW = np.matmul(self.x.T, dout)\n",
    "        self.grads[0][...] = dW #[...]으로 생략 기호를 활용하면, 넘파이 뱅려이 가리키는 메모리 위치를 고정시킨 후 그 위치에 원소를 덮는다.\n",
    "        return dx"
   ]
  },
  {
   "cell_type": "code",
   "execution_count": 38,
   "metadata": {},
   "outputs": [],
   "source": [
    "a = np.array([1,2,3])\n",
    "b = np.array([4,5,6])"
   ]
  },
  {
   "cell_type": "code",
   "execution_count": 39,
   "metadata": {},
   "outputs": [],
   "source": [
    "#sigmoid 계층\n",
    "class Sigmoid:\n",
    "    def __init__(self):\n",
    "        self.params, self.grads = [],[]\n",
    "        self.out = None\n",
    "        \n",
    "    def forward(self, x):\n",
    "        out = 1 / (1+ np.exp(-x))\n",
    "        self.out = out\n",
    "        return out\n",
    "    \n",
    "    def backward(self, dout):\n",
    "        dx = dout * (1.0 - xelf.out) * self.out\n",
    "        return dx"
   ]
  },
  {
   "cell_type": "code",
   "execution_count": 40,
   "metadata": {},
   "outputs": [],
   "source": [
    "#Affine\n",
    "class Affine:\n",
    "    def __init__(self, W, b):\n",
    "        self.params = [W,b]\n",
    "        self.grads = [np.zeros_like(W), np.zeros_like(b)]\n",
    "        self.x = None\n",
    "        \n",
    "    def forward(self, x):\n",
    "        W, b = self.params\n",
    "        out = np.matmul(x, W) + b\n",
    "        self.x = x\n",
    "        return out\n",
    "    \n",
    "    def backward(self, dout):\n",
    "        W, b = self.params\n",
    "        dx = np.matmul(dout, W.T)\n",
    "        dW = np.matmul(self.x.T, dout)\n",
    "        db = np.sum(dout, axis = 0)\n",
    "        \n",
    "        self.grads[0][...] = dW\n",
    "        self.grads[1][...] = db\n",
    "        return dx"
   ]
  },
  {
   "cell_type": "code",
   "execution_count": 43,
   "metadata": {},
   "outputs": [],
   "source": [
    "# 가중치 갱신\n",
    "# 미니배치, 기울기 계산, 매개변수 갱신, 반복\n",
    "\n",
    "class SGD:\n",
    "    def __init__(self, lr=0.01): #초기화 학습률\n",
    "        self.lr = lr\n",
    "        \n",
    "    def update(self, params, grads): #매개변수 갱신\n",
    "        for i in range(len(params)):\n",
    "            params[i] -= self.lr * grads[i]"
   ]
  },
  {
   "cell_type": "markdown",
   "metadata": {},
   "source": [
    "    model = TwoLayerNet(...)\n",
    "    optimizer = SGD()\n",
    "\n",
    "    for i in range(10000):\n",
    "        ...\n",
    "        x_batch, t_batch = get_mini_batch(...) #미니배치 획득\n",
    "        loss = model.forward(x_batch, t_batch)\n",
    "        model.backward()\n",
    "        optimizer.update(model.params, model.grads)\n",
    "        ..."
   ]
  },
  {
   "cell_type": "markdown",
   "metadata": {},
   "source": [
    "## 신경망으로 문제를 풀다\n",
    "### 스파이럴 데이터셋"
   ]
  },
  {
   "cell_type": "code",
   "execution_count": 45,
   "metadata": {},
   "outputs": [
    {
     "name": "stdout",
     "output_type": "stream",
     "text": [
      "x (300, 2)\n",
      "t (300, 3)\n"
     ]
    }
   ],
   "source": [
    "#스파이럴 데이터셋\n",
    "import sys\n",
    "sys.path.append('..') #부모 디렉터리 파일 가져오도록 설정\n",
    "from dataset import spiral\n",
    "import matplotlib.pyplot as plt\n",
    "\n",
    "x, t = spiral.load_data()\n",
    "print('x', x.shape)\n",
    "print('t', t.shape)"
   ]
  },
  {
   "cell_type": "code",
   "execution_count": 2,
   "metadata": {},
   "outputs": [],
   "source": [
    "# 신경망 구현\n",
    "import sys\n",
    "sys.path.append('..')\n",
    "import numpy as np\n",
    "from common.layers import Affine, Sigmoid, SoftmaxWithLoss\n",
    "\n",
    "class TwoLayerNet:\n",
    "    def __init__(self, input_size, hidden_size, output_size):\n",
    "        I, H, O = input_size, hidden_size, output_size\n",
    "        \n",
    "        # 가중치와 편향 초기화\n",
    "        W1 = 0.01 * np.random.randn(I, H)\n",
    "        b1 = np.zeros(H)\n",
    "        W2 = 0.01 * np.random.randn(H, O)\n",
    "        b2 = np.zeros(O)\n",
    "        \n",
    "        #계층 생성\n",
    "        self.layers = [\n",
    "            Affine(W1, b1),\n",
    "            Sigmoid(),\n",
    "            Affine(W2, b2)\n",
    "        ]\n",
    "        self.loss_layer = SoftmaxWithLoss()\n",
    "        \n",
    "        # 가중치, 기울기를 리스트에 모으기\n",
    "        self.params, self.grads = [], []\n",
    "        for layer in self.layers:\n",
    "            self.params += layer.params\n",
    "            self.grads += layer.grads"
   ]
  },
  {
   "cell_type": "code",
   "execution_count": 3,
   "metadata": {},
   "outputs": [],
   "source": [
    "# predict 메서드\n",
    "def predict(self, x):\n",
    "    for layer in self.layers:\n",
    "        x = layer.forward(x)\n",
    "        return x\n",
    "    \n",
    "def forward(self, x, t):\n",
    "    score = self.predict(x)\n",
    "    loss = self.loss_layer.forward(Score, t)\n",
    "    return loss\n",
    "\n",
    "def backward(self, dout=1):\n",
    "    dout = self.loss_layer.backward(dout)\n",
    "    for layer in reversed(Self.layers):\n",
    "        dout = layer.backward(dout)\n",
    "    return dout"
   ]
  },
  {
   "cell_type": "code",
   "execution_count": 7,
   "metadata": {},
   "outputs": [
    {
     "name": "stdout",
     "output_type": "stream",
     "text": [
      "| 에폭 1 |    반복 10 / 10 |   손실 1.13\n",
      "| 에폭 2 |    반복 10 / 10 |   손실 1.13\n",
      "| 에폭 3 |    반복 10 / 10 |   손실 1.12\n",
      "| 에폭 4 |    반복 10 / 10 |   손실 1.12\n",
      "| 에폭 5 |    반복 10 / 10 |   손실 1.11\n",
      "| 에폭 6 |    반복 10 / 10 |   손실 1.14\n",
      "| 에폭 7 |    반복 10 / 10 |   손실 1.16\n",
      "| 에폭 8 |    반복 10 / 10 |   손실 1.11\n",
      "| 에폭 9 |    반복 10 / 10 |   손실 1.12\n",
      "| 에폭 10 |    반복 10 / 10 |   손실 1.13\n",
      "| 에폭 11 |    반복 10 / 10 |   손실 1.12\n",
      "| 에폭 12 |    반복 10 / 10 |   손실 1.11\n",
      "| 에폭 13 |    반복 10 / 10 |   손실 1.09\n",
      "| 에폭 14 |    반복 10 / 10 |   손실 1.08\n",
      "| 에폭 15 |    반복 10 / 10 |   손실 1.04\n",
      "| 에폭 16 |    반복 10 / 10 |   손실 1.03\n",
      "| 에폭 17 |    반복 10 / 10 |   손실 0.96\n",
      "| 에폭 18 |    반복 10 / 10 |   손실 0.92\n",
      "| 에폭 19 |    반복 10 / 10 |   손실 0.92\n",
      "| 에폭 20 |    반복 10 / 10 |   손실 0.87\n",
      "| 에폭 21 |    반복 10 / 10 |   손실 0.85\n",
      "| 에폭 22 |    반복 10 / 10 |   손실 0.82\n",
      "| 에폭 23 |    반복 10 / 10 |   손실 0.79\n",
      "| 에폭 24 |    반복 10 / 10 |   손실 0.78\n",
      "| 에폭 25 |    반복 10 / 10 |   손실 0.82\n",
      "| 에폭 26 |    반복 10 / 10 |   손실 0.78\n",
      "| 에폭 27 |    반복 10 / 10 |   손실 0.76\n",
      "| 에폭 28 |    반복 10 / 10 |   손실 0.76\n",
      "| 에폭 29 |    반복 10 / 10 |   손실 0.78\n",
      "| 에폭 30 |    반복 10 / 10 |   손실 0.75\n",
      "| 에폭 31 |    반복 10 / 10 |   손실 0.78\n",
      "| 에폭 32 |    반복 10 / 10 |   손실 0.77\n",
      "| 에폭 33 |    반복 10 / 10 |   손실 0.77\n",
      "| 에폭 34 |    반복 10 / 10 |   손실 0.78\n",
      "| 에폭 35 |    반복 10 / 10 |   손실 0.75\n",
      "| 에폭 36 |    반복 10 / 10 |   손실 0.74\n",
      "| 에폭 37 |    반복 10 / 10 |   손실 0.76\n",
      "| 에폭 38 |    반복 10 / 10 |   손실 0.76\n",
      "| 에폭 39 |    반복 10 / 10 |   손실 0.73\n",
      "| 에폭 40 |    반복 10 / 10 |   손실 0.75\n",
      "| 에폭 41 |    반복 10 / 10 |   손실 0.76\n",
      "| 에폭 42 |    반복 10 / 10 |   손실 0.76\n",
      "| 에폭 43 |    반복 10 / 10 |   손실 0.76\n",
      "| 에폭 44 |    반복 10 / 10 |   손실 0.74\n",
      "| 에폭 45 |    반복 10 / 10 |   손실 0.75\n",
      "| 에폭 46 |    반복 10 / 10 |   손실 0.73\n",
      "| 에폭 47 |    반복 10 / 10 |   손실 0.72\n",
      "| 에폭 48 |    반복 10 / 10 |   손실 0.73\n",
      "| 에폭 49 |    반복 10 / 10 |   손실 0.72\n",
      "| 에폭 50 |    반복 10 / 10 |   손실 0.72\n",
      "| 에폭 51 |    반복 10 / 10 |   손실 0.72\n",
      "| 에폭 52 |    반복 10 / 10 |   손실 0.72\n",
      "| 에폭 53 |    반복 10 / 10 |   손실 0.74\n",
      "| 에폭 54 |    반복 10 / 10 |   손실 0.74\n",
      "| 에폭 55 |    반복 10 / 10 |   손실 0.72\n",
      "| 에폭 56 |    반복 10 / 10 |   손실 0.72\n",
      "| 에폭 57 |    반복 10 / 10 |   손실 0.71\n",
      "| 에폭 58 |    반복 10 / 10 |   손실 0.70\n",
      "| 에폭 59 |    반복 10 / 10 |   손실 0.72\n",
      "| 에폭 60 |    반복 10 / 10 |   손실 0.70\n",
      "| 에폭 61 |    반복 10 / 10 |   손실 0.71\n",
      "| 에폭 62 |    반복 10 / 10 |   손실 0.72\n",
      "| 에폭 63 |    반복 10 / 10 |   손실 0.70\n",
      "| 에폭 64 |    반복 10 / 10 |   손실 0.71\n",
      "| 에폭 65 |    반복 10 / 10 |   손실 0.73\n",
      "| 에폭 66 |    반복 10 / 10 |   손실 0.70\n",
      "| 에폭 67 |    반복 10 / 10 |   손실 0.71\n",
      "| 에폭 68 |    반복 10 / 10 |   손실 0.69\n",
      "| 에폭 69 |    반복 10 / 10 |   손실 0.70\n",
      "| 에폭 70 |    반복 10 / 10 |   손실 0.71\n",
      "| 에폭 71 |    반복 10 / 10 |   손실 0.68\n",
      "| 에폭 72 |    반복 10 / 10 |   손실 0.69\n",
      "| 에폭 73 |    반복 10 / 10 |   손실 0.67\n",
      "| 에폭 74 |    반복 10 / 10 |   손실 0.68\n",
      "| 에폭 75 |    반복 10 / 10 |   손실 0.67\n",
      "| 에폭 76 |    반복 10 / 10 |   손실 0.66\n",
      "| 에폭 77 |    반복 10 / 10 |   손실 0.69\n",
      "| 에폭 78 |    반복 10 / 10 |   손실 0.64\n",
      "| 에폭 79 |    반복 10 / 10 |   손실 0.68\n",
      "| 에폭 80 |    반복 10 / 10 |   손실 0.64\n",
      "| 에폭 81 |    반복 10 / 10 |   손실 0.64\n",
      "| 에폭 82 |    반복 10 / 10 |   손실 0.66\n",
      "| 에폭 83 |    반복 10 / 10 |   손실 0.62\n",
      "| 에폭 84 |    반복 10 / 10 |   손실 0.62\n",
      "| 에폭 85 |    반복 10 / 10 |   손실 0.61\n",
      "| 에폭 86 |    반복 10 / 10 |   손실 0.60\n",
      "| 에폭 87 |    반복 10 / 10 |   손실 0.60\n",
      "| 에폭 88 |    반복 10 / 10 |   손실 0.61\n",
      "| 에폭 89 |    반복 10 / 10 |   손실 0.59\n",
      "| 에폭 90 |    반복 10 / 10 |   손실 0.58\n",
      "| 에폭 91 |    반복 10 / 10 |   손실 0.56\n",
      "| 에폭 92 |    반복 10 / 10 |   손실 0.56\n",
      "| 에폭 93 |    반복 10 / 10 |   손실 0.54\n",
      "| 에폭 94 |    반복 10 / 10 |   손실 0.53\n",
      "| 에폭 95 |    반복 10 / 10 |   손실 0.53\n",
      "| 에폭 96 |    반복 10 / 10 |   손실 0.52\n",
      "| 에폭 97 |    반복 10 / 10 |   손실 0.51\n",
      "| 에폭 98 |    반복 10 / 10 |   손실 0.50\n",
      "| 에폭 99 |    반복 10 / 10 |   손실 0.48\n",
      "| 에폭 100 |    반복 10 / 10 |   손실 0.48\n",
      "| 에폭 101 |    반복 10 / 10 |   손실 0.46\n",
      "| 에폭 102 |    반복 10 / 10 |   손실 0.45\n",
      "| 에폭 103 |    반복 10 / 10 |   손실 0.45\n",
      "| 에폭 104 |    반복 10 / 10 |   손실 0.44\n",
      "| 에폭 105 |    반복 10 / 10 |   손실 0.44\n",
      "| 에폭 106 |    반복 10 / 10 |   손실 0.41\n",
      "| 에폭 107 |    반복 10 / 10 |   손실 0.40\n",
      "| 에폭 108 |    반복 10 / 10 |   손실 0.41\n",
      "| 에폭 109 |    반복 10 / 10 |   손실 0.40\n",
      "| 에폭 110 |    반복 10 / 10 |   손실 0.40\n",
      "| 에폭 111 |    반복 10 / 10 |   손실 0.38\n",
      "| 에폭 112 |    반복 10 / 10 |   손실 0.38\n",
      "| 에폭 113 |    반복 10 / 10 |   손실 0.36\n",
      "| 에폭 114 |    반복 10 / 10 |   손실 0.37\n",
      "| 에폭 115 |    반복 10 / 10 |   손실 0.35\n",
      "| 에폭 116 |    반복 10 / 10 |   손실 0.34\n",
      "| 에폭 117 |    반복 10 / 10 |   손실 0.34\n",
      "| 에폭 118 |    반복 10 / 10 |   손실 0.34\n",
      "| 에폭 119 |    반복 10 / 10 |   손실 0.33\n",
      "| 에폭 120 |    반복 10 / 10 |   손실 0.34\n",
      "| 에폭 121 |    반복 10 / 10 |   손실 0.32\n",
      "| 에폭 122 |    반복 10 / 10 |   손실 0.32\n",
      "| 에폭 123 |    반복 10 / 10 |   손실 0.31\n",
      "| 에폭 124 |    반복 10 / 10 |   손실 0.31\n",
      "| 에폭 125 |    반복 10 / 10 |   손실 0.30\n",
      "| 에폭 126 |    반복 10 / 10 |   손실 0.30\n",
      "| 에폭 127 |    반복 10 / 10 |   손실 0.28\n",
      "| 에폭 128 |    반복 10 / 10 |   손실 0.28\n",
      "| 에폭 129 |    반복 10 / 10 |   손실 0.28\n",
      "| 에폭 130 |    반복 10 / 10 |   손실 0.28\n",
      "| 에폭 131 |    반복 10 / 10 |   손실 0.27\n",
      "| 에폭 132 |    반복 10 / 10 |   손실 0.27\n",
      "| 에폭 133 |    반복 10 / 10 |   손실 0.27\n",
      "| 에폭 134 |    반복 10 / 10 |   손실 0.27\n",
      "| 에폭 135 |    반복 10 / 10 |   손실 0.27\n",
      "| 에폭 136 |    반복 10 / 10 |   손실 0.26\n",
      "| 에폭 137 |    반복 10 / 10 |   손실 0.26\n",
      "| 에폭 138 |    반복 10 / 10 |   손실 0.26\n",
      "| 에폭 139 |    반복 10 / 10 |   손실 0.25\n",
      "| 에폭 140 |    반복 10 / 10 |   손실 0.24\n",
      "| 에폭 141 |    반복 10 / 10 |   손실 0.24\n",
      "| 에폭 142 |    반복 10 / 10 |   손실 0.25\n",
      "| 에폭 143 |    반복 10 / 10 |   손실 0.24\n",
      "| 에폭 144 |    반복 10 / 10 |   손실 0.24\n",
      "| 에폭 145 |    반복 10 / 10 |   손실 0.23\n",
      "| 에폭 146 |    반복 10 / 10 |   손실 0.24\n",
      "| 에폭 147 |    반복 10 / 10 |   손실 0.23\n",
      "| 에폭 148 |    반복 10 / 10 |   손실 0.23\n",
      "| 에폭 149 |    반복 10 / 10 |   손실 0.22\n",
      "| 에폭 150 |    반복 10 / 10 |   손실 0.22\n",
      "| 에폭 151 |    반복 10 / 10 |   손실 0.22\n",
      "| 에폭 152 |    반복 10 / 10 |   손실 0.22\n",
      "| 에폭 153 |    반복 10 / 10 |   손실 0.22\n",
      "| 에폭 154 |    반복 10 / 10 |   손실 0.22\n",
      "| 에폭 155 |    반복 10 / 10 |   손실 0.22\n",
      "| 에폭 156 |    반복 10 / 10 |   손실 0.21\n",
      "| 에폭 157 |    반복 10 / 10 |   손실 0.21\n",
      "| 에폭 158 |    반복 10 / 10 |   손실 0.20\n",
      "| 에폭 159 |    반복 10 / 10 |   손실 0.21\n",
      "| 에폭 160 |    반복 10 / 10 |   손실 0.20\n",
      "| 에폭 161 |    반복 10 / 10 |   손실 0.20\n",
      "| 에폭 162 |    반복 10 / 10 |   손실 0.20\n",
      "| 에폭 163 |    반복 10 / 10 |   손실 0.21\n",
      "| 에폭 164 |    반복 10 / 10 |   손실 0.20\n",
      "| 에폭 165 |    반복 10 / 10 |   손실 0.20\n",
      "| 에폭 166 |    반복 10 / 10 |   손실 0.19\n",
      "| 에폭 167 |    반복 10 / 10 |   손실 0.19\n",
      "| 에폭 168 |    반복 10 / 10 |   손실 0.19\n",
      "| 에폭 169 |    반복 10 / 10 |   손실 0.19\n",
      "| 에폭 170 |    반복 10 / 10 |   손실 0.19\n",
      "| 에폭 171 |    반복 10 / 10 |   손실 0.19\n",
      "| 에폭 172 |    반복 10 / 10 |   손실 0.18\n",
      "| 에폭 173 |    반복 10 / 10 |   손실 0.18\n",
      "| 에폭 174 |    반복 10 / 10 |   손실 0.18\n",
      "| 에폭 175 |    반복 10 / 10 |   손실 0.18\n",
      "| 에폭 176 |    반복 10 / 10 |   손실 0.18\n",
      "| 에폭 177 |    반복 10 / 10 |   손실 0.18\n",
      "| 에폭 178 |    반복 10 / 10 |   손실 0.18\n",
      "| 에폭 179 |    반복 10 / 10 |   손실 0.17\n",
      "| 에폭 180 |    반복 10 / 10 |   손실 0.17\n",
      "| 에폭 181 |    반복 10 / 10 |   손실 0.18\n",
      "| 에폭 182 |    반복 10 / 10 |   손실 0.17\n",
      "| 에폭 183 |    반복 10 / 10 |   손실 0.18\n",
      "| 에폭 184 |    반복 10 / 10 |   손실 0.17\n",
      "| 에폭 185 |    반복 10 / 10 |   손실 0.17\n",
      "| 에폭 186 |    반복 10 / 10 |   손실 0.18\n",
      "| 에폭 187 |    반복 10 / 10 |   손실 0.17\n",
      "| 에폭 188 |    반복 10 / 10 |   손실 0.17\n",
      "| 에폭 189 |    반복 10 / 10 |   손실 0.17\n",
      "| 에폭 190 |    반복 10 / 10 |   손실 0.17\n",
      "| 에폭 191 |    반복 10 / 10 |   손실 0.16\n",
      "| 에폭 192 |    반복 10 / 10 |   손실 0.17\n",
      "| 에폭 193 |    반복 10 / 10 |   손실 0.16\n",
      "| 에폭 194 |    반복 10 / 10 |   손실 0.16\n",
      "| 에폭 195 |    반복 10 / 10 |   손실 0.16\n",
      "| 에폭 196 |    반복 10 / 10 |   손실 0.16\n",
      "| 에폭 197 |    반복 10 / 10 |   손실 0.16\n",
      "| 에폭 198 |    반복 10 / 10 |   손실 0.15\n",
      "| 에폭 199 |    반복 10 / 10 |   손실 0.16\n",
      "| 에폭 200 |    반복 10 / 10 |   손실 0.16\n",
      "| 에폭 201 |    반복 10 / 10 |   손실 0.15\n",
      "| 에폭 202 |    반복 10 / 10 |   손실 0.16\n",
      "| 에폭 203 |    반복 10 / 10 |   손실 0.16\n",
      "| 에폭 204 |    반복 10 / 10 |   손실 0.15\n",
      "| 에폭 205 |    반복 10 / 10 |   손실 0.16\n",
      "| 에폭 206 |    반복 10 / 10 |   손실 0.15\n",
      "| 에폭 207 |    반복 10 / 10 |   손실 0.15\n",
      "| 에폭 208 |    반복 10 / 10 |   손실 0.15\n",
      "| 에폭 209 |    반복 10 / 10 |   손실 0.15\n",
      "| 에폭 210 |    반복 10 / 10 |   손실 0.15\n",
      "| 에폭 211 |    반복 10 / 10 |   손실 0.15\n",
      "| 에폭 212 |    반복 10 / 10 |   손실 0.15\n",
      "| 에폭 213 |    반복 10 / 10 |   손실 0.15\n",
      "| 에폭 214 |    반복 10 / 10 |   손실 0.15\n",
      "| 에폭 215 |    반복 10 / 10 |   손실 0.15\n",
      "| 에폭 216 |    반복 10 / 10 |   손실 0.14\n",
      "| 에폭 217 |    반복 10 / 10 |   손실 0.14\n",
      "| 에폭 218 |    반복 10 / 10 |   손실 0.15\n",
      "| 에폭 219 |    반복 10 / 10 |   손실 0.14\n",
      "| 에폭 220 |    반복 10 / 10 |   손실 0.14\n",
      "| 에폭 221 |    반복 10 / 10 |   손실 0.14\n",
      "| 에폭 222 |    반복 10 / 10 |   손실 0.14\n",
      "| 에폭 223 |    반복 10 / 10 |   손실 0.14\n",
      "| 에폭 224 |    반복 10 / 10 |   손실 0.14\n",
      "| 에폭 225 |    반복 10 / 10 |   손실 0.14\n",
      "| 에폭 226 |    반복 10 / 10 |   손실 0.14\n",
      "| 에폭 227 |    반복 10 / 10 |   손실 0.14\n",
      "| 에폭 228 |    반복 10 / 10 |   손실 0.14\n",
      "| 에폭 229 |    반복 10 / 10 |   손실 0.13\n",
      "| 에폭 230 |    반복 10 / 10 |   손실 0.14\n",
      "| 에폭 231 |    반복 10 / 10 |   손실 0.13\n"
     ]
    },
    {
     "name": "stdout",
     "output_type": "stream",
     "text": [
      "| 에폭 232 |    반복 10 / 10 |   손실 0.14\n",
      "| 에폭 233 |    반복 10 / 10 |   손실 0.13\n",
      "| 에폭 234 |    반복 10 / 10 |   손실 0.13\n",
      "| 에폭 235 |    반복 10 / 10 |   손실 0.13\n",
      "| 에폭 236 |    반복 10 / 10 |   손실 0.13\n",
      "| 에폭 237 |    반복 10 / 10 |   손실 0.14\n",
      "| 에폭 238 |    반복 10 / 10 |   손실 0.13\n",
      "| 에폭 239 |    반복 10 / 10 |   손실 0.13\n",
      "| 에폭 240 |    반복 10 / 10 |   손실 0.14\n",
      "| 에폭 241 |    반복 10 / 10 |   손실 0.13\n",
      "| 에폭 242 |    반복 10 / 10 |   손실 0.13\n",
      "| 에폭 243 |    반복 10 / 10 |   손실 0.13\n",
      "| 에폭 244 |    반복 10 / 10 |   손실 0.13\n",
      "| 에폭 245 |    반복 10 / 10 |   손실 0.13\n",
      "| 에폭 246 |    반복 10 / 10 |   손실 0.13\n",
      "| 에폭 247 |    반복 10 / 10 |   손실 0.13\n",
      "| 에폭 248 |    반복 10 / 10 |   손실 0.13\n",
      "| 에폭 249 |    반복 10 / 10 |   손실 0.13\n",
      "| 에폭 250 |    반복 10 / 10 |   손실 0.13\n",
      "| 에폭 251 |    반복 10 / 10 |   손실 0.13\n",
      "| 에폭 252 |    반복 10 / 10 |   손실 0.12\n",
      "| 에폭 253 |    반복 10 / 10 |   손실 0.12\n",
      "| 에폭 254 |    반복 10 / 10 |   손실 0.12\n",
      "| 에폭 255 |    반복 10 / 10 |   손실 0.12\n",
      "| 에폭 256 |    반복 10 / 10 |   손실 0.12\n",
      "| 에폭 257 |    반복 10 / 10 |   손실 0.12\n",
      "| 에폭 258 |    반복 10 / 10 |   손실 0.12\n",
      "| 에폭 259 |    반복 10 / 10 |   손실 0.13\n",
      "| 에폭 260 |    반복 10 / 10 |   손실 0.12\n",
      "| 에폭 261 |    반복 10 / 10 |   손실 0.13\n",
      "| 에폭 262 |    반복 10 / 10 |   손실 0.12\n",
      "| 에폭 263 |    반복 10 / 10 |   손실 0.12\n",
      "| 에폭 264 |    반복 10 / 10 |   손실 0.13\n",
      "| 에폭 265 |    반복 10 / 10 |   손실 0.12\n",
      "| 에폭 266 |    반복 10 / 10 |   손실 0.12\n",
      "| 에폭 267 |    반복 10 / 10 |   손실 0.12\n",
      "| 에폭 268 |    반복 10 / 10 |   손실 0.12\n",
      "| 에폭 269 |    반복 10 / 10 |   손실 0.11\n",
      "| 에폭 270 |    반복 10 / 10 |   손실 0.12\n",
      "| 에폭 271 |    반복 10 / 10 |   손실 0.12\n",
      "| 에폭 272 |    반복 10 / 10 |   손실 0.12\n",
      "| 에폭 273 |    반복 10 / 10 |   손실 0.12\n",
      "| 에폭 274 |    반복 10 / 10 |   손실 0.12\n",
      "| 에폭 275 |    반복 10 / 10 |   손실 0.11\n",
      "| 에폭 276 |    반복 10 / 10 |   손실 0.12\n",
      "| 에폭 277 |    반복 10 / 10 |   손실 0.12\n",
      "| 에폭 278 |    반복 10 / 10 |   손실 0.11\n",
      "| 에폭 279 |    반복 10 / 10 |   손실 0.11\n",
      "| 에폭 280 |    반복 10 / 10 |   손실 0.11\n",
      "| 에폭 281 |    반복 10 / 10 |   손실 0.11\n",
      "| 에폭 282 |    반복 10 / 10 |   손실 0.12\n",
      "| 에폭 283 |    반복 10 / 10 |   손실 0.11\n",
      "| 에폭 284 |    반복 10 / 10 |   손실 0.11\n",
      "| 에폭 285 |    반복 10 / 10 |   손실 0.11\n",
      "| 에폭 286 |    반복 10 / 10 |   손실 0.11\n",
      "| 에폭 287 |    반복 10 / 10 |   손실 0.11\n",
      "| 에폭 288 |    반복 10 / 10 |   손실 0.12\n",
      "| 에폭 289 |    반복 10 / 10 |   손실 0.11\n",
      "| 에폭 290 |    반복 10 / 10 |   손실 0.11\n",
      "| 에폭 291 |    반복 10 / 10 |   손실 0.11\n",
      "| 에폭 292 |    반복 10 / 10 |   손실 0.11\n",
      "| 에폭 293 |    반복 10 / 10 |   손실 0.11\n",
      "| 에폭 294 |    반복 10 / 10 |   손실 0.11\n",
      "| 에폭 295 |    반복 10 / 10 |   손실 0.12\n",
      "| 에폭 296 |    반복 10 / 10 |   손실 0.11\n",
      "| 에폭 297 |    반복 10 / 10 |   손실 0.12\n",
      "| 에폭 298 |    반복 10 / 10 |   손실 0.11\n",
      "| 에폭 299 |    반복 10 / 10 |   손실 0.11\n",
      "| 에폭 300 |    반복 10 / 10 |   손실 0.11\n"
     ]
    }
   ],
   "source": [
    "# 학습용 코드\n",
    "import sys\n",
    "sys.path.append('..')\n",
    "import numpy as np\n",
    "from common.optimizer import SGD\n",
    "from dataset import spiral\n",
    "import matplotlib.pyplot as plt\n",
    "from two_layer_net import TwoLayerNet\n",
    "\n",
    "# 하이퍼 파라미터 설정\n",
    "max_epoch = 300\n",
    "batch_size = 30\n",
    "hidden_size = 10\n",
    "learning_rate = 1.0\n",
    "\n",
    "# 데이터 읽기, 모델과 옵티마이저 생성\n",
    "x, t = spiral.load_data()\n",
    "model = TwoLayerNet(input_size = 2, hidden_size = hidden_size, output_size=3)\n",
    "optimizer = SGD(lr=learning_rate)\n",
    "\n",
    "# 학습에 사용하는 변수\n",
    "data_size = len(x)\n",
    "max_iters = data_size // batch_size\n",
    "total_loss = 0\n",
    "loss_count = 0\n",
    "loss_list = []\n",
    "\n",
    "for epoch in range(max_epoch):\n",
    "    # 데이터 뒤섞기\n",
    "    idx = np.random.permutation(data_size)\n",
    "    x = x[idx]\n",
    "    t = t[idx]\n",
    "    \n",
    "    for iters in range(max_iters):\n",
    "        batch_x = x[iters*batch_size:(iters+1) * batch_size]\n",
    "        batch_t = t[iters*batch_size:(iters+1)*batch_size]\n",
    "        \n",
    "        # 기울기를 구하는 매개변수 갱신\n",
    "        loss = model.forward(batch_x, batch_t)\n",
    "        model.backward()\n",
    "        optimizer.update(model.params, model.grads)\n",
    "        \n",
    "        total_loss += loss\n",
    "        loss_count += 1\n",
    "        \n",
    "        # 정기적으로 학습 경과 출력\n",
    "        if (iters+1) % 10 == 0:\n",
    "            avg_loss = total_loss / loss_count\n",
    "            print('| 에폭 %d |    반복 %d / %d |   손실 %.2f'\n",
    "                 % (epoch + 1, iters + 1, max_iters, avg_loss))\n",
    "            loss_list.append(avg_loss)\n",
    "            total_loss, loss_count = 0, 0\n"
   ]
  },
  {
   "cell_type": "code",
   "execution_count": 13,
   "metadata": {},
   "outputs": [
    {
     "name": "stderr",
     "output_type": "stream",
     "text": [
      "/usr/local/lib/python3.7/site-packages/matplotlib/backends/backend_agg.py:211: RuntimeWarning: Glyph 48152 missing from current font.\n",
      "  font.set_text(s, 0.0, flags=flags)\n",
      "/usr/local/lib/python3.7/site-packages/matplotlib/backends/backend_agg.py:211: RuntimeWarning: Glyph 48373 missing from current font.\n",
      "  font.set_text(s, 0.0, flags=flags)\n",
      "/usr/local/lib/python3.7/site-packages/matplotlib/backends/backend_agg.py:180: RuntimeWarning: Glyph 48152 missing from current font.\n",
      "  font.set_text(s, 0, flags=flags)\n",
      "/usr/local/lib/python3.7/site-packages/matplotlib/backends/backend_agg.py:180: RuntimeWarning: Glyph 48373 missing from current font.\n",
      "  font.set_text(s, 0, flags=flags)\n",
      "/usr/local/lib/python3.7/site-packages/matplotlib/backends/backend_agg.py:211: RuntimeWarning: Glyph 49552 missing from current font.\n",
      "  font.set_text(s, 0.0, flags=flags)\n",
      "/usr/local/lib/python3.7/site-packages/matplotlib/backends/backend_agg.py:211: RuntimeWarning: Glyph 49892 missing from current font.\n",
      "  font.set_text(s, 0.0, flags=flags)\n",
      "/usr/local/lib/python3.7/site-packages/matplotlib/backends/backend_agg.py:180: RuntimeWarning: Glyph 49552 missing from current font.\n",
      "  font.set_text(s, 0, flags=flags)\n",
      "/usr/local/lib/python3.7/site-packages/matplotlib/backends/backend_agg.py:180: RuntimeWarning: Glyph 49892 missing from current font.\n",
      "  font.set_text(s, 0, flags=flags)\n"
     ]
    },
    {
     "data": {
      "image/png": "[encoded data removed]",
      "text/plain": [
       "<Figure size 432x288 with 1 Axes>"
      ]
     },
     "metadata": {
      "needs_background": "light"
     },
     "output_type": "display_data"
    }
   ],
   "source": [
    "# 학습 결과 플롯\n",
    "plt.plot(np.arange(len(loss_list)), loss_list, label='train')\n",
    "plt.xlabel('반복 (x10)')\n",
    "plt.ylabel('손실')\n",
    "plt.show()"
   ]
  },
  {
   "cell_type": "code",
   "execution_count": 16,
   "metadata": {},
   "outputs": [
    {
     "data": {
      "image/png": "[encoded data removed]",
      "text/plain": [
       "<Figure size 432x288 with 1 Axes>"
      ]
     },
     "metadata": {
      "needs_background": "light"
     },
     "output_type": "display_data"
    }
   ],
   "source": [
    "# 경계 영역 플롯\n",
    "h = 0.001\n",
    "x_min, x_max = x[:, 0].min() - .1, x[:, 0].max() + .1\n",
    "y_min, y_max = x[:, 1].min() - .1, x[:, 1].max() + .1\n",
    "xx, yy = np.meshgrid(np.arange(x_min, x_max, h), np.arange(y_min, y_max, h))\n",
    "X = np.c_[xx.ravel(), yy.ravel()]\n",
    "score = model.predict(X)\n",
    "predict_cls = np.argmax(score, axis=1)\n",
    "Z = predict_cls.reshape(xx.shape)\n",
    "plt.contourf(xx, yy, Z)\n",
    "plt.axis('off')\n",
    "\n",
    "# 데이터점 플롯\n",
    "x, t = spiral.load_data()\n",
    "N = 100\n",
    "CLS_NUM = 3\n",
    "markers = ['o', 'x', '^']\n",
    "for i in range(CLS_NUM):\n",
    "    plt.scatter(x[i*N:(i+1)*N, 0], x[i*N:(i+1)*N, 1], s=40, marker=markers[i])\n",
    "plt.show()"
   ]
  },
  {
   "cell_type": "code",
   "execution_count": 8,
   "metadata": {},
   "outputs": [
    {
     "data": {
      "text/plain": [
       "array([5, 1, 8, 4, 9, 7, 0, 2, 6, 3])"
      ]
     },
     "execution_count": 8,
     "metadata": {},
     "output_type": "execute_result"
    }
   ],
   "source": [
    "import numpy as np\n",
    "np.random.permutation(10)"
   ]
  },
  {
   "cell_type": "markdown",
   "metadata": {},
   "source": [
    "# Trainer 클래스\n",
    "    model = TwoLayerNet(...)\n",
    "    optimizer = SGD(lr = 1.0)\n",
    "    trainer = Trainer(model, optimizer)"
   ]
  },
  {
   "cell_type": "code",
   "execution_count": 1,
   "metadata": {},
   "outputs": [
    {
     "name": "stdout",
     "output_type": "stream",
     "text": [
      "| 에폭 1 |  반복 1 / 10 | 시간 0[s] | 손실 1.10\n",
      "| 에폭 2 |  반복 1 / 10 | 시간 0[s] | 손실 1.12\n",
      "| 에폭 3 |  반복 1 / 10 | 시간 0[s] | 손실 1.13\n",
      "| 에폭 4 |  반복 1 / 10 | 시간 0[s] | 손실 1.12\n",
      "| 에폭 5 |  반복 1 / 10 | 시간 0[s] | 손실 1.12\n",
      "| 에폭 6 |  반복 1 / 10 | 시간 0[s] | 손실 1.10\n",
      "| 에폭 7 |  반복 1 / 10 | 시간 0[s] | 손실 1.14\n",
      "| 에폭 8 |  반복 1 / 10 | 시간 0[s] | 손실 1.16\n",
      "| 에폭 9 |  반복 1 / 10 | 시간 0[s] | 손실 1.11\n",
      "| 에폭 10 |  반복 1 / 10 | 시간 0[s] | 손실 1.12\n",
      "| 에폭 11 |  반복 1 / 10 | 시간 0[s] | 손실 1.12\n",
      "| 에폭 12 |  반복 1 / 10 | 시간 0[s] | 손실 1.12\n",
      "| 에폭 13 |  반복 1 / 10 | 시간 0[s] | 손실 1.10\n",
      "| 에폭 14 |  반복 1 / 10 | 시간 0[s] | 손실 1.09\n",
      "| 에폭 15 |  반복 1 / 10 | 시간 0[s] | 손실 1.08\n",
      "| 에폭 16 |  반복 1 / 10 | 시간 0[s] | 손실 1.04\n",
      "| 에폭 17 |  반복 1 / 10 | 시간 0[s] | 손실 1.03\n",
      "| 에폭 18 |  반복 1 / 10 | 시간 0[s] | 손실 0.94\n",
      "| 에폭 19 |  반복 1 / 10 | 시간 0[s] | 손실 0.92\n",
      "| 에폭 20 |  반복 1 / 10 | 시간 0[s] | 손실 0.92\n",
      "| 에폭 21 |  반복 1 / 10 | 시간 0[s] | 손실 0.87\n",
      "| 에폭 22 |  반복 1 / 10 | 시간 0[s] | 손실 0.85\n",
      "| 에폭 23 |  반복 1 / 10 | 시간 0[s] | 손실 0.80\n",
      "| 에폭 24 |  반복 1 / 10 | 시간 0[s] | 손실 0.79\n",
      "| 에폭 25 |  반복 1 / 10 | 시간 0[s] | 손실 0.78\n",
      "| 에폭 26 |  반복 1 / 10 | 시간 0[s] | 손실 0.83\n",
      "| 에폭 27 |  반복 1 / 10 | 시간 0[s] | 손실 0.77\n",
      "| 에폭 28 |  반복 1 / 10 | 시간 0[s] | 손실 0.76\n",
      "| 에폭 29 |  반복 1 / 10 | 시간 0[s] | 손실 0.77\n",
      "| 에폭 30 |  반복 1 / 10 | 시간 0[s] | 손실 0.76\n",
      "| 에폭 31 |  반복 1 / 10 | 시간 0[s] | 손실 0.77\n",
      "| 에폭 32 |  반복 1 / 10 | 시간 0[s] | 손실 0.75\n",
      "| 에폭 33 |  반복 1 / 10 | 시간 0[s] | 손실 0.78\n",
      "| 에폭 34 |  반복 1 / 10 | 시간 0[s] | 손실 0.77\n",
      "| 에폭 35 |  반복 1 / 10 | 시간 0[s] | 손실 0.78\n",
      "| 에폭 36 |  반복 1 / 10 | 시간 0[s] | 손실 0.74\n",
      "| 에폭 37 |  반복 1 / 10 | 시간 0[s] | 손실 0.75\n",
      "| 에폭 38 |  반복 1 / 10 | 시간 0[s] | 손실 0.77\n",
      "| 에폭 39 |  반복 1 / 10 | 시간 0[s] | 손실 0.75\n",
      "| 에폭 40 |  반복 1 / 10 | 시간 0[s] | 손실 0.73\n",
      "| 에폭 41 |  반복 1 / 10 | 시간 0[s] | 손실 0.75\n",
      "| 에폭 42 |  반복 1 / 10 | 시간 0[s] | 손실 0.76\n",
      "| 에폭 43 |  반복 1 / 10 | 시간 0[s] | 손실 0.79\n",
      "| 에폭 44 |  반복 1 / 10 | 시간 0[s] | 손실 0.74\n",
      "| 에폭 45 |  반복 1 / 10 | 시간 0[s] | 손실 0.75\n",
      "| 에폭 46 |  반복 1 / 10 | 시간 0[s] | 손실 0.73\n",
      "| 에폭 47 |  반복 1 / 10 | 시간 0[s] | 손실 0.73\n",
      "| 에폭 48 |  반복 1 / 10 | 시간 0[s] | 손실 0.73\n",
      "| 에폭 49 |  반복 1 / 10 | 시간 0[s] | 손실 0.73\n",
      "| 에폭 50 |  반복 1 / 10 | 시간 0[s] | 손실 0.72\n",
      "| 에폭 51 |  반복 1 / 10 | 시간 0[s] | 손실 0.72\n",
      "| 에폭 52 |  반복 1 / 10 | 시간 0[s] | 손실 0.72\n",
      "| 에폭 53 |  반복 1 / 10 | 시간 0[s] | 손실 0.72\n",
      "| 에폭 54 |  반복 1 / 10 | 시간 0[s] | 손실 0.74\n",
      "| 에폭 55 |  반복 1 / 10 | 시간 0[s] | 손실 0.74\n",
      "| 에폭 56 |  반복 1 / 10 | 시간 0[s] | 손실 0.73\n",
      "| 에폭 57 |  반복 1 / 10 | 시간 0[s] | 손실 0.72\n",
      "| 에폭 58 |  반복 1 / 10 | 시간 0[s] | 손실 0.69\n",
      "| 에폭 59 |  반복 1 / 10 | 시간 0[s] | 손실 0.72\n",
      "| 에폭 60 |  반복 1 / 10 | 시간 0[s] | 손실 0.70\n",
      "| 에폭 61 |  반복 1 / 10 | 시간 0[s] | 손실 0.69\n",
      "| 에폭 62 |  반복 1 / 10 | 시간 0[s] | 손실 0.71\n",
      "| 에폭 63 |  반복 1 / 10 | 시간 0[s] | 손실 0.70\n",
      "| 에폭 64 |  반복 1 / 10 | 시간 0[s] | 손실 0.71\n",
      "| 에폭 65 |  반복 1 / 10 | 시간 0[s] | 손실 0.72\n",
      "| 에폭 66 |  반복 1 / 10 | 시간 0[s] | 손실 0.71\n",
      "| 에폭 67 |  반복 1 / 10 | 시간 0[s] | 손실 0.71\n",
      "| 에폭 68 |  반복 1 / 10 | 시간 0[s] | 손실 0.71\n",
      "| 에폭 69 |  반복 1 / 10 | 시간 0[s] | 손실 0.70\n",
      "| 에폭 70 |  반복 1 / 10 | 시간 0[s] | 손실 0.68\n",
      "| 에폭 71 |  반복 1 / 10 | 시간 0[s] | 손실 0.73\n",
      "| 에폭 72 |  반복 1 / 10 | 시간 0[s] | 손실 0.66\n",
      "| 에폭 73 |  반복 1 / 10 | 시간 0[s] | 손실 0.69\n",
      "| 에폭 74 |  반복 1 / 10 | 시간 0[s] | 손실 0.66\n",
      "| 에폭 75 |  반복 1 / 10 | 시간 0[s] | 손실 0.70\n",
      "| 에폭 76 |  반복 1 / 10 | 시간 0[s] | 손실 0.65\n",
      "| 에폭 77 |  반복 1 / 10 | 시간 0[s] | 손실 0.67\n",
      "| 에폭 78 |  반복 1 / 10 | 시간 0[s] | 손실 0.70\n",
      "| 에폭 79 |  반복 1 / 10 | 시간 0[s] | 손실 0.63\n",
      "| 에폭 80 |  반복 1 / 10 | 시간 0[s] | 손실 0.66\n",
      "| 에폭 81 |  반복 1 / 10 | 시간 0[s] | 손실 0.65\n",
      "| 에폭 82 |  반복 1 / 10 | 시간 0[s] | 손실 0.66\n",
      "| 에폭 83 |  반복 1 / 10 | 시간 0[s] | 손실 0.64\n",
      "| 에폭 84 |  반복 1 / 10 | 시간 0[s] | 손실 0.62\n",
      "| 에폭 85 |  반복 1 / 10 | 시간 0[s] | 손실 0.62\n",
      "| 에폭 86 |  반복 1 / 10 | 시간 0[s] | 손실 0.63\n",
      "| 에폭 87 |  반복 1 / 10 | 시간 0[s] | 손실 0.59\n",
      "| 에폭 88 |  반복 1 / 10 | 시간 0[s] | 손실 0.58\n",
      "| 에폭 89 |  반복 1 / 10 | 시간 0[s] | 손실 0.61\n",
      "| 에폭 90 |  반복 1 / 10 | 시간 0[s] | 손실 0.59\n",
      "| 에폭 91 |  반복 1 / 10 | 시간 0[s] | 손실 0.58\n",
      "| 에폭 92 |  반복 1 / 10 | 시간 0[s] | 손실 0.57\n",
      "| 에폭 93 |  반복 1 / 10 | 시간 0[s] | 손실 0.55\n",
      "| 에폭 94 |  반복 1 / 10 | 시간 0[s] | 손실 0.54\n",
      "| 에폭 95 |  반복 1 / 10 | 시간 0[s] | 손실 0.53\n",
      "| 에폭 96 |  반복 1 / 10 | 시간 0[s] | 손실 0.54\n",
      "| 에폭 97 |  반복 1 / 10 | 시간 0[s] | 손실 0.51\n",
      "| 에폭 98 |  반복 1 / 10 | 시간 0[s] | 손실 0.51\n",
      "| 에폭 99 |  반복 1 / 10 | 시간 0[s] | 손실 0.50\n",
      "| 에폭 100 |  반복 1 / 10 | 시간 0[s] | 손실 0.47\n",
      "| 에폭 101 |  반복 1 / 10 | 시간 0[s] | 손실 0.49\n",
      "| 에폭 102 |  반복 1 / 10 | 시간 0[s] | 손실 0.46\n",
      "| 에폭 103 |  반복 1 / 10 | 시간 0[s] | 손실 0.44\n",
      "| 에폭 104 |  반복 1 / 10 | 시간 0[s] | 손실 0.47\n",
      "| 에폭 105 |  반복 1 / 10 | 시간 0[s] | 손실 0.44\n",
      "| 에폭 106 |  반복 1 / 10 | 시간 0[s] | 손실 0.43\n",
      "| 에폭 107 |  반복 1 / 10 | 시간 0[s] | 손실 0.43\n",
      "| 에폭 108 |  반복 1 / 10 | 시간 0[s] | 손실 0.39\n",
      "| 에폭 109 |  반복 1 / 10 | 시간 0[s] | 손실 0.40\n",
      "| 에폭 110 |  반복 1 / 10 | 시간 0[s] | 손실 0.41\n",
      "| 에폭 111 |  반복 1 / 10 | 시간 0[s] | 손실 0.38\n",
      "| 에폭 112 |  반복 1 / 10 | 시간 0[s] | 손실 0.38\n",
      "| 에폭 113 |  반복 1 / 10 | 시간 0[s] | 손실 0.38\n",
      "| 에폭 114 |  반복 1 / 10 | 시간 0[s] | 손실 0.37\n",
      "| 에폭 115 |  반복 1 / 10 | 시간 0[s] | 손실 0.36\n",
      "| 에폭 116 |  반복 1 / 10 | 시간 0[s] | 손실 0.34\n",
      "| 에폭 117 |  반복 1 / 10 | 시간 0[s] | 손실 0.35\n",
      "| 에폭 118 |  반복 1 / 10 | 시간 0[s] | 손실 0.33\n",
      "| 에폭 119 |  반복 1 / 10 | 시간 0[s] | 손실 0.35\n",
      "| 에폭 120 |  반복 1 / 10 | 시간 0[s] | 손실 0.33\n",
      "| 에폭 121 |  반복 1 / 10 | 시간 0[s] | 손실 0.33\n",
      "| 에폭 122 |  반복 1 / 10 | 시간 0[s] | 손실 0.32\n",
      "| 에폭 123 |  반복 1 / 10 | 시간 0[s] | 손실 0.31\n",
      "| 에폭 124 |  반복 1 / 10 | 시간 0[s] | 손실 0.31\n",
      "| 에폭 125 |  반복 1 / 10 | 시간 0[s] | 손실 0.31\n",
      "| 에폭 126 |  반복 1 / 10 | 시간 0[s] | 손실 0.30\n",
      "| 에폭 127 |  반복 1 / 10 | 시간 0[s] | 손실 0.30\n",
      "| 에폭 128 |  반복 1 / 10 | 시간 0[s] | 손실 0.27\n",
      "| 에폭 129 |  반복 1 / 10 | 시간 0[s] | 손실 0.30\n",
      "| 에폭 130 |  반복 1 / 10 | 시간 0[s] | 손실 0.28\n",
      "| 에폭 131 |  반복 1 / 10 | 시간 0[s] | 손실 0.26\n",
      "| 에폭 132 |  반복 1 / 10 | 시간 0[s] | 손실 0.27\n",
      "| 에폭 133 |  반복 1 / 10 | 시간 0[s] | 손실 0.27\n",
      "| 에폭 134 |  반복 1 / 10 | 시간 0[s] | 손실 0.28\n",
      "| 에폭 135 |  반복 1 / 10 | 시간 0[s] | 손실 0.26\n",
      "| 에폭 136 |  반복 1 / 10 | 시간 0[s] | 손실 0.28\n",
      "| 에폭 137 |  반복 1 / 10 | 시간 0[s] | 손실 0.25\n",
      "| 에폭 138 |  반복 1 / 10 | 시간 0[s] | 손실 0.26\n",
      "| 에폭 139 |  반복 1 / 10 | 시간 0[s] | 손실 0.26\n",
      "| 에폭 140 |  반복 1 / 10 | 시간 0[s] | 손실 0.26\n",
      "| 에폭 141 |  반복 1 / 10 | 시간 0[s] | 손실 0.23\n",
      "| 에폭 142 |  반복 1 / 10 | 시간 0[s] | 손실 0.23\n",
      "| 에폭 143 |  반복 1 / 10 | 시간 0[s] | 손실 0.26\n",
      "| 에폭 144 |  반복 1 / 10 | 시간 0[s] | 손실 0.23\n",
      "| 에폭 145 |  반복 1 / 10 | 시간 0[s] | 손실 0.24\n",
      "| 에폭 146 |  반복 1 / 10 | 시간 0[s] | 손실 0.24\n",
      "| 에폭 147 |  반복 1 / 10 | 시간 0[s] | 손실 0.25\n",
      "| 에폭 148 |  반복 1 / 10 | 시간 0[s] | 손실 0.21\n",
      "| 에폭 149 |  반복 1 / 10 | 시간 0[s] | 손실 0.23\n",
      "| 에폭 150 |  반복 1 / 10 | 시간 0[s] | 손실 0.22\n",
      "| 에폭 151 |  반복 1 / 10 | 시간 0[s] | 손실 0.22\n",
      "| 에폭 152 |  반복 1 / 10 | 시간 0[s] | 손실 0.23\n",
      "| 에폭 153 |  반복 1 / 10 | 시간 0[s] | 손실 0.23\n",
      "| 에폭 154 |  반복 1 / 10 | 시간 0[s] | 손실 0.20\n",
      "| 에폭 155 |  반복 1 / 10 | 시간 0[s] | 손실 0.22\n",
      "| 에폭 156 |  반복 1 / 10 | 시간 0[s] | 손실 0.21\n",
      "| 에폭 157 |  반복 1 / 10 | 시간 0[s] | 손실 0.21\n",
      "| 에폭 158 |  반복 1 / 10 | 시간 0[s] | 손실 0.20\n",
      "| 에폭 159 |  반복 1 / 10 | 시간 0[s] | 손실 0.21\n",
      "| 에폭 160 |  반복 1 / 10 | 시간 0[s] | 손실 0.20\n",
      "| 에폭 161 |  반복 1 / 10 | 시간 0[s] | 손실 0.19\n",
      "| 에폭 162 |  반복 1 / 10 | 시간 0[s] | 손실 0.22\n",
      "| 에폭 163 |  반복 1 / 10 | 시간 0[s] | 손실 0.19\n",
      "| 에폭 164 |  반복 1 / 10 | 시간 0[s] | 손실 0.21\n",
      "| 에폭 165 |  반복 1 / 10 | 시간 0[s] | 손실 0.20\n",
      "| 에폭 166 |  반복 1 / 10 | 시간 0[s] | 손실 0.20\n",
      "| 에폭 167 |  반복 1 / 10 | 시간 0[s] | 손실 0.20\n",
      "| 에폭 168 |  반복 1 / 10 | 시간 0[s] | 손실 0.19\n",
      "| 에폭 169 |  반복 1 / 10 | 시간 0[s] | 손실 0.18\n",
      "| 에폭 170 |  반복 1 / 10 | 시간 0[s] | 손실 0.19\n",
      "| 에폭 171 |  반복 1 / 10 | 시간 0[s] | 손실 0.19\n",
      "| 에폭 172 |  반복 1 / 10 | 시간 0[s] | 손실 0.20\n",
      "| 에폭 173 |  반복 1 / 10 | 시간 0[s] | 손실 0.16\n",
      "| 에폭 174 |  반복 1 / 10 | 시간 0[s] | 손실 0.20\n",
      "| 에폭 175 |  반복 1 / 10 | 시간 0[s] | 손실 0.18\n",
      "| 에폭 176 |  반복 1 / 10 | 시간 0[s] | 손실 0.17\n",
      "| 에폭 177 |  반복 1 / 10 | 시간 0[s] | 손실 0.17\n",
      "| 에폭 178 |  반복 1 / 10 | 시간 0[s] | 손실 0.17\n",
      "| 에폭 179 |  반복 1 / 10 | 시간 0[s] | 손실 0.18\n",
      "| 에폭 180 |  반복 1 / 10 | 시간 0[s] | 손실 0.19\n",
      "| 에폭 181 |  반복 1 / 10 | 시간 0[s] | 손실 0.17\n",
      "| 에폭 182 |  반복 1 / 10 | 시간 0[s] | 손실 0.18\n",
      "| 에폭 183 |  반복 1 / 10 | 시간 0[s] | 손실 0.16\n",
      "| 에폭 184 |  반복 1 / 10 | 시간 0[s] | 손실 0.18\n",
      "| 에폭 185 |  반복 1 / 10 | 시간 0[s] | 손실 0.18\n",
      "| 에폭 186 |  반복 1 / 10 | 시간 0[s] | 손실 0.17\n",
      "| 에폭 187 |  반복 1 / 10 | 시간 0[s] | 손실 0.17\n",
      "| 에폭 188 |  반복 1 / 10 | 시간 0[s] | 손실 0.18\n",
      "| 에폭 189 |  반복 1 / 10 | 시간 0[s] | 손실 0.16\n",
      "| 에폭 190 |  반복 1 / 10 | 시간 0[s] | 손실 0.16\n",
      "| 에폭 191 |  반복 1 / 10 | 시간 0[s] | 손실 0.17\n",
      "| 에폭 192 |  반복 1 / 10 | 시간 0[s] | 손실 0.17\n",
      "| 에폭 193 |  반복 1 / 10 | 시간 0[s] | 손실 0.16\n",
      "| 에폭 194 |  반복 1 / 10 | 시간 0[s] | 손실 0.16\n",
      "| 에폭 195 |  반복 1 / 10 | 시간 0[s] | 손실 0.16\n",
      "| 에폭 196 |  반복 1 / 10 | 시간 0[s] | 손실 0.17\n",
      "| 에폭 197 |  반복 1 / 10 | 시간 0[s] | 손실 0.16\n",
      "| 에폭 198 |  반복 1 / 10 | 시간 0[s] | 손실 0.17\n",
      "| 에폭 199 |  반복 1 / 10 | 시간 0[s] | 손실 0.16\n",
      "| 에폭 200 |  반복 1 / 10 | 시간 0[s] | 손실 0.14\n",
      "| 에폭 201 |  반복 1 / 10 | 시간 0[s] | 손실 0.16\n",
      "| 에폭 202 |  반복 1 / 10 | 시간 0[s] | 손실 0.16\n",
      "| 에폭 203 |  반복 1 / 10 | 시간 0[s] | 손실 0.15\n",
      "| 에폭 204 |  반복 1 / 10 | 시간 0[s] | 손실 0.16\n",
      "| 에폭 205 |  반복 1 / 10 | 시간 0[s] | 손실 0.14\n",
      "| 에폭 206 |  반복 1 / 10 | 시간 0[s] | 손실 0.16\n",
      "| 에폭 207 |  반복 1 / 10 | 시간 0[s] | 손실 0.16\n",
      "| 에폭 208 |  반복 1 / 10 | 시간 0[s] | 손실 0.14\n",
      "| 에폭 209 |  반복 1 / 10 | 시간 0[s] | 손실 0.15\n",
      "| 에폭 210 |  반복 1 / 10 | 시간 0[s] | 손실 0.16\n",
      "| 에폭 211 |  반복 1 / 10 | 시간 0[s] | 손실 0.14\n",
      "| 에폭 212 |  반복 1 / 10 | 시간 0[s] | 손실 0.15\n",
      "| 에폭 213 |  반복 1 / 10 | 시간 0[s] | 손실 0.15\n",
      "| 에폭 214 |  반복 1 / 10 | 시간 0[s] | 손실 0.15\n",
      "| 에폭 215 |  반복 1 / 10 | 시간 0[s] | 손실 0.14\n",
      "| 에폭 216 |  반복 1 / 10 | 시간 0[s] | 손실 0.14\n",
      "| 에폭 217 |  반복 1 / 10 | 시간 0[s] | 손실 0.15\n",
      "| 에폭 218 |  반복 1 / 10 | 시간 0[s] | 손실 0.14\n",
      "| 에폭 219 |  반복 1 / 10 | 시간 0[s] | 손실 0.15\n",
      "| 에폭 220 |  반복 1 / 10 | 시간 0[s] | 손실 0.15\n",
      "| 에폭 221 |  반복 1 / 10 | 시간 0[s] | 손실 0.14\n",
      "| 에폭 222 |  반복 1 / 10 | 시간 0[s] | 손실 0.13\n",
      "| 에폭 223 |  반복 1 / 10 | 시간 0[s] | 손실 0.15\n",
      "| 에폭 224 |  반복 1 / 10 | 시간 0[s] | 손실 0.14\n",
      "| 에폭 225 |  반복 1 / 10 | 시간 0[s] | 손실 0.16\n",
      "| 에폭 226 |  반복 1 / 10 | 시간 0[s] | 손실 0.12\n",
      "| 에폭 227 |  반복 1 / 10 | 시간 0[s] | 손실 0.13\n",
      "| 에폭 228 |  반복 1 / 10 | 시간 0[s] | 손실 0.15\n",
      "| 에폭 229 |  반복 1 / 10 | 시간 0[s] | 손실 0.14\n",
      "| 에폭 230 |  반복 1 / 10 | 시간 0[s] | 손실 0.13\n",
      "| 에폭 231 |  반복 1 / 10 | 시간 0[s] | 손실 0.14\n",
      "| 에폭 232 |  반복 1 / 10 | 시간 0[s] | 손실 0.13\n",
      "| 에폭 233 |  반복 1 / 10 | 시간 0[s] | 손실 0.13\n",
      "| 에폭 234 |  반복 1 / 10 | 시간 0[s] | 손실 0.14\n",
      "| 에폭 235 |  반복 1 / 10 | 시간 0[s] | 손실 0.13\n",
      "| 에폭 236 |  반복 1 / 10 | 시간 0[s] | 손실 0.12\n"
     ]
    },
    {
     "name": "stdout",
     "output_type": "stream",
     "text": [
      "| 에폭 237 |  반복 1 / 10 | 시간 0[s] | 손실 0.13\n",
      "| 에폭 238 |  반복 1 / 10 | 시간 0[s] | 손실 0.14\n",
      "| 에폭 239 |  반복 1 / 10 | 시간 0[s] | 손실 0.14\n",
      "| 에폭 240 |  반복 1 / 10 | 시간 0[s] | 손실 0.13\n",
      "| 에폭 241 |  반복 1 / 10 | 시간 0[s] | 손실 0.14\n",
      "| 에폭 242 |  반복 1 / 10 | 시간 0[s] | 손실 0.13\n",
      "| 에폭 243 |  반복 1 / 10 | 시간 0[s] | 손실 0.13\n",
      "| 에폭 244 |  반복 1 / 10 | 시간 0[s] | 손실 0.14\n",
      "| 에폭 245 |  반복 1 / 10 | 시간 0[s] | 손실 0.12\n",
      "| 에폭 246 |  반복 1 / 10 | 시간 0[s] | 손실 0.13\n",
      "| 에폭 247 |  반복 1 / 10 | 시간 0[s] | 손실 0.13\n",
      "| 에폭 248 |  반복 1 / 10 | 시간 0[s] | 손실 0.12\n",
      "| 에폭 249 |  반복 1 / 10 | 시간 0[s] | 손실 0.14\n",
      "| 에폭 250 |  반복 1 / 10 | 시간 0[s] | 손실 0.12\n",
      "| 에폭 251 |  반복 1 / 10 | 시간 0[s] | 손실 0.13\n",
      "| 에폭 252 |  반복 1 / 10 | 시간 0[s] | 손실 0.13\n",
      "| 에폭 253 |  반복 1 / 10 | 시간 0[s] | 손실 0.12\n",
      "| 에폭 254 |  반복 1 / 10 | 시간 0[s] | 손실 0.12\n",
      "| 에폭 255 |  반복 1 / 10 | 시간 0[s] | 손실 0.13\n",
      "| 에폭 256 |  반복 1 / 10 | 시간 0[s] | 손실 0.12\n",
      "| 에폭 257 |  반복 1 / 10 | 시간 0[s] | 손실 0.12\n",
      "| 에폭 258 |  반복 1 / 10 | 시간 0[s] | 손실 0.12\n",
      "| 에폭 259 |  반복 1 / 10 | 시간 0[s] | 손실 0.13\n",
      "| 에폭 260 |  반복 1 / 10 | 시간 0[s] | 손실 0.13\n",
      "| 에폭 261 |  반복 1 / 10 | 시간 0[s] | 손실 0.11\n",
      "| 에폭 262 |  반복 1 / 10 | 시간 0[s] | 손실 0.13\n",
      "| 에폭 263 |  반복 1 / 10 | 시간 0[s] | 손실 0.12\n",
      "| 에폭 264 |  반복 1 / 10 | 시간 0[s] | 손실 0.11\n",
      "| 에폭 265 |  반복 1 / 10 | 시간 0[s] | 손실 0.14\n",
      "| 에폭 266 |  반복 1 / 10 | 시간 0[s] | 손실 0.11\n",
      "| 에폭 267 |  반복 1 / 10 | 시간 0[s] | 손실 0.13\n",
      "| 에폭 268 |  반복 1 / 10 | 시간 0[s] | 손실 0.11\n",
      "| 에폭 269 |  반복 1 / 10 | 시간 0[s] | 손실 0.13\n",
      "| 에폭 270 |  반복 1 / 10 | 시간 0[s] | 손실 0.11\n",
      "| 에폭 271 |  반복 1 / 10 | 시간 0[s] | 손실 0.12\n",
      "| 에폭 272 |  반복 1 / 10 | 시간 0[s] | 손실 0.12\n",
      "| 에폭 273 |  반복 1 / 10 | 시간 0[s] | 손실 0.12\n",
      "| 에폭 274 |  반복 1 / 10 | 시간 0[s] | 손실 0.12\n",
      "| 에폭 275 |  반복 1 / 10 | 시간 0[s] | 손실 0.12\n",
      "| 에폭 276 |  반복 1 / 10 | 시간 0[s] | 손실 0.12\n",
      "| 에폭 277 |  반복 1 / 10 | 시간 0[s] | 손실 0.11\n",
      "| 에폭 278 |  반복 1 / 10 | 시간 0[s] | 손실 0.13\n",
      "| 에폭 279 |  반복 1 / 10 | 시간 0[s] | 손실 0.11\n",
      "| 에폭 280 |  반복 1 / 10 | 시간 0[s] | 손실 0.10\n",
      "| 에폭 281 |  반복 1 / 10 | 시간 0[s] | 손실 0.12\n",
      "| 에폭 282 |  반복 1 / 10 | 시간 0[s] | 손실 0.11\n",
      "| 에폭 283 |  반복 1 / 10 | 시간 0[s] | 손실 0.12\n",
      "| 에폭 284 |  반복 1 / 10 | 시간 0[s] | 손실 0.11\n",
      "| 에폭 285 |  반복 1 / 10 | 시간 0[s] | 손실 0.11\n",
      "| 에폭 286 |  반복 1 / 10 | 시간 0[s] | 손실 0.12\n",
      "| 에폭 287 |  반복 1 / 10 | 시간 0[s] | 손실 0.11\n",
      "| 에폭 288 |  반복 1 / 10 | 시간 0[s] | 손실 0.11\n",
      "| 에폭 289 |  반복 1 / 10 | 시간 0[s] | 손실 0.12\n",
      "| 에폭 290 |  반복 1 / 10 | 시간 0[s] | 손실 0.11\n",
      "| 에폭 291 |  반복 1 / 10 | 시간 0[s] | 손실 0.11\n",
      "| 에폭 292 |  반복 1 / 10 | 시간 0[s] | 손실 0.11\n",
      "| 에폭 293 |  반복 1 / 10 | 시간 0[s] | 손실 0.11\n",
      "| 에폭 294 |  반복 1 / 10 | 시간 0[s] | 손실 0.11\n",
      "| 에폭 295 |  반복 1 / 10 | 시간 0[s] | 손실 0.11\n",
      "| 에폭 296 |  반복 1 / 10 | 시간 0[s] | 손실 0.12\n",
      "| 에폭 297 |  반복 1 / 10 | 시간 0[s] | 손실 0.11\n",
      "| 에폭 298 |  반복 1 / 10 | 시간 0[s] | 손실 0.11\n",
      "| 에폭 299 |  반복 1 / 10 | 시간 0[s] | 손실 0.11\n",
      "| 에폭 300 |  반복 1 / 10 | 시간 0[s] | 손실 0.11\n"
     ]
    },
    {
     "data": {
      "text/plain": [
       "<Figure size 640x480 with 1 Axes>"
      ]
     },
     "metadata": {},
     "output_type": "display_data"
    }
   ],
   "source": [
    "import sys\n",
    "sys.path.append('..')\n",
    "from common.optimizer import SGD\n",
    "from common.trainer import Trainer\n",
    "from dataset import spiral\n",
    "from two_layer_net import TwoLayerNet\n",
    "\n",
    "max_epoch = 300\n",
    "batch_size = 30\n",
    "hidden_size = 10\n",
    "learning_rate = 1.0\n",
    "\n",
    "x, t = spiral.load_data()\n",
    "model = TwoLayerNet(input_size = 2, hidden_size = hidden_size, output_size=3)\n",
    "optimizer = SGD(lr = learning_rate)\n",
    "\n",
    "trainer = Trainer(model, optimizer)\n",
    "trainer.fit(x, t, max_epoch, batch_size, eval_interval=10)\n",
    "trainer.plot()"
   ]
  },
  {
   "cell_type": "code",
   "execution_count": 22,
   "metadata": {},
   "outputs": [
    {
     "data": {
      "image/png": "[encoded data removed]",
      "text/plain": [
       "<Figure size 720x720 with 1 Axes>"
      ]
     },
     "metadata": {
      "needs_background": "light"
     },
     "output_type": "display_data"
    }
   ],
   "source": [
    "import warnings\n",
    "warnings.filterwarnings(\"ignore\")\n",
    "trainer.plot()"
   ]
  },
  {
   "cell_type": "code",
   "execution_count": 23,
   "metadata": {},
   "outputs": [
    {
     "data": {
      "text/plain": [
       "dtype('float64')"
      ]
     },
     "execution_count": 23,
     "metadata": {},
     "output_type": "execute_result"
    }
   ],
   "source": [
    "import numpy as np\n",
    "a = np.random.randn(3)\n",
    "a.dtype"
   ]
  },
  {
   "cell_type": "code",
   "execution_count": 24,
   "metadata": {},
   "outputs": [
    {
     "data": {
      "text/plain": [
       "dtype('float32')"
      ]
     },
     "execution_count": 24,
     "metadata": {},
     "output_type": "execute_result"
    }
   ],
   "source": [
    "b = np.random.randn(3).astype(np.float32)\n",
    "b.dtype"
   ]
  },
  {
   "cell_type": "code",
   "execution_count": 25,
   "metadata": {},
   "outputs": [
    {
     "data": {
      "text/plain": [
       "dtype('float32')"
      ]
     },
     "execution_count": 25,
     "metadata": {},
     "output_type": "execute_result"
    }
   ],
   "source": [
    "c = np.random.randn(3).astype('f')\n",
    "c.dtype"
   ]
  },
  {
   "cell_type": "markdown",
   "metadata": {},
   "source": [
    "### GPU(쿠파이)\n",
    "엔비디아 GPU에서만 작동한다.  \n",
    "\n",
    "    import cupy as cp\n",
    "    x = cp.arange(6).reshape(2,3).astype('f')"
   ]
  },
  {
   "cell_type": "code",
   "execution_count": 30,
   "metadata": {},
   "outputs": [
    {
     "name": "stdout",
     "output_type": "stream",
     "text": [
      "# coding: utf-8\r\n",
      "import sys\r\n",
      "sys.path.append('..')\r\n",
      "import numpy as np\r\n",
      "from common import config\r\n",
      "# GPU에서 실행하려면 아래 주석을 해제하세요(CuPy 필요).\r\n",
      "# ===============================================\r\n",
      "# config.GPU = True\r\n",
      "# ===============================================\r\n",
      "import pickle\r\n",
      "from common.trainer import Trainer\r\n",
      "from common.optimizer import Adam\r\n",
      "from cbow import CBOW\r\n",
      "from skip_gram import SkipGram\r\n",
      "from common.util import create_contexts_target, to_cpu, to_gpu\r\n",
      "from dataset import ptb\r\n",
      "\r\n",
      "\r\n",
      "# 하이퍼파라미터 설정\r\n",
      "window_size = 5\r\n",
      "hidden_size = 100\r\n",
      "batch_size = 100\r\n",
      "max_epoch = 10\r\n",
      "\r\n",
      "# 데이터 읽기\r\n",
      "corpus, word_to_id, id_to_word = ptb.load_data('train')\r\n",
      "vocab_size = len(word_to_id)\r\n",
      "\r\n",
      "contexts, target = create_contexts_target(corpus, window_size)\r\n",
      "if config.GPU:\r\n",
      "    contexts, target = to_gpu(contexts), to_gpu(target)\r\n",
      "\r\n",
      "# 모델 등 생성\r\n",
      "model = CBOW(vocab_size, hidden_size, window_size, corpus)\r\n",
      "# model = SkipGram(vocab_size, hidden_size, window_size, corpus)\r\n",
      "optimizer = Adam()\r\n",
      "trainer = Trainer(model, optimizer)\r\n",
      "\r\n",
      "# 학습 시작\r\n",
      "trainer.fit(contexts, target, max_epoch, batch_size)\r\n",
      "trainer.plot()\r\n",
      "\r\n",
      "# 나중에 사용할 수 있도록 필요한 데이터 저장\r\n",
      "word_vecs = model.word_vecs\r\n",
      "if config.GPU:\r\n",
      "    word_vecs = to_cpu(word_vecs)\r\n",
      "params = {}\r\n",
      "params['word_vecs'] = word_vecs.astype(np.float16)\r\n",
      "params['word_to_id'] = word_to_id\r\n",
      "params['id_to_word'] = id_to_word\r\n",
      "pkl_file = 'cbow_params.pkl'  # or 'skipgram_params.pkl'\r\n",
      "with open(pkl_file, 'wb') as f:\r\n",
      "    pickle.dump(params, f, -1)\r\n"
     ]
    }
   ],
   "source": [
    "# 쿠파이 활용한 train.py\n",
    "!cat train.py"
   ]
  },
  {
   "cell_type": "markdown",
   "metadata": {},
   "source": [
    " 쿠파이가 등장하는 ch04/train.py\n",
    " \n",
    "    import sys\n",
    "    sys.path.append('..')\n",
    "    import numpy as np\n",
    "    from common import config\n",
    "    # GPU에서 실행하려면 아래 주석을 해제하세요(CuPy 필요).\n",
    "    # ===============================================\n",
    "    # config.GPU = True\n",
    "    # ===============================================\n",
    "    \n",
    "여기서 #config.GPU = True 실행하면, GPU로 계산이 가능하다. 훨씬 빠르다."
   ]
  },
  {
   "cell_type": "markdown",
   "metadata": {},
   "source": [
    "## 정리\n",
    ">이번 장에서 배운 내용\n",
    "* 신경망은 입력층, 은닉층(중간층), 출력층을 지닌다.\n",
    "* 완전연결계층에 의해 선형 변환이 이뤄지고, 활성화 함수에 의해 비선형 변환이 이루어진다.\n",
    "* 완전연결계층이나 미니배치 처리는 행렬ㄹ로 모아 한꺼번에 계산할 수 있다.\n",
    "* 오차역전파법을 사용하여 신경망의 손실에 관한 기울기를 효율적으로 구할 수 있다.\n",
    "* 신경망이 수행하는 처리는 계산 그래프로 시각화할 수 있고, 순전파와 역전파를 이해하는 데 도움이 된다.\n",
    "* 신경망의 구성요소들을 계층으로 모듈화해두면, 이를 조립하여 신경망을 쉽게 구성할 수 있다.\n",
    "* 신경망 고속화에는 GPU를 이용한 병렬 계산과 데이터의 비트 정밀도가 중요하다."
   ]
  }
 ],
 "metadata": {
  "kernelspec": {
   "display_name": "Python 3",
   "language": "python",
   "name": "python3"
  },
  "language_info": {
   "codemirror_mode": {
    "name": "ipython",
    "version": 3
   },
   "file_extension": ".py",
   "mimetype": "text/x-python",
   "name": "python",
   "nbconvert_exporter": "python",
   "pygments_lexer": "ipython3",
   "version": "3.7.3"
  }
 },
 "nbformat": 4,
 "nbformat_minor": 2
}
