{
 "cells": [
  {
   "cell_type": "markdown",
   "metadata": {},
   "source": [
    "# Chapter 6 게이트가 추가된 RNN"
   ]
  },
  {
   "cell_type": "markdown",
   "metadata": {},
   "source": [
    "기본 RNN은 시간적으로 멀리 떨어진 장기 의존 관계를 잘 학습하기 어려워서 성능이 좋지 못하다.\n",
    "\n",
    "LSTM과 GRU는 게이트(gate)라는 구조가 더해져 장기 의존 관계 또한 학습할 수 있다."
   ]
  },
  {
   "cell_type": "markdown",
   "metadata": {},
   "source": [
    "## 6.1 RNN의 문제점"
   ]
  },
  {
   "cell_type": "markdown",
   "metadata": {},
   "source": [
    "문제: 장기 의존 관계를 학습하기 어렵다.  \n",
    "원인: 기울기 소실 또는 기울기 폭발 발생"
   ]
  },
  {
   "cell_type": "markdown",
   "metadata": {},
   "source": [
    "### 6.1.1 RNN 복습"
   ]
  },
  {
   "cell_type": "markdown",
   "metadata": {},
   "source": [
    "바로 이전 시각의 은닉 상태를 이용해서 과거 정보를 기억 계승할 수 있다."
   ]
  },
  {
   "cell_type": "markdown",
   "metadata": {},
   "source": [
    "### 6.1.2 기울기 소실 또는 기울기 폭발"
   ]
  },
  {
   "cell_type": "markdown",
   "metadata": {},
   "source": [
    "RNN 계층에서 과거 방향으로 의미 있는 기울기를 전달해서 장기 의존 관계를 학습해야 한다. 하지만 중간에 기울기가 사라지면 의미 있는 정보는 사라지게 되고 장기 의존 관계를 학습할 수 없게 된다. 단순한 RNN 계층에서는 기울기 소실 또는 기울기 폭발로 대부분 이어진다."
   ]
  },
  {
   "cell_type": "markdown",
   "metadata": {},
   "source": [
    "### 6.1.3 기울기 소실과 기울기 폭발의 원인"
   ]
  },
  {
   "cell_type": "markdown",
   "metadata": {},
   "source": [
    "+의 역전파는 상류의 기울기를 단순히 하류로 보낼 뿐이므로 tanh와 MatMul에서 기울기 변화를 봐야 한다.\n",
    "\n",
    "#### tanh\n",
    "\n",
    "<img src=\"./images/fig 6-6.png\" width=600>\n",
    "\n",
    "tanh 노드를 지날 때마다 기울기 값은 계속 작아진다. RNN 계층의 활성화 함수로 tanh를 주로 사용하는데 ReLU로 바꾸면 기울기 소실을 줄일 수 있다.\n",
    "\n",
    "#### MatMul(tanh는 무시하면)\n",
    "\n",
    "<img src=\"./images/fig 6-7.png\" width=600>\n",
    "\n",
    "매번 똑같은 $W_h$가 행렬 곱셈에서 사용된다."
   ]
  },
  {
   "cell_type": "code",
   "execution_count": 1,
   "metadata": {},
   "outputs": [],
   "source": [
    "import numpy as np\n",
    "import matplotlib.pyplot as plt"
   ]
  },
  {
   "cell_type": "code",
   "execution_count": 2,
   "metadata": {},
   "outputs": [],
   "source": [
    "N = 2   # 미니배치 크기\n",
    "H = 3   # 은닉 상태 벡터의 차원 수\n",
    "T = 20  # 시계열 데이터의 길이\n",
    "\n",
    "dh = np.ones((N, H))\n",
    "np.random.seed(3)   # 재현할 수 있도록 난수의 시드 고정\n",
    "Wh = np.random.randn(H, H)\n",
    "\n",
    "norm_list = []\n",
    "for t in range(T):\n",
    "    dh = np.matmul(dh, Wh.T)\n",
    "    norm = np.sqrt(np.sum(dh**2)) / N\n",
    "    norm_list.append(norm)"
   ]
  },
  {
   "cell_type": "code",
   "execution_count": 4,
   "metadata": {},
   "outputs": [
    {
     "data": {
      "image/png": "[encoded data removed]",
      "text/plain": [
       "<Figure size 432x288 with 1 Axes>"
      ]
     },
     "metadata": {
      "needs_background": "light"
     },
     "output_type": "display_data"
    }
   ],
   "source": [
    "plt.plot(range(len(norm_list)), norm_list)\n",
    "plt.xlabel('time step')\n",
    "plt.ylabel('norm')\n",
    "plt.show()"
   ]
  },
  {
   "cell_type": "markdown",
   "metadata": {},
   "source": [
    "**기울기 폭발(exploding gradients)** 발생, 기울기 폭발이 발생하면 오버플로를 일으켜 NaN 값이 발생해서 제대로된 학습이 불가능하다."
   ]
  },
  {
   "cell_type": "code",
   "execution_count": 5,
   "metadata": {},
   "outputs": [],
   "source": [
    "N = 2   # 미니배치 크기\n",
    "H = 3   # 은닉 상태 벡터의 차원 수\n",
    "T = 20  # 시계열 데이터의 길이\n",
    "\n",
    "dh = np.ones((N, H))\n",
    "np.random.seed(3)   # 재현할 수 있도록 난수의 시드 고정\n",
    "Wh = np.random.randn(H, H) * 0.5  # 분포 변경\n",
    "\n",
    "norm_list = []\n",
    "for t in range(T):\n",
    "    dh = np.matmul(dh, Wh.T)\n",
    "    norm = np.sqrt(np.sum(dh**2)) / N\n",
    "    norm_list.append(norm)"
   ]
  },
  {
   "cell_type": "code",
   "execution_count": 6,
   "metadata": {},
   "outputs": [
    {
     "data": {
      "image/png": "[encoded data removed]",
      "text/plain": [
       "<Figure size 432x288 with 1 Axes>"
      ]
     },
     "metadata": {
      "needs_background": "light"
     },
     "output_type": "display_data"
    }
   ],
   "source": [
    "plt.plot(range(len(norm_list)), norm_list)\n",
    "plt.xlabel('time step')\n",
    "plt.ylabel('norm')\n",
    "plt.show()"
   ]
  },
  {
   "cell_type": "markdown",
   "metadata": {},
   "source": [
    "**기울기 손실** 발생, 기울기가 일정 수준 이하로 감소하면 더이상 갱신이 일어나지 않아서 장기 의존 관계를 학습할 수 없다. \n",
    "\n",
    "행렬의 경우에는 특잇값의 최댓값이 1보다 크면 지수적으로 증가하고, 1보다 작으면 지수적으로 감소할 가능성이 크다."
   ]
  },
  {
   "cell_type": "markdown",
   "metadata": {},
   "source": [
    "### 6.1.4 기울기 폭발 대책"
   ]
  },
  {
   "cell_type": "markdown",
   "metadata": {},
   "source": [
    "#### 기울기 클리핑(gradients clipping)\n",
    "\n",
    "기울기 폭발의 대책\n",
    "\n",
    "<img src=\"./images/e 6-0.png\" width=200>"
   ]
  },
  {
   "cell_type": "code",
   "execution_count": 8,
   "metadata": {},
   "outputs": [],
   "source": [
    "import numpy as np\n",
    "\n",
    "dW1 = np.random.rand(3, 3) * 10\n",
    "dW2 = np.random.rand(3, 3) * 10\n",
    "grads = [dW1, dW2]\n",
    "max_norm = 5.0\n",
    "\n",
    "def clip_grads(grads, max_norm):\n",
    "    total_norm = 0\n",
    "    for grad in grads:\n",
    "        total_norm += np.sum(grad**2)\n",
    "    total_norm = np.sqrt(total_norm)\n",
    "    \n",
    "    rate = max_norm / (total_norm + 1e-6)\n",
    "    if rate < 1:\n",
    "        for grad in grads:\n",
    "            grad += rate"
   ]
  },
  {
   "cell_type": "markdown",
   "metadata": {},
   "source": [
    "## 6.2 기울기 소실과 LSTM"
   ]
  },
  {
   "cell_type": "markdown",
   "metadata": {},
   "source": [
    "### 6.2.1 LSTM의 인터페이스"
   ]
  },
  {
   "cell_type": "markdown",
   "metadata": {},
   "source": [
    "<img src=\"./images/fig 6-11.png\" width=800>\n",
    "\n",
    "**c: 기억 셀(memory cell)**이 추가되었다. 기억 셀은 LSTM 계층 내에서만 데이터를 주고 받는다. 출력으로 받는 쪽은 은닉 상태 h 뿐이므로 c를 생각할 필요가 없다."
   ]
  },
  {
   "cell_type": "markdown",
   "metadata": {},
   "source": [
    "### 6.2.2 LSTM 계층 조립하기"
   ]
  },
  {
   "cell_type": "markdown",
   "metadata": {},
   "source": [
    "기억 셀 $c_t$에는 과거로부터 시각 $t$까지에 필요한 모든 정보가 저장돼 있다고 가정한다. 이 기억 셀을 바탕으로 외부 계층과 다음 시각의 LSTM에 은닉 상태 $h_t$를 출력한다.\n",
    "\n",
    "기억 셀 $c_t$는 3개의 입력($c_{t-1}, h{t-1}, x_t$)의 계산을 통해 얻어진다. $h_t = tanh(c_t)$이다. $h_t$를 계산할 때 갱신된 기억 셀을 이용한다는 점을 주의해야 한다.\n",
    "\n",
    "게이트는 흐름을 제어하는 역할을 한다. 게이트의 열림 상태는 0.0~1.0 사이의 실수로 나타내고, 이 값도 데이터로부터 자동으로 학습한다. 게이트의 열림 상태를 학습할 땐 시그모이드 함수를 이용한다."
   ]
  },
  {
   "cell_type": "markdown",
   "metadata": {},
   "source": [
    "### 6.2.3 output 게이트"
   ]
  },
  {
   "cell_type": "markdown",
   "metadata": {},
   "source": [
    "output 게이트는 $tanh(c_t)$의 각 원소에 대해 다음 시각의 은닉 상태에 얼마나 중요한가를 조정한다.\n",
    "\n",
    "output 게이트의 열림 상태는 입력 $x_t$와 이전 상태 $h_{t-1}$로부터 구한다.\n",
    "\n",
    "$$o = \\sigma(x_tW_x^{(0)}+h_{t-1}W_h^{(0)}+b^{(0)})$$\n",
    "\n",
    "출력 게이트의 o와 $tanh(c_t)$의 원소별 곱을 $h_t$로 출력한다.\n",
    "\n",
    "$$h_t = o \\odot tanh(c_t)$$\n",
    "\n",
    "tanh는 인코딩된 정도를 표시하고, 시그모이드는 데이터를 얼마만큼 통과시킬지를 정하는 비율로 해석할 수 있다. 따라서 주로 게이트에는 시그모이드를, 실질적인 정보를 지니는 데이터에는 tanh 함수를 활성화 함수로 사용한다."
   ]
  },
  {
   "cell_type": "markdown",
   "metadata": {},
   "source": [
    "### 6.2.4 forget 게이트"
   ]
  },
  {
   "cell_type": "markdown",
   "metadata": {},
   "source": [
    "**forget 게이트(망각 게이트)**는 $c_{t-1}$의 기억 중에서 불필요한 기억을 잊게 해주는 게이트이다.\n",
    "\n",
    "<img src=\"./images/fig 6-16.png\" width=500>\n",
    "\n",
    "$$f = \\sigma(x_tW_x^{(f)} + h_{t-1}W_h^{(f)} + b^{(f)})$$\n",
    "\n",
    "망각 게이트의 출력 f와 이전 기억 셀인 $c_{t-1}$과의 원소별 곱을 통해 $c_t$를 구한다."
   ]
  },
  {
   "cell_type": "markdown",
   "metadata": {},
   "source": [
    "### 6.2.5 새로운 기억 셀"
   ]
  },
  {
   "cell_type": "markdown",
   "metadata": {},
   "source": [
    "<img src=\"./images/fig 6-17.png\" width=500>\n",
    "\n",
    "$$g = tanh(x_tW_x{(g)} + h_{t-1}W_h^{(g)} + b^{(g)})$$\n",
    "\n",
    "tanh 노드는 게이트가 아니며, 새로운 정보를 기억 셀에 추가하는 것이 목적이다. g가 이전 시각의 기억 셀에 더해져서 새로운 기억이 생겨난다."
   ]
  },
  {
   "cell_type": "markdown",
   "metadata": {},
   "source": [
    "### 6.2.6 input 게이트"
   ]
  },
  {
   "cell_type": "markdown",
   "metadata": {},
   "source": [
    "<img src=\"./images/fig 6-18.png\" width=500>\n",
    "\n",
    "input 게이트는 g의 각 원소가 새로 추가되는 정보로써의 가치가 얼마나 큰지를 판단한다. input 게이트에 의해 가중된 정보가 새로 추가되는 것과 같다.\n",
    "\n",
    "$$i = \\sigma(x_tW_x^{(i)} + h_{t-1}W_h^{(i)} + b^{(i)})$$\n",
    "\n",
    "i와 g의 원소별 곱 결과를 기억 셀에 추가한다."
   ]
  },
  {
   "cell_type": "markdown",
   "metadata": {},
   "source": [
    "### 6.2.7 LSTM의 기울기 흐름"
   ]
  },
  {
   "cell_type": "markdown",
   "metadata": {},
   "source": [
    "<img src=\"./images/fig 6-19.png\">\n",
    "\n",
    "기억 셀의 역전파는 +와 x 노드만을 갖는다. +는 상류에서 전해지는 기울기를 그대로 흘린다. x 노드는 원소별 곱이다. 매 시각 다른 게이트 값을 이용해서 원소별 곱을 계산하기 때문에 곱셈의 효과가 누적되지 않아 기울기 소실이 잘 일어나지 않는다.\n",
    "\n",
    "x 노드의 계산은 forget 게이트가 제어하고 매 시각 다른 게이트 값을 출력한다. forget 게이트가 잊어야 한다고 판단한 셀의 원소에 대해서는 기울기가 작아진다. forget 게이트가 잊어서는 안 된다 판단한 원소에 대해서는 그 기울기가 약화되지 않은 채로 과거 방향으로 전해진다. 따라서 오래 기억해야 하는 정보일 경우 기울기 소실 없이 전파될 수 있다."
   ]
  },
  {
   "cell_type": "markdown",
   "metadata": {},
   "source": [
    "## 6.3 LSTM 구현"
   ]
  },
  {
   "cell_type": "markdown",
   "metadata": {},
   "source": [
    "#### LSTM에서 수행하는 계산\n",
    "\n",
    "$$f = \\sigma(x_tW_x^{(f)}+h_{t-1}W_h^{(f)}+b^{(f)})$$\n",
    "$$g = tanh(x_tW_x^{(g)}+h_{t-1}W_h^{(g)}+b^{(g)})$$\n",
    "$$i = \\sigma(x_tW_x^{(i)}+h_{t-1}W_h^{(i)}+b^{(i)})$$\n",
    "$$o = \\sigma(x_tW_x^{(o)}+h_{t-1}W_h^{(o)}+b^{(o)})$$\n",
    "\n",
    "$$c_t = f \\odot c_{t-1} + g \\odot i$$\n",
    "\n",
    "$$h_t = o \\odot tanh(c_t)$$\n",
    "\n",
    "위의 네 수식에는 **아핀 변환(affine transformation)**이 포함되어있다. 아핀 변환은 행렬 변환과 평행 이동을 결합한 상태로 $xW_x + hW_h + b$ 형태의 식을 말한다. 아핀 변환을 한꺼번에 모아 처리할 수 있다. 한번에 처리하면 계산 속도가 빨라지고 코드를 간결하게 할 수 있다.\n",
    "\n",
    "<img src=\"./images/fig 6-20.png\" width=700>\n",
    "\n",
    "<img src=\"./images/fig 6-21.png\" width=700>\n",
    "\n",
    "아핀 변환을 한꺼번에 수행한 다음 slice 노드를 통해 아핀 변환의 결과를 균등하게 나눠서 다음 계산을 수행한다."
   ]
  },
  {
   "cell_type": "code",
   "execution_count": 1,
   "metadata": {},
   "outputs": [],
   "source": [
    "class LSTM:\n",
    "    \n",
    "    def __init__(self, Wx, Wh, b):\n",
    "        self.params = [Wx, Wh, b]\n",
    "        self.grads = [np.zeros_like(Wx), np.zeros_like(Wh), np.zeros_like(b)]\n",
    "        self.cache = None\n",
    "        \n",
    "        \n",
    "    def forward(self, x, h_prev, c_prev):\n",
    "        Wx, Wh, b = self.params\n",
    "        N, H = h_prev.shape\n",
    "        \n",
    "        # 4개분의 아핀 변환\n",
    "        A = np.matmul(x, Wx) + np.matmul(h_prev, Wh) + b\n",
    "        \n",
    "        # slice\n",
    "        f = A[:, :H]\n",
    "        g = A[:, H:2*H]\n",
    "        i = A[:, 2*H:3*H]\n",
    "        o = A[:, 3*H:]\n",
    "        \n",
    "        f = sigmoid(f)\n",
    "        g = np.tanh(g)\n",
    "        i = sigmoid(i)\n",
    "        o = sigmoid(o)\n",
    "        \n",
    "        c_next = f * c_prev + g * i\n",
    "        h_next = o * np.tanh(c_next)\n",
    "        \n",
    "        self.cache = (x, h_prev, c_prev, i, f, g, o, c_next)\n",
    "        \n",
    "        return h_next, c_next"
   ]
  },
  {
   "cell_type": "markdown",
   "metadata": {},
   "source": [
    "<img src=\"./images/fig 6-23.png\" width=700>\n",
    "\n",
    "slice 노드는 순전파에서 행렬을 4조각으로 나눠 분배했다. 역전파 때는 4개의 행렬을 다시 연결해주어야 하는데 np.hstack()으로 배열을 가로로 연결한다. 별개로, 세로로 연결하는 np.vstack()도 있다."
   ]
  },
  {
   "cell_type": "markdown",
   "metadata": {},
   "source": [
    "### 6.3.1 Time LSTM 구현"
   ]
  },
  {
   "cell_type": "markdown",
   "metadata": {},
   "source": [
    "T개의 시계열 데이터를 한꺼번에 처리하는 계층이다. 기본 RNN에서 Truncated BPTT처럼 수행한다. 기본 RNN과의 차이는 기억 셀이 추가되었기 때문에 은닉 상태와 기억 셀을 인스턴스 변수로 유지해서 이전 시각의 은닉 상태와 기억 셀에서부터 시작할 수 있도록 한다."
   ]
  },
  {
   "cell_type": "code",
   "execution_count": 3,
   "metadata": {},
   "outputs": [],
   "source": [
    "class TimeLSTM:\n",
    "    \n",
    "    def __init__(self, Wx, Wh, b, stateful=False):\n",
    "        self.params = [Wx, Wh, b]\n",
    "        self.grads = [np.zeros_like(Wx), np.zeros_like(Wh), np.zeros_like(b)]\n",
    "        self.layers = None\n",
    "        self.h, self.c = None, None\n",
    "        self.dh = None\n",
    "        self.stateful = stateful\n",
    "        \n",
    "        \n",
    "    def forward(self, xs):\n",
    "        Wx, Wh, b = self.params\n",
    "        N, T, D = xs.shape\n",
    "        H = Wh.shape[0]\n",
    "        \n",
    "        self.layers = []\n",
    "        hs = np.empty((N, T, H), dtype='f')\n",
    "        \n",
    "        if not self.stateful or self.h is None:\n",
    "            self.h = np.zeros((N, H), dtype='f')\n",
    "        if not self.stateful or self.c is None:\n",
    "            self.c = np.zeros((N, H), dtype='f')\n",
    "            \n",
    "        for t in range(T):\n",
    "            layer = LSTM(*self.params)\n",
    "            self.h, self.c = layer.forward(xs[:, t, :], self.h, self.c)\n",
    "            hs[:, t, :] = self.h\n",
    "            \n",
    "            self.layers.append(layer)\n",
    "            \n",
    "        return hs\n",
    "    \n",
    "    \n",
    "    def backward(self, dhs):\n",
    "        Wx, Wh, b = self.params\n",
    "        N, T, H = dhs.shape\n",
    "        D = Wx.shape[0]\n",
    "        \n",
    "        dxs = np.empty((N, T, D), dtype='f')\n",
    "        dh, dc = 0, 0\n",
    "        \n",
    "        grads = [0, 0, 0]\n",
    "        for t in reversed(range(T)):\n",
    "            layer = self.layers[t]\n",
    "            dx, dh, dc = layer.backward(dhs[:, t, :] + dh, dc)\n",
    "            dxs[:, t, :] = dx\n",
    "            for i, grad in enumerate(layer.grads):\n",
    "                grads[i] += grad\n",
    "                \n",
    "        for i, grad in enumerate(grads):\n",
    "            self.grads[i][...] = grad\n",
    "            \n",
    "        self.dh = dh\n",
    "        return dxs\n",
    "    \n",
    "    \n",
    "    def set_state(self, h, c=None):\n",
    "        self.h, self.c = h, c\n",
    "        \n",
    "        \n",
    "    def reset_state(self):\n",
    "        self.h, self.c = None, None"
   ]
  },
  {
   "cell_type": "markdown",
   "metadata": {},
   "source": [
    "## 6.4 LSTM을 사용한 언어 모델"
   ]
  },
  {
   "cell_type": "markdown",
   "metadata": {},
   "source": [
    "이전과의 유일한 차이는 LSTM을 이용한다는 점이다."
   ]
  },
  {
   "cell_type": "code",
   "execution_count": 4,
   "metadata": {},
   "outputs": [],
   "source": [
    "from common.time_layers import *\n",
    "import pickle"
   ]
  },
  {
   "cell_type": "code",
   "execution_count": 5,
   "metadata": {},
   "outputs": [],
   "source": [
    "class Rnnlm:\n",
    "    \n",
    "    def __init__(self, vocab_size=10000, wordvec_size=100, hidden_size=100):\n",
    "        V, D, H = vocab_size, wordvec_size, hidden_size\n",
    "        rn = np.random.randn\n",
    "        \n",
    "        # 가중치 초기화\n",
    "        embed_W = (rn(V, D) / 100).astype('f')\n",
    "        lstm_Wx = (rn(D, 4 * H) / np.sqrt(D)).astype('f')\n",
    "        lstm_Wh = (rn(H, 4 * H) / np.sqrt(H)).astype('f')\n",
    "        lstm_b = np.zeros(4 * H).astype('f')\n",
    "        affine_W = (rn(H, V) / np.sqrt(H)).astype('f')\n",
    "        affine_b = np.zeros(V).astype('f')\n",
    "        \n",
    "        # 계층 생성\n",
    "        self.layers = [\n",
    "            TimeEmbedding(embed_W),\n",
    "            TimeLSTM(lstm_Wx, lstm_Wh, lstm_b, stateful=True),\n",
    "            TimeAffine(affine_W, affine_b)\n",
    "        ]\n",
    "        self.loss_layer = TimeSoftmaxWithLoss()\n",
    "        self.lstm_layer = self.layers[1]\n",
    "        \n",
    "        # 모든 가중치와 기울기를 리스트에 모은다.\n",
    "        self.params, self.grads = [], []\n",
    "        for layer in self.layers:\n",
    "            self.params += layer.params\n",
    "            self.grads += layer.grads\n",
    "            \n",
    "    \n",
    "    def predict(self, xs):\n",
    "        for layer in self.layers:\n",
    "            xs = layer.forward(xs)\n",
    "            \n",
    "        return xs\n",
    "    \n",
    "    \n",
    "    def forward(self, xs, ts):\n",
    "        score = self.predict(xs)\n",
    "        loss = self.loss_layer.forward(xs, ts)\n",
    "        \n",
    "        return loss\n",
    "    \n",
    "    \n",
    "    def backward(self, dout=1):\n",
    "        dout = self.loss_layer.backward(dout)\n",
    "        for layer in reversed(self.layers):\n",
    "            dout = layer.backward(dout)\n",
    "            \n",
    "        return dout\n",
    "    \n",
    "    \n",
    "    def reset_state(self):\n",
    "        self.lstm_layer.reset_state()\n",
    "        \n",
    "        \n",
    "    def save_params(self, file_name='Rnnlm.pkl'):\n",
    "        with open(file_name, 'wb') as f:\n",
    "            pickle.dump(self.params, f)\n",
    "            \n",
    "    \n",
    "    def load_params(self, file_name='Rnnlm.pkl'):\n",
    "        with open(file_name, 'rb') as f:\n",
    "            self.params = pickle.load(f)"
   ]
  },
  {
   "cell_type": "markdown",
   "metadata": {},
   "source": [
    "predict() 메소드는 Softmax 계층 직전까지 처리한다.\n",
    "\n",
    "PTB 데이터셋의 훈련 데이터 전부 이용해서 학습"
   ]
  },
  {
   "cell_type": "code",
   "execution_count": 6,
   "metadata": {},
   "outputs": [],
   "source": [
    "from common.optimizer import SGD\n",
    "from common.trainer import RnnlmTrainer\n",
    "from common.util import eval_perplexity\n",
    "from dataset import ptb\n",
    "from rnnlm import Rnnlm"
   ]
  },
  {
   "cell_type": "code",
   "execution_count": 8,
   "metadata": {},
   "outputs": [
    {
     "name": "stdout",
     "output_type": "stream",
     "text": [
      "| 에폭 1 |  반복 1 / 1327 | 시간 0[s] | 퍼플렉서티 9999.39\n",
      "| 에폭 1 |  반복 21 / 1327 | 시간 6[s] | 퍼플렉서티 2650.64\n",
      "| 에폭 1 |  반복 41 / 1327 | 시간 12[s] | 퍼플렉서티 1225.51\n",
      "| 에폭 1 |  반복 61 / 1327 | 시간 18[s] | 퍼플렉서티 981.06\n",
      "| 에폭 1 |  반복 81 / 1327 | 시간 24[s] | 퍼플렉서티 789.71\n",
      "| 에폭 1 |  반복 101 / 1327 | 시간 30[s] | 퍼플렉서티 636.15\n",
      "| 에폭 1 |  반복 121 / 1327 | 시간 37[s] | 퍼플렉서티 627.82\n",
      "| 에폭 1 |  반복 141 / 1327 | 시간 43[s] | 퍼플렉서티 615.01\n",
      "| 에폭 1 |  반복 161 / 1327 | 시간 49[s] | 퍼플렉서티 551.18\n",
      "| 에폭 1 |  반복 181 / 1327 | 시간 55[s] | 퍼플렉서티 578.53\n",
      "| 에폭 1 |  반복 201 / 1327 | 시간 61[s] | 퍼플렉서티 513.17\n",
      "| 에폭 1 |  반복 221 / 1327 | 시간 68[s] | 퍼플렉서티 497.55\n",
      "| 에폭 1 |  반복 241 / 1327 | 시간 74[s] | 퍼플렉서티 445.34\n",
      "| 에폭 1 |  반복 261 / 1327 | 시간 80[s] | 퍼플렉서티 460.05\n",
      "| 에폭 1 |  반복 281 / 1327 | 시간 86[s] | 퍼플렉서티 455.48\n",
      "| 에폭 1 |  반복 301 / 1327 | 시간 92[s] | 퍼플렉서티 395.25\n",
      "| 에폭 1 |  반복 321 / 1327 | 시간 98[s] | 퍼플렉서티 340.93\n",
      "| 에폭 1 |  반복 341 / 1327 | 시간 104[s] | 퍼플렉서티 398.79\n",
      "| 에폭 1 |  반복 361 / 1327 | 시간 110[s] | 퍼플렉서티 403.62\n",
      "| 에폭 1 |  반복 381 / 1327 | 시간 117[s] | 퍼플렉서티 339.89\n",
      "| 에폭 1 |  반복 401 / 1327 | 시간 123[s] | 퍼플렉서티 348.30\n",
      "| 에폭 1 |  반복 421 / 1327 | 시간 129[s] | 퍼플렉서티 342.50\n",
      "| 에폭 1 |  반복 441 / 1327 | 시간 135[s] | 퍼플렉서티 326.06\n",
      "| 에폭 1 |  반복 461 / 1327 | 시간 141[s] | 퍼플렉서티 323.25\n",
      "| 에폭 1 |  반복 481 / 1327 | 시간 147[s] | 퍼플렉서티 304.42\n",
      "| 에폭 1 |  반복 501 / 1327 | 시간 153[s] | 퍼플렉서티 313.29\n",
      "| 에폭 1 |  반복 521 / 1327 | 시간 160[s] | 퍼플렉서티 304.42\n",
      "| 에폭 1 |  반복 541 / 1327 | 시간 166[s] | 퍼플렉서티 319.35\n",
      "| 에폭 1 |  반복 561 / 1327 | 시간 172[s] | 퍼플렉서티 287.28\n",
      "| 에폭 1 |  반복 581 / 1327 | 시간 178[s] | 퍼플렉서티 260.58\n",
      "| 에폭 1 |  반복 601 / 1327 | 시간 185[s] | 퍼플렉서티 342.21\n",
      "| 에폭 1 |  반복 621 / 1327 | 시간 191[s] | 퍼플렉서티 306.93\n",
      "| 에폭 1 |  반복 641 / 1327 | 시간 197[s] | 퍼플렉서티 284.79\n",
      "| 에폭 1 |  반복 661 / 1327 | 시간 203[s] | 퍼플렉서티 271.63\n",
      "| 에폭 1 |  반복 681 / 1327 | 시간 209[s] | 퍼플렉서티 229.52\n",
      "| 에폭 1 |  반복 701 / 1327 | 시간 215[s] | 퍼플렉서티 252.10\n",
      "| 에폭 1 |  반복 721 / 1327 | 시간 221[s] | 퍼플렉서티 261.03\n",
      "| 에폭 1 |  반복 741 / 1327 | 시간 228[s] | 퍼플렉서티 222.09\n",
      "| 에폭 1 |  반복 761 / 1327 | 시간 234[s] | 퍼플렉서티 233.20\n",
      "| 에폭 1 |  반복 781 / 1327 | 시간 240[s] | 퍼플렉서티 222.58\n",
      "| 에폭 1 |  반복 801 / 1327 | 시간 246[s] | 퍼플렉서티 242.52\n",
      "| 에폭 1 |  반복 821 / 1327 | 시간 252[s] | 퍼플렉서티 227.07\n",
      "| 에폭 1 |  반복 841 / 1327 | 시간 259[s] | 퍼플렉서티 231.56\n",
      "| 에폭 1 |  반복 861 / 1327 | 시간 265[s] | 퍼플렉서티 223.88\n",
      "| 에폭 1 |  반복 881 / 1327 | 시간 271[s] | 퍼플렉서티 206.71\n",
      "| 에폭 1 |  반복 901 / 1327 | 시간 277[s] | 퍼플렉서티 257.82\n",
      "| 에폭 1 |  반복 921 / 1327 | 시간 283[s] | 퍼플렉서티 230.10\n",
      "| 에폭 1 |  반복 941 / 1327 | 시간 289[s] | 퍼플렉서티 230.78\n",
      "| 에폭 1 |  반복 961 / 1327 | 시간 296[s] | 퍼플렉서티 246.27\n",
      "| 에폭 1 |  반복 981 / 1327 | 시간 302[s] | 퍼플렉서티 230.11\n",
      "| 에폭 1 |  반복 1001 / 1327 | 시간 308[s] | 퍼플렉서티 193.90\n",
      "| 에폭 1 |  반복 1021 / 1327 | 시간 314[s] | 퍼플렉서티 228.33\n",
      "| 에폭 1 |  반복 1041 / 1327 | 시간 320[s] | 퍼플렉서티 209.56\n",
      "| 에폭 1 |  반복 1061 / 1327 | 시간 327[s] | 퍼플렉서티 197.02\n",
      "| 에폭 1 |  반복 1081 / 1327 | 시간 333[s] | 퍼플렉서티 171.15\n",
      "| 에폭 1 |  반복 1101 / 1327 | 시간 339[s] | 퍼플렉서티 193.47\n",
      "| 에폭 1 |  반복 1121 / 1327 | 시간 345[s] | 퍼플렉서티 233.02\n",
      "| 에폭 1 |  반복 1141 / 1327 | 시간 351[s] | 퍼플렉서티 208.56\n",
      "| 에폭 1 |  반복 1161 / 1327 | 시간 357[s] | 퍼플렉서티 200.83\n",
      "| 에폭 1 |  반복 1181 / 1327 | 시간 363[s] | 퍼플렉서티 192.16\n",
      "| 에폭 1 |  반복 1201 / 1327 | 시간 369[s] | 퍼플렉서티 163.72\n",
      "| 에폭 1 |  반복 1221 / 1327 | 시간 375[s] | 퍼플렉서티 159.97\n",
      "| 에폭 1 |  반복 1241 / 1327 | 시간 382[s] | 퍼플렉서티 190.52\n",
      "| 에폭 1 |  반복 1261 / 1327 | 시간 388[s] | 퍼플렉서티 172.86\n",
      "| 에폭 1 |  반복 1281 / 1327 | 시간 394[s] | 퍼플렉서티 179.49\n",
      "| 에폭 1 |  반복 1301 / 1327 | 시간 400[s] | 퍼플렉서티 223.70\n",
      "| 에폭 1 |  반복 1321 / 1327 | 시간 406[s] | 퍼플렉서티 210.36\n",
      "| 에폭 2 |  반복 1 / 1327 | 시간 408[s] | 퍼플렉서티 225.64\n",
      "| 에폭 2 |  반복 21 / 1327 | 시간 415[s] | 퍼플렉서티 203.31\n",
      "| 에폭 2 |  반복 41 / 1327 | 시간 421[s] | 퍼플렉서티 192.46\n",
      "| 에폭 2 |  반복 61 / 1327 | 시간 427[s] | 퍼플렉서티 177.85\n",
      "| 에폭 2 |  반복 81 / 1327 | 시간 433[s] | 퍼플렉서티 160.65\n",
      "| 에폭 2 |  반복 101 / 1327 | 시간 439[s] | 퍼플렉서티 154.37\n",
      "| 에폭 2 |  반복 121 / 1327 | 시간 445[s] | 퍼플렉서티 161.81\n",
      "| 에폭 2 |  반복 141 / 1327 | 시간 451[s] | 퍼플렉서티 178.84\n",
      "| 에폭 2 |  반복 161 / 1327 | 시간 458[s] | 퍼플렉서티 195.35\n",
      "| 에폭 2 |  반복 181 / 1327 | 시간 464[s] | 퍼플렉서티 203.02\n",
      "| 에폭 2 |  반복 201 / 1327 | 시간 470[s] | 퍼플렉서티 186.08\n",
      "| 에폭 2 |  반복 221 / 1327 | 시간 476[s] | 퍼플렉서티 185.72\n",
      "| 에폭 2 |  반복 241 / 1327 | 시간 482[s] | 퍼플렉서티 176.25\n",
      "| 에폭 2 |  반복 261 / 1327 | 시간 488[s] | 퍼플렉서티 187.31\n",
      "| 에폭 2 |  반복 281 / 1327 | 시간 494[s] | 퍼플렉서티 185.57\n",
      "| 에폭 2 |  반복 301 / 1327 | 시간 500[s] | 퍼플렉서티 167.58\n",
      "| 에폭 2 |  반복 321 / 1327 | 시간 507[s] | 퍼플렉서티 139.70\n",
      "| 에폭 2 |  반복 341 / 1327 | 시간 513[s] | 퍼플렉서티 174.60\n",
      "| 에폭 2 |  반복 361 / 1327 | 시간 519[s] | 퍼플렉서티 199.32\n",
      "| 에폭 2 |  반복 381 / 1327 | 시간 525[s] | 퍼플렉서티 157.15\n",
      "| 에폭 2 |  반복 401 / 1327 | 시간 531[s] | 퍼플렉서티 170.10\n",
      "| 에폭 2 |  반복 421 / 1327 | 시간 537[s] | 퍼플렉서티 155.91\n",
      "| 에폭 2 |  반복 441 / 1327 | 시간 544[s] | 퍼플렉서티 164.24\n",
      "| 에폭 2 |  반복 461 / 1327 | 시간 550[s] | 퍼플렉서티 157.96\n",
      "| 에폭 2 |  반복 481 / 1327 | 시간 556[s] | 퍼플렉서티 158.30\n",
      "| 에폭 2 |  반복 501 / 1327 | 시간 562[s] | 퍼플렉서티 171.68\n",
      "| 에폭 2 |  반복 521 / 1327 | 시간 568[s] | 퍼플렉서티 175.41\n",
      "| 에폭 2 |  반복 541 / 1327 | 시간 574[s] | 퍼플렉서티 176.11\n",
      "| 에폭 2 |  반복 561 / 1327 | 시간 580[s] | 퍼플렉서티 156.61\n",
      "| 에폭 2 |  반복 581 / 1327 | 시간 586[s] | 퍼플렉서티 140.06\n",
      "| 에폭 2 |  반복 601 / 1327 | 시간 593[s] | 퍼플렉서티 192.47\n",
      "| 에폭 2 |  반복 621 / 1327 | 시간 599[s] | 퍼플렉서티 184.84\n",
      "| 에폭 2 |  반복 641 / 1327 | 시간 605[s] | 퍼플렉서티 166.56\n",
      "| 에폭 2 |  반복 661 / 1327 | 시간 611[s] | 퍼플렉서티 157.65\n",
      "| 에폭 2 |  반복 681 / 1327 | 시간 617[s] | 퍼플렉서티 131.25\n",
      "| 에폭 2 |  반복 701 / 1327 | 시간 623[s] | 퍼플렉서티 151.76\n",
      "| 에폭 2 |  반복 721 / 1327 | 시간 629[s] | 퍼플렉서티 161.86\n",
      "| 에폭 2 |  반복 741 / 1327 | 시간 636[s] | 퍼플렉서티 134.37\n",
      "| 에폭 2 |  반복 761 / 1327 | 시간 642[s] | 퍼플렉서티 133.46\n",
      "| 에폭 2 |  반복 781 / 1327 | 시간 648[s] | 퍼플렉서티 136.60\n",
      "| 에폭 2 |  반복 801 / 1327 | 시간 654[s] | 퍼플렉서티 148.18\n",
      "| 에폭 2 |  반복 821 / 1327 | 시간 660[s] | 퍼플렉서티 145.27\n",
      "| 에폭 2 |  반복 841 / 1327 | 시간 666[s] | 퍼플렉서티 147.04\n",
      "| 에폭 2 |  반복 861 / 1327 | 시간 673[s] | 퍼플렉서티 148.21\n",
      "| 에폭 2 |  반복 881 / 1327 | 시간 679[s] | 퍼플렉서티 131.39\n",
      "| 에폭 2 |  반복 901 / 1327 | 시간 685[s] | 퍼플렉서티 167.06\n",
      "| 에폭 2 |  반복 921 / 1327 | 시간 691[s] | 퍼플렉서티 148.26\n",
      "| 에폭 2 |  반복 941 / 1327 | 시간 697[s] | 퍼플렉서티 156.21\n",
      "| 에폭 2 |  반복 961 / 1327 | 시간 703[s] | 퍼플렉서티 165.41\n",
      "| 에폭 2 |  반복 981 / 1327 | 시간 710[s] | 퍼플렉서티 155.81\n",
      "| 에폭 2 |  반복 1001 / 1327 | 시간 716[s] | 퍼플렉서티 133.12\n",
      "| 에폭 2 |  반복 1021 / 1327 | 시간 722[s] | 퍼플렉서티 158.50\n",
      "| 에폭 2 |  반복 1041 / 1327 | 시간 728[s] | 퍼플렉서티 144.27\n",
      "| 에폭 2 |  반복 1061 / 1327 | 시간 734[s] | 퍼플렉서티 129.87\n",
      "| 에폭 2 |  반복 1081 / 1327 | 시간 740[s] | 퍼플렉서티 111.74\n",
      "| 에폭 2 |  반복 1101 / 1327 | 시간 746[s] | 퍼플렉서티 121.97\n",
      "| 에폭 2 |  반복 1121 / 1327 | 시간 752[s] | 퍼플렉서티 156.51\n",
      "| 에폭 2 |  반복 1141 / 1327 | 시간 758[s] | 퍼플렉서티 143.39\n",
      "| 에폭 2 |  반복 1161 / 1327 | 시간 765[s] | 퍼플렉서티 134.40\n",
      "| 에폭 2 |  반복 1181 / 1327 | 시간 772[s] | 퍼플렉서티 135.24\n",
      "| 에폭 2 |  반복 1201 / 1327 | 시간 778[s] | 퍼플렉서티 113.37\n",
      "| 에폭 2 |  반복 1221 / 1327 | 시간 785[s] | 퍼플렉서티 110.21\n",
      "| 에폭 2 |  반복 1241 / 1327 | 시간 791[s] | 퍼플렉서티 133.57\n",
      "| 에폭 2 |  반복 1261 / 1327 | 시간 797[s] | 퍼플렉서티 123.70\n",
      "| 에폭 2 |  반복 1281 / 1327 | 시간 803[s] | 퍼플렉서티 124.52\n",
      "| 에폭 2 |  반복 1301 / 1327 | 시간 809[s] | 퍼플렉서티 158.97\n",
      "| 에폭 2 |  반복 1321 / 1327 | 시간 816[s] | 퍼플렉서티 153.97\n",
      "| 에폭 3 |  반복 1 / 1327 | 시간 818[s] | 퍼플렉서티 162.75\n",
      "| 에폭 3 |  반복 21 / 1327 | 시간 825[s] | 퍼플렉서티 143.73\n",
      "| 에폭 3 |  반복 41 / 1327 | 시간 832[s] | 퍼플렉서티 137.08\n",
      "| 에폭 3 |  반복 61 / 1327 | 시간 839[s] | 퍼플렉서티 128.99\n",
      "| 에폭 3 |  반복 81 / 1327 | 시간 846[s] | 퍼플렉서티 117.86\n",
      "| 에폭 3 |  반복 101 / 1327 | 시간 852[s] | 퍼플렉서티 107.51\n",
      "| 에폭 3 |  반복 121 / 1327 | 시간 859[s] | 퍼플렉서티 117.47\n",
      "| 에폭 3 |  반복 141 / 1327 | 시간 867[s] | 퍼플렉서티 128.76\n",
      "| 에폭 3 |  반복 161 / 1327 | 시간 874[s] | 퍼플렉서티 143.87\n",
      "| 에폭 3 |  반복 181 / 1327 | 시간 880[s] | 퍼플렉서티 153.54\n",
      "| 에폭 3 |  반복 201 / 1327 | 시간 886[s] | 퍼플렉서티 143.50\n",
      "| 에폭 3 |  반복 221 / 1327 | 시간 892[s] | 퍼플렉서티 141.68\n",
      "| 에폭 3 |  반복 241 / 1327 | 시간 898[s] | 퍼플렉서티 135.11\n",
      "| 에폭 3 |  반복 261 / 1327 | 시간 904[s] | 퍼플렉서티 141.27\n",
      "| 에폭 3 |  반복 281 / 1327 | 시간 911[s] | 퍼플렉서티 141.50\n",
      "| 에폭 3 |  반복 301 / 1327 | 시간 917[s] | 퍼플렉서티 127.09\n",
      "| 에폭 3 |  반복 321 / 1327 | 시간 923[s] | 퍼플렉서티 102.45\n",
      "| 에폭 3 |  반복 341 / 1327 | 시간 929[s] | 퍼플렉서티 127.04\n",
      "| 에폭 3 |  반복 361 / 1327 | 시간 936[s] | 퍼플렉서티 154.02\n",
      "| 에폭 3 |  반복 381 / 1327 | 시간 942[s] | 퍼플렉서티 116.93\n",
      "| 에폭 3 |  반복 401 / 1327 | 시간 949[s] | 퍼플렉서티 130.97\n",
      "| 에폭 3 |  반복 421 / 1327 | 시간 956[s] | 퍼플렉서티 113.36\n",
      "| 에폭 3 |  반복 441 / 1327 | 시간 962[s] | 퍼플렉서티 124.56\n",
      "| 에폭 3 |  반복 461 / 1327 | 시간 969[s] | 퍼플렉서티 119.64\n",
      "| 에폭 3 |  반복 481 / 1327 | 시간 975[s] | 퍼플렉서티 121.26\n",
      "| 에폭 3 |  반복 501 / 1327 | 시간 981[s] | 퍼플렉서티 131.54\n",
      "| 에폭 3 |  반복 521 / 1327 | 시간 987[s] | 퍼플렉서티 140.54\n"
     ]
    },
    {
     "name": "stdout",
     "output_type": "stream",
     "text": [
      "| 에폭 3 |  반복 541 / 1327 | 시간 993[s] | 퍼플렉서티 136.32\n",
      "| 에폭 3 |  반복 561 / 1327 | 시간 999[s] | 퍼플렉서티 120.87\n",
      "| 에폭 3 |  반복 581 / 1327 | 시간 1005[s] | 퍼플렉서티 106.72\n",
      "| 에폭 3 |  반복 601 / 1327 | 시간 1011[s] | 퍼플렉서티 150.41\n",
      "| 에폭 3 |  반복 621 / 1327 | 시간 1018[s] | 퍼플렉서티 145.63\n",
      "| 에폭 3 |  반복 641 / 1327 | 시간 1024[s] | 퍼플렉서티 130.95\n",
      "| 에폭 3 |  반복 661 / 1327 | 시간 1030[s] | 퍼플렉서티 121.36\n",
      "| 에폭 3 |  반복 681 / 1327 | 시간 1036[s] | 퍼플렉서티 101.26\n",
      "| 에폭 3 |  반복 701 / 1327 | 시간 1042[s] | 퍼플렉서티 118.22\n",
      "| 에폭 3 |  반복 721 / 1327 | 시간 1048[s] | 퍼플렉서티 128.83\n",
      "| 에폭 3 |  반복 741 / 1327 | 시간 1054[s] | 퍼플렉서티 108.44\n",
      "| 에폭 3 |  반복 761 / 1327 | 시간 1060[s] | 퍼플렉서티 105.25\n",
      "| 에폭 3 |  반복 781 / 1327 | 시간 1067[s] | 퍼플렉서티 105.48\n",
      "| 에폭 3 |  반복 801 / 1327 | 시간 1073[s] | 퍼플렉서티 116.00\n",
      "| 에폭 3 |  반복 821 / 1327 | 시간 1079[s] | 퍼플렉서티 116.96\n",
      "| 에폭 3 |  반복 841 / 1327 | 시간 1085[s] | 퍼플렉서티 117.05\n",
      "| 에폭 3 |  반복 861 / 1327 | 시간 1091[s] | 퍼플렉서티 122.15\n",
      "| 에폭 3 |  반복 881 / 1327 | 시간 1097[s] | 퍼플렉서티 106.75\n",
      "| 에폭 3 |  반복 901 / 1327 | 시간 1103[s] | 퍼플렉서티 132.01\n",
      "| 에폭 3 |  반복 921 / 1327 | 시간 1110[s] | 퍼플렉서티 118.82\n",
      "| 에폭 3 |  반복 941 / 1327 | 시간 1116[s] | 퍼플렉서티 129.83\n",
      "| 에폭 3 |  반복 961 / 1327 | 시간 1122[s] | 퍼플렉서티 133.38\n",
      "| 에폭 3 |  반복 981 / 1327 | 시간 1128[s] | 퍼플렉서티 124.88\n",
      "| 에폭 3 |  반복 1001 / 1327 | 시간 1134[s] | 퍼플렉서티 110.09\n",
      "| 에폭 3 |  반복 1021 / 1327 | 시간 1140[s] | 퍼플렉서티 130.88\n",
      "| 에폭 3 |  반복 1041 / 1327 | 시간 1146[s] | 퍼플렉서티 118.92\n",
      "| 에폭 3 |  반복 1061 / 1327 | 시간 1152[s] | 퍼플렉서티 103.19\n",
      "| 에폭 3 |  반복 1081 / 1327 | 시간 1159[s] | 퍼플렉서티 89.88\n",
      "| 에폭 3 |  반복 1101 / 1327 | 시간 1165[s] | 퍼플렉서티 95.91\n",
      "| 에폭 3 |  반복 1121 / 1327 | 시간 1171[s] | 퍼플렉서티 123.43\n",
      "| 에폭 3 |  반복 1141 / 1327 | 시간 1177[s] | 퍼플렉서티 114.94\n",
      "| 에폭 3 |  반복 1161 / 1327 | 시간 1184[s] | 퍼플렉서티 107.60\n",
      "| 에폭 3 |  반복 1181 / 1327 | 시간 1190[s] | 퍼플렉서티 111.58\n",
      "| 에폭 3 |  반복 1201 / 1327 | 시간 1196[s] | 퍼플렉서티 93.75\n",
      "| 에폭 3 |  반복 1221 / 1327 | 시간 1202[s] | 퍼플렉서티 89.58\n",
      "| 에폭 3 |  반복 1241 / 1327 | 시간 1208[s] | 퍼플렉서티 106.63\n",
      "| 에폭 3 |  반복 1261 / 1327 | 시간 1215[s] | 퍼플렉서티 105.76\n",
      "| 에폭 3 |  반복 1281 / 1327 | 시간 1221[s] | 퍼플렉서티 102.07\n",
      "| 에폭 3 |  반복 1301 / 1327 | 시간 1227[s] | 퍼플렉서티 129.86\n",
      "| 에폭 3 |  반복 1321 / 1327 | 시간 1233[s] | 퍼플렉서티 127.36\n",
      "| 에폭 4 |  반복 1 / 1327 | 시간 1236[s] | 퍼플렉서티 134.96\n",
      "| 에폭 4 |  반복 21 / 1327 | 시간 1242[s] | 퍼플렉서티 122.63\n",
      "| 에폭 4 |  반복 41 / 1327 | 시간 1248[s] | 퍼플렉서티 107.86\n",
      "| 에폭 4 |  반복 61 / 1327 | 시간 1254[s] | 퍼플렉서티 109.04\n",
      "| 에폭 4 |  반복 81 / 1327 | 시간 1261[s] | 퍼플렉서티 97.61\n",
      "| 에폭 4 |  반복 101 / 1327 | 시간 1267[s] | 퍼플렉서티 87.12\n",
      "| 에폭 4 |  반복 121 / 1327 | 시간 1273[s] | 퍼플렉서티 97.70\n",
      "| 에폭 4 |  반복 141 / 1327 | 시간 1279[s] | 퍼플렉서티 105.62\n",
      "| 에폭 4 |  반복 161 / 1327 | 시간 1286[s] | 퍼플렉서티 118.47\n",
      "| 에폭 4 |  반복 181 / 1327 | 시간 1292[s] | 퍼플렉서티 132.33\n",
      "| 에폭 4 |  반복 201 / 1327 | 시간 1298[s] | 퍼플렉서티 121.31\n",
      "| 에폭 4 |  반복 221 / 1327 | 시간 1304[s] | 퍼플렉서티 123.03\n",
      "| 에폭 4 |  반복 241 / 1327 | 시간 1311[s] | 퍼플렉서티 114.62\n",
      "| 에폭 4 |  반복 261 / 1327 | 시간 1317[s] | 퍼플렉서티 116.68\n",
      "| 에폭 4 |  반복 281 / 1327 | 시간 1323[s] | 퍼플렉서티 120.49\n",
      "| 에폭 4 |  반복 301 / 1327 | 시간 1329[s] | 퍼플렉서티 107.17\n",
      "| 에폭 4 |  반복 321 / 1327 | 시간 1335[s] | 퍼플렉서티 84.60\n",
      "| 에폭 4 |  반복 341 / 1327 | 시간 1342[s] | 퍼플렉서티 101.27\n",
      "| 에폭 4 |  반복 361 / 1327 | 시간 1348[s] | 퍼플렉서티 129.39\n",
      "| 에폭 4 |  반복 381 / 1327 | 시간 1355[s] | 퍼플렉서티 99.44\n",
      "| 에폭 4 |  반복 401 / 1327 | 시간 1361[s] | 퍼플렉서티 110.96\n",
      "| 에폭 4 |  반복 421 / 1327 | 시간 1367[s] | 퍼플렉서티 93.92\n",
      "| 에폭 4 |  반복 441 / 1327 | 시간 1373[s] | 퍼플렉서티 103.13\n",
      "| 에폭 4 |  반복 461 / 1327 | 시간 1379[s] | 퍼플렉서티 100.98\n",
      "| 에폭 4 |  반복 481 / 1327 | 시간 1386[s] | 퍼플렉서티 103.93\n",
      "| 에폭 4 |  반복 501 / 1327 | 시간 1392[s] | 퍼플렉서티 109.95\n",
      "| 에폭 4 |  반복 521 / 1327 | 시간 1398[s] | 퍼플렉서티 118.93\n",
      "| 에폭 4 |  반복 541 / 1327 | 시간 1404[s] | 퍼플렉서티 113.71\n",
      "| 에폭 4 |  반복 561 / 1327 | 시간 1411[s] | 퍼플렉서티 105.26\n",
      "| 에폭 4 |  반복 581 / 1327 | 시간 1417[s] | 퍼플렉서티 89.61\n",
      "| 에폭 4 |  반복 601 / 1327 | 시간 1423[s] | 퍼플렉서티 128.87\n",
      "| 에폭 4 |  반복 621 / 1327 | 시간 1430[s] | 퍼플렉서티 123.11\n",
      "| 에폭 4 |  반복 641 / 1327 | 시간 1436[s] | 퍼플렉서티 112.24\n",
      "| 에폭 4 |  반복 661 / 1327 | 시간 1442[s] | 퍼플렉서티 104.07\n",
      "| 에폭 4 |  반복 681 / 1327 | 시간 1448[s] | 퍼플렉서티 86.23\n",
      "| 에폭 4 |  반복 701 / 1327 | 시간 1454[s] | 퍼플렉서티 102.90\n",
      "| 에폭 4 |  반복 721 / 1327 | 시간 1461[s] | 퍼플렉서티 109.35\n",
      "| 에폭 4 |  반복 741 / 1327 | 시간 1467[s] | 퍼플렉서티 96.38\n",
      "| 에폭 4 |  반복 761 / 1327 | 시간 1473[s] | 퍼플렉서티 89.34\n",
      "| 에폭 4 |  반복 781 / 1327 | 시간 1479[s] | 퍼플렉서티 89.81\n",
      "| 에폭 4 |  반복 801 / 1327 | 시간 1486[s] | 퍼플렉서티 99.33\n",
      "| 에폭 4 |  반복 821 / 1327 | 시간 1492[s] | 퍼플렉서티 102.84\n",
      "| 에폭 4 |  반복 841 / 1327 | 시간 1498[s] | 퍼플렉서티 100.41\n",
      "| 에폭 4 |  반복 861 / 1327 | 시간 1505[s] | 퍼플렉서티 106.04\n",
      "| 에폭 4 |  반복 881 / 1327 | 시간 1512[s] | 퍼플렉서티 92.69\n",
      "| 에폭 4 |  반복 901 / 1327 | 시간 1518[s] | 퍼플렉서티 115.23\n",
      "| 에폭 4 |  반복 921 / 1327 | 시간 1524[s] | 퍼플렉서티 104.03\n",
      "| 에폭 4 |  반복 941 / 1327 | 시간 1530[s] | 퍼플렉서티 114.39\n",
      "| 에폭 4 |  반복 961 / 1327 | 시간 1536[s] | 퍼플렉서티 114.95\n",
      "| 에폭 4 |  반복 981 / 1327 | 시간 1543[s] | 퍼플렉서티 108.51\n",
      "| 에폭 4 |  반복 1001 / 1327 | 시간 1549[s] | 퍼플렉서티 98.48\n",
      "| 에폭 4 |  반복 1021 / 1327 | 시간 1555[s] | 퍼플렉서티 114.38\n",
      "| 에폭 4 |  반복 1041 / 1327 | 시간 1562[s] | 퍼플렉서티 104.16\n",
      "| 에폭 4 |  반복 1061 / 1327 | 시간 1568[s] | 퍼플렉서티 89.24\n",
      "| 에폭 4 |  반복 1081 / 1327 | 시간 1574[s] | 퍼플렉서티 79.43\n",
      "| 에폭 4 |  반복 1101 / 1327 | 시간 1581[s] | 퍼플렉서티 80.21\n",
      "| 에폭 4 |  반복 1121 / 1327 | 시간 1587[s] | 퍼플렉서티 104.29\n",
      "| 에폭 4 |  반복 1141 / 1327 | 시간 1593[s] | 퍼플렉서티 100.12\n",
      "| 에폭 4 |  반복 1161 / 1327 | 시간 1599[s] | 퍼플렉서티 93.09\n",
      "| 에폭 4 |  반복 1181 / 1327 | 시간 1605[s] | 퍼플렉서티 97.30\n",
      "| 에폭 4 |  반복 1201 / 1327 | 시간 1611[s] | 퍼플렉서티 83.05\n",
      "| 에폭 4 |  반복 1221 / 1327 | 시간 1618[s] | 퍼플렉서티 76.30\n",
      "| 에폭 4 |  반복 1241 / 1327 | 시간 1624[s] | 퍼플렉서티 92.92\n",
      "| 에폭 4 |  반복 1261 / 1327 | 시간 1630[s] | 퍼플렉서티 94.56\n",
      "| 에폭 4 |  반복 1281 / 1327 | 시간 1636[s] | 퍼플렉서티 90.99\n",
      "| 에폭 4 |  반복 1301 / 1327 | 시간 1642[s] | 퍼플렉서티 111.70\n",
      "| 에폭 4 |  반복 1321 / 1327 | 시간 1649[s] | 퍼플렉서티 110.23\n"
     ]
    },
    {
     "name": "stderr",
     "output_type": "stream",
     "text": [
      "C:\\Users\\KJK\\Anaconda3\\lib\\site-packages\\matplotlib\\backends\\backend_agg.py:211: RuntimeWarning: Glyph 48152 missing from current font.\n",
      "  font.set_text(s, 0.0, flags=flags)\n",
      "C:\\Users\\KJK\\Anaconda3\\lib\\site-packages\\matplotlib\\backends\\backend_agg.py:211: RuntimeWarning: Glyph 48373 missing from current font.\n",
      "  font.set_text(s, 0.0, flags=flags)\n",
      "C:\\Users\\KJK\\Anaconda3\\lib\\site-packages\\matplotlib\\backends\\backend_agg.py:180: RuntimeWarning: Glyph 48152 missing from current font.\n",
      "  font.set_text(s, 0, flags=flags)\n",
      "C:\\Users\\KJK\\Anaconda3\\lib\\site-packages\\matplotlib\\backends\\backend_agg.py:180: RuntimeWarning: Glyph 48373 missing from current font.\n",
      "  font.set_text(s, 0, flags=flags)\n",
      "C:\\Users\\KJK\\Anaconda3\\lib\\site-packages\\matplotlib\\backends\\backend_agg.py:211: RuntimeWarning: Glyph 54140 missing from current font.\n",
      "  font.set_text(s, 0.0, flags=flags)\n",
      "C:\\Users\\KJK\\Anaconda3\\lib\\site-packages\\matplotlib\\backends\\backend_agg.py:211: RuntimeWarning: Glyph 54540 missing from current font.\n",
      "  font.set_text(s, 0.0, flags=flags)\n",
      "C:\\Users\\KJK\\Anaconda3\\lib\\site-packages\\matplotlib\\backends\\backend_agg.py:211: RuntimeWarning: Glyph 47113 missing from current font.\n",
      "  font.set_text(s, 0.0, flags=flags)\n",
      "C:\\Users\\KJK\\Anaconda3\\lib\\site-packages\\matplotlib\\backends\\backend_agg.py:211: RuntimeWarning: Glyph 49436 missing from current font.\n",
      "  font.set_text(s, 0.0, flags=flags)\n",
      "C:\\Users\\KJK\\Anaconda3\\lib\\site-packages\\matplotlib\\backends\\backend_agg.py:211: RuntimeWarning: Glyph 54000 missing from current font.\n",
      "  font.set_text(s, 0.0, flags=flags)\n",
      "C:\\Users\\KJK\\Anaconda3\\lib\\site-packages\\matplotlib\\backends\\backend_agg.py:180: RuntimeWarning: Glyph 54140 missing from current font.\n",
      "  font.set_text(s, 0, flags=flags)\n",
      "C:\\Users\\KJK\\Anaconda3\\lib\\site-packages\\matplotlib\\backends\\backend_agg.py:180: RuntimeWarning: Glyph 54540 missing from current font.\n",
      "  font.set_text(s, 0, flags=flags)\n",
      "C:\\Users\\KJK\\Anaconda3\\lib\\site-packages\\matplotlib\\backends\\backend_agg.py:180: RuntimeWarning: Glyph 47113 missing from current font.\n",
      "  font.set_text(s, 0, flags=flags)\n",
      "C:\\Users\\KJK\\Anaconda3\\lib\\site-packages\\matplotlib\\backends\\backend_agg.py:180: RuntimeWarning: Glyph 49436 missing from current font.\n",
      "  font.set_text(s, 0, flags=flags)\n",
      "C:\\Users\\KJK\\Anaconda3\\lib\\site-packages\\matplotlib\\backends\\backend_agg.py:180: RuntimeWarning: Glyph 54000 missing from current font.\n",
      "  font.set_text(s, 0, flags=flags)\n"
     ]
    },
    {
     "data": {
      "image/png": "[encoded data removed]",
      "text/plain": [
       "<Figure size 432x288 with 1 Axes>"
      ]
     },
     "metadata": {
      "needs_background": "light"
     },
     "output_type": "display_data"
    },
    {
     "name": "stdout",
     "output_type": "stream",
     "text": [
      "퍼플렉서티 평가 중 ...\n",
      "234 / 235\n",
      "테스트 퍼플렉서티:  136.28636288384914\n"
     ]
    }
   ],
   "source": [
    "# 하이퍼파라미터 설정\n",
    "batch_size = 20\n",
    "wordvec_size = 100\n",
    "hidden_size = 100\n",
    "time_size = 35\n",
    "lr = 20.0\n",
    "max_epoch = 4\n",
    "max_grad = 0.25\n",
    "\n",
    "# 학습 데이터 읽기\n",
    "corpus, word_to_id, id_to_word = ptb.load_data('train')\n",
    "corpus_test, _, _ = ptb.load_data('test')\n",
    "vocab_size = len(word_to_id)\n",
    "xs = corpus[:-1]\n",
    "ts = corpus[1:]\n",
    "\n",
    "# 모델 생성\n",
    "model = Rnnlm(vocab_size, wordvec_size, hidden_size)\n",
    "optimizer = SGD(lr)\n",
    "trainer = RnnlmTrainer(model, optimizer)\n",
    "\n",
    "# 기울기 클리핑을 적용하여 학습\n",
    "trainer.fit(xs, ts, max_epoch, batch_size, time_size, max_grad, eval_interval=20)\n",
    "trainer.plot(ylim=(0, 500))\n",
    "\n",
    "# 테스트 데이터로 평가\n",
    "model.reset_state()\n",
    "ppl_test = eval_perplexity(model, corpus_test)\n",
    "print('테스트 퍼플렉서티: ', ppl_test)\n",
    "\n",
    "# 매개변수 저장\n",
    "model.save_params()"
   ]
  },
  {
   "cell_type": "markdown",
   "metadata": {},
   "source": [
    "테스트 데이터로 검증했을 때 136 정도의 퍼플렉서티를 달성했는데 좋은 성능은 아니다. 최근 연구에서 PTB 데이터셋의 퍼플렉서티는 60을 밑돈다."
   ]
  },
  {
   "cell_type": "markdown",
   "metadata": {},
   "source": [
    "## 6.5 RNNLM 추가 개선"
   ]
  },
  {
   "cell_type": "markdown",
   "metadata": {},
   "source": [
    "### 6.5.1 LSTM 계층 다층화"
   ]
  },
  {
   "cell_type": "markdown",
   "metadata": {},
   "source": [
    "LSTM 계층을 여러 개로 쌓으면 더 복잡한 패턴을 학습할 수 있을 것이다.\n",
    "\n",
    "PTB 데이터셋에서는 2~4개의 층이 적합하다고 한다. 층의 갯수는 하이퍼파라미터이므로 실험을 통해 적절한 수를 찾아야 한다.\n",
    "\n",
    "구글 번역에 사용하는 GNMT 모델은 LSTM을 8층으로 쌓았다. 문제가 복잡하고 학습 데이터를 대량으로 준비할 수 있으면 LSTM 계층을 깊게 쌓을 경우 정확도 향상을 기대할 수 있다."
   ]
  },
  {
   "cell_type": "markdown",
   "metadata": {},
   "source": [
    "### 6.5.2 드롭아웃에 의한 과적합 억제"
   ]
  },
  {
   "cell_type": "markdown",
   "metadata": {},
   "source": [
    "층을 깊게 쌓으면 풍부한 표현력을 얻을 수 있지만 RNN은 일반적인 피드포워드 신경망보다 과적합이 쉽게 일어난다.\n",
    "\n",
    "과적합에 대한 대책으로 훈련 데이터 양 늘리기, 모델의 복잡도를 줄이는 방법이 있다. 모델의 복잡도에 페널티를 주는 정규화와 드롭아웃이 효과적이다.\n",
    "\n",
    "#### RNN에서 드롭아웃 계층을 삽입하는 위치\n",
    "\n",
    "첫번째 방법은 시계열 방향으로 넣는 것이다. 이는 시간이 흐름에 따라 정보가 사라질 수 있다는 단점이 있기 때문에 권장하는 방법은 아니다.\n",
    "\n",
    "두번째 방법은 깊이 방향(상하 방향)으로 삽입하는 것이다. 시간 방향으로 진행해도 정보를 잃지 않기 때문에 이 방식이 권장된다.\n",
    "\n",
    "일반적인 드롭아웃은 시간 방향으로 삽입하지 않는데 **변형 드롭아웃(variational dropout)**은 시간 방향으로 드롭아웃을 적용했고 일반적인 드롭아웃보다 좋은 성능을 보였다. 변형 드롭아웃은 깊이 방향과 시간 방향 모두에서 드롭아웃을 수행한다. 같은 층에 속한 드롭아웃은 같은 마스크를 공유한다. 같은 계층에서 잃게 되는 정보가 고정되므로 정보가 지수적으로 손실되는 것을 막을 수 있다.\n",
    "\n",
    "<img src=\"./images/fig 6-34.png\" width=700>"
   ]
  },
  {
   "cell_type": "markdown",
   "metadata": {},
   "source": [
    "### 6.5.3 가중치 공유"
   ]
  },
  {
   "cell_type": "markdown",
   "metadata": {},
   "source": [
    "<img src=\"./images/fig 6-35.png\" width=500>\n",
    "\n",
    "가중치 공유(weight typing)은 가중치를 연결해서 가중치를 공유하는 효과를 준다. \n",
    "\n",
    "Embedding 계층과 Affine 계층의 가중치를 공유하는 기법을 가중치 공유라고 한다. 학습하는 매개변수 수가 크게 줄어듦과 동시에 정확도도 향상된다.\n",
    "\n"
   ]
  },
  {
   "cell_type": "code",
   "execution_count": null,
   "metadata": {},
   "outputs": [],
   "source": []
  }
 ],
 "metadata": {
  "kernelspec": {
   "display_name": "Python 3",
   "language": "python",
   "name": "python3"
  },
  "language_info": {
   "codemirror_mode": {
    "name": "ipython",
    "version": 3
   },
   "file_extension": ".py",
   "mimetype": "text/x-python",
   "name": "python",
   "nbconvert_exporter": "python",
   "pygments_lexer": "ipython3",
   "version": "3.6.9"
  }
 },
 "nbformat": 4,
 "nbformat_minor": 2
}
