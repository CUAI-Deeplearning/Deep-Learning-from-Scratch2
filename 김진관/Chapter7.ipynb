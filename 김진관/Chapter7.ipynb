{
 "cells": [
  {
   "cell_type": "markdown",
   "metadata": {},
   "source": [
    "# Chapter 7 RNN을 사용한 문장 생성"
   ]
  },
  {
   "cell_type": "markdown",
   "metadata": {},
   "source": [
    "1. 말뭉치\n",
    "2. 개선된 언어 모델\n",
    "3. seq2seq"
   ]
  },
  {
   "cell_type": "markdown",
   "metadata": {},
   "source": [
    "## 7.1 언어 모델을 사용한 문장 생성"
   ]
  },
  {
   "cell_type": "markdown",
   "metadata": {},
   "source": [
    "### 7.1.1 RNN을 사용한 문장 생성의 순서"
   ]
  },
  {
   "cell_type": "markdown",
   "metadata": {},
   "source": [
    "언어 모델 - 단어의 확률 분포 출력  \n",
    "\n",
    "#### 단어의 확률 분포를 이용해서 다음 단어를 새로 생성하는 방법\n",
    "1. 결정적 방법  \n",
    "확률이 가장 높은 단어를 출력, 매번 동일한 단어를 생성\n",
    "\n",
    "2. 확률적 방법  \n",
    "단어의 확률 분포를 기반으로 단어를 샘플링, 매번 선택되는 단어가 달라짐\n",
    "\n",
    "생성된 단어를 언어 모델에 입력해서 원하는 만큼 반복하면서 단어를 계속 생성한다."
   ]
  },
  {
   "cell_type": "markdown",
   "metadata": {},
   "source": [
    "### 7.1.2 문장 생성 구현"
   ]
  },
  {
   "cell_type": "code",
   "execution_count": 1,
   "metadata": {},
   "outputs": [],
   "source": [
    "# Rnnlm 클래스를 상속해 RnnlmGen 클래스를 만든다.\n",
    "import numpy as np\n",
    "from common.functions import softmax\n",
    "from rnnlm import Rnnlm\n",
    "from better_rnnlm import BetterRnnlm"
   ]
  },
  {
   "cell_type": "code",
   "execution_count": 4,
   "metadata": {},
   "outputs": [],
   "source": [
    "class RnnlmGen(Rnnlm):\n",
    "    def generate(self, start_id, skip_ids=None, sample_size=100):\n",
    "        ''' 언어 모델을 통해 문장을 생성하는 메소드\n",
    "        \n",
    "        Parameters\n",
    "        ----------\n",
    "        start_id: 최초로 주어지는 단어 ID\n",
    "        skip_id: 샘플링되지 않게 할 단어 리스트(PTB 데이터셋의 <unk>나 N 등 전처리된 단어를 샘플링하지 않도록)\n",
    "        sample_size: 샘플링하는 단어 수 \n",
    "        \n",
    "        Return\n",
    "        ----------\n",
    "        word_ids: 생성된 단어 ID 리스트\n",
    "        '''\n",
    "        \n",
    "        word_ids = [start_id]\n",
    "        \n",
    "        x = start_id\n",
    "        while len(word_ids) < sample_size:\n",
    "            x = np.array(x).reshape(1, 1)    # 미니배치로 처리하기 때문에 2차원 배열이어야 함\n",
    "            score = self.predict(x)\n",
    "            p = softmax(score.flatten())\n",
    "            \n",
    "            sampled = np.random.choice(len(p), size=1, p=p)\n",
    "            if(skip_ids is None) or (sampled not in skip_ids):\n",
    "                x = sampled\n",
    "                word_ids.append(int(x))\n",
    "                \n",
    "        return word_ids"
   ]
  },
  {
   "cell_type": "code",
   "execution_count": 6,
   "metadata": {},
   "outputs": [],
   "source": [
    "# 학습 없이 단어를 생성\n",
    "from rnnlm_gen import RnnlmGen\n",
    "from dataset import ptb"
   ]
  },
  {
   "cell_type": "code",
   "execution_count": null,
   "metadata": {},
   "outputs": [],
   "source": []
  }
 ],
 "metadata": {
  "kernelspec": {
   "display_name": "Python 3",
   "language": "python",
   "name": "python3"
  },
  "language_info": {
   "codemirror_mode": {
    "name": "ipython",
    "version": 3
   },
   "file_extension": ".py",
   "mimetype": "text/x-python",
   "name": "python",
   "nbconvert_exporter": "python",
   "pygments_lexer": "ipython3",
   "version": "3.6.9"
  }
 },
 "nbformat": 4,
 "nbformat_minor": 2
}
