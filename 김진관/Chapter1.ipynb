{
 "cells": [
  {
   "cell_type": "markdown",
   "metadata": {},
   "source": [
    "# Chapter 1 신경망 복습"
   ]
  },
  {
   "cell_type": "markdown",
   "metadata": {},
   "source": [
    "## 1.1 수학과 파이썬 복습"
   ]
  },
  {
   "cell_type": "markdown",
   "metadata": {},
   "source": [
    "### 1.1.1 벡터와 행렬"
   ]
  },
  {
   "cell_type": "markdown",
   "metadata": {},
   "source": [
    "- 벡터: 크기와 방향을 가진 양, 숫자가 일렬로 늘어선 집합, 1차원 배열\n",
    "- 행렬: 2차원 배열, 가로는 행, 서로를 열이라 한다.\n",
    "- 텐서\n",
    "\n",
    "실제는 열벡터 방식을 사용하지만 책에서는 구현의 편의성을 위해 행벡터 사용, N개의 원소로 이뤄진 벡터는 1XN 형상의 배열로 변환해서 사용"
   ]
  },
  {
   "cell_type": "code",
   "execution_count": 1,
   "metadata": {},
   "outputs": [],
   "source": [
    "import numpy as np"
   ]
  },
  {
   "cell_type": "code",
   "execution_count": 2,
   "metadata": {},
   "outputs": [
    {
     "data": {
      "text/plain": [
       "numpy.ndarray"
      ]
     },
     "execution_count": 2,
     "metadata": {},
     "output_type": "execute_result"
    }
   ],
   "source": [
    "x = np.array([1, 2, 3])\n",
    "x.__class__"
   ]
  },
  {
   "cell_type": "code",
   "execution_count": 3,
   "metadata": {},
   "outputs": [
    {
     "data": {
      "text/plain": [
       "1"
      ]
     },
     "execution_count": 3,
     "metadata": {},
     "output_type": "execute_result"
    }
   ],
   "source": [
    "x.ndim"
   ]
  },
  {
   "cell_type": "code",
   "execution_count": 4,
   "metadata": {},
   "outputs": [],
   "source": [
    "W = np.array([[1,2,3], [4,5,6]])"
   ]
  },
  {
   "cell_type": "code",
   "execution_count": 5,
   "metadata": {},
   "outputs": [
    {
     "data": {
      "text/plain": [
       "(2, 3)"
      ]
     },
     "execution_count": 5,
     "metadata": {},
     "output_type": "execute_result"
    }
   ],
   "source": [
    "W.shape"
   ]
  },
  {
   "cell_type": "code",
   "execution_count": 7,
   "metadata": {},
   "outputs": [
    {
     "data": {
      "text/plain": [
       "2"
      ]
     },
     "execution_count": 7,
     "metadata": {},
     "output_type": "execute_result"
    }
   ],
   "source": [
    "W.ndim"
   ]
  },
  {
   "cell_type": "markdown",
   "metadata": {},
   "source": [
    "### 1.1.2 행렬의 원소별 연산"
   ]
  },
  {
   "cell_type": "code",
   "execution_count": 8,
   "metadata": {},
   "outputs": [],
   "source": [
    "W = np.array([[1,2,3], [4,5,6]])\n",
    "X = np.array([[0,1,2], [3,4,5]])"
   ]
  },
  {
   "cell_type": "code",
   "execution_count": 9,
   "metadata": {},
   "outputs": [
    {
     "data": {
      "text/plain": [
       "array([[ 1,  3,  5],\n",
       "       [ 7,  9, 11]])"
      ]
     },
     "execution_count": 9,
     "metadata": {},
     "output_type": "execute_result"
    }
   ],
   "source": [
    "W + X"
   ]
  },
  {
   "cell_type": "code",
   "execution_count": 10,
   "metadata": {},
   "outputs": [
    {
     "data": {
      "text/plain": [
       "array([[ 0,  2,  6],\n",
       "       [12, 20, 30]])"
      ]
     },
     "execution_count": 10,
     "metadata": {},
     "output_type": "execute_result"
    }
   ],
   "source": [
    "W * X"
   ]
  },
  {
   "cell_type": "markdown",
   "metadata": {},
   "source": [
    "### 1.1.3 브로드캐스트"
   ]
  },
  {
   "cell_type": "code",
   "execution_count": 11,
   "metadata": {},
   "outputs": [
    {
     "data": {
      "text/plain": [
       "array([[10, 20],\n",
       "       [30, 40]])"
      ]
     },
     "execution_count": 11,
     "metadata": {},
     "output_type": "execute_result"
    }
   ],
   "source": [
    "A = np.array([[1, 2], [3, 4]])\n",
    "A * 10"
   ]
  },
  {
   "cell_type": "code",
   "execution_count": 13,
   "metadata": {},
   "outputs": [],
   "source": [
    "b = np.array([[10, 20]])"
   ]
  },
  {
   "cell_type": "code",
   "execution_count": 14,
   "metadata": {},
   "outputs": [
    {
     "data": {
      "text/plain": [
       "array([[10, 40],\n",
       "       [30, 80]])"
      ]
     },
     "execution_count": 14,
     "metadata": {},
     "output_type": "execute_result"
    }
   ],
   "source": [
    "A * b"
   ]
  },
  {
   "cell_type": "markdown",
   "metadata": {},
   "source": [
    "[브로드캐스트 규칙](https://docs.scipy.org/doc/numpy-1.13.0/user/basics.broadcasting.html)\n",
    "1. 동일 차원의 원소 수가 같은 경우\n",
    "2. 동일 차원의 원소 수 중 하나가 1인 경우\n",
    "\n",
    "#### 브로드캐스트 예시\n",
    "\n",
    "가능:  \n",
    "A &nbsp; &nbsp; &nbsp; &nbsp; (3d array): &nbsp; 15 x 3 x 5  \n",
    "B &nbsp; &nbsp; &nbsp; &nbsp; (2d array): &nbsp; &nbsp; &nbsp; &nbsp; &nbsp; 3 x 1  \n",
    "Result (3d array): &nbsp; 15 x 3 x 5\n",
    "\n",
    "불가능:  \n",
    "A &nbsp; &nbsp; &nbsp; &nbsp; (2d array): &nbsp; &nbsp; &nbsp; &nbsp; &nbsp; 2 x 1  \n",
    "B &nbsp; &nbsp; &nbsp; &nbsp; (3d array): &nbsp; &nbsp; 8 x 4 x 3 "
   ]
  },
  {
   "cell_type": "markdown",
   "metadata": {},
   "source": [
    "### 1.1.4 벡터의 내적과 행렬의 곱"
   ]
  },
  {
   "cell_type": "markdown",
   "metadata": {},
   "source": [
    "#### 벡터의 내적\n",
    "\n",
    "두 벡터에서 대응하는 원소를 곱한 후 모두 더한 것.  \n",
    "두 벡터가 얼마나 같은 방향으로 향하는 지를 나타낸다.\n",
    "\n",
    "#### 행렬의 곱\n",
    "\n",
    "첫번째 행렬의 행벡터와 두번째 행렬의 열벡터의 내적으로 계산, 대응하는 행벡터와 열벡터의 원소 수는 동일해야한다."
   ]
  },
  {
   "cell_type": "code",
   "execution_count": 15,
   "metadata": {},
   "outputs": [
    {
     "data": {
      "text/plain": [
       "32"
      ]
     },
     "execution_count": 15,
     "metadata": {},
     "output_type": "execute_result"
    }
   ],
   "source": [
    "# 벡터의 내적\n",
    "a = np.array([1, 2, 3])\n",
    "b = np.array([4, 5, 6])\n",
    "np.dot(a, b)"
   ]
  },
  {
   "cell_type": "code",
   "execution_count": 16,
   "metadata": {},
   "outputs": [
    {
     "data": {
      "text/plain": [
       "array([[19, 22],\n",
       "       [43, 50]])"
      ]
     },
     "execution_count": 16,
     "metadata": {},
     "output_type": "execute_result"
    }
   ],
   "source": [
    "# 행렬의 곱\n",
    "A = np.array([[1, 2], [3, 4]])\n",
    "B = np.array([[5, 6], [7, 8]])\n",
    "np.matmul(A, B)    # np.dot(A, B)와 동일하지만 벡터 내적과 행렬 곱을 구분해주기 위해 np.matmul() 사용"
   ]
  },
  {
   "cell_type": "markdown",
   "metadata": {},
   "source": [
    "[100 numpy exercises](https://github.com/rougier/numpy-100): 넘파이 연습문제"
   ]
  },
  {
   "cell_type": "markdown",
   "metadata": {},
   "source": [
    "### 1.1.5 행렬의 형상 확인"
   ]
  },
  {
   "cell_type": "markdown",
   "metadata": {},
   "source": [
    "행렬 곱에서 대응하는 차원의 원소 수가 같아야 한다. 행렬 A와 B를 곱해준다면 A의 두번째 차원의 원소 수는 B의 첫번째 차원의 수와 같아야 하고 결과 C의 형상은 (A의 첫번째 차원 X B의 두번째 차원)이 된다."
   ]
  },
  {
   "cell_type": "markdown",
   "metadata": {},
   "source": [
    "## 1.2 신경망의 추론"
   ]
  },
  {
   "cell_type": "markdown",
   "metadata": {},
   "source": [
    "#### 신경망의 수행 작업\n",
    "1. 학습\n",
    "2. 추론"
   ]
  },
  {
   "cell_type": "code",
   "execution_count": 31,
   "metadata": {},
   "outputs": [],
   "source": [
    "# 완전연결 계층 미니배치 버전\n",
    "import numpy as np\n",
    "W1 = np.random.randn(2, 4)    # 가중치\n",
    "b1 = np.random.randn(4)       # 편향\n",
    "x = np.random.randn(10, 2)    # 입력\n",
    "h = np.matmul(x, W1) + b1"
   ]
  },
  {
   "cell_type": "code",
   "execution_count": 32,
   "metadata": {},
   "outputs": [
    {
     "data": {
      "text/plain": [
       "array([[-1.75352243e+00,  4.24643661e+00,  2.03992509e+00,\n",
       "         9.77577881e-01],\n",
       "       [-1.03525275e+00,  1.27013130e+00,  8.13523980e-01,\n",
       "        -1.01917153e+00],\n",
       "       [ 1.66648680e-01,  2.58566466e-03,  5.22586798e-01,\n",
       "        -1.34561238e+00],\n",
       "       [-9.63853539e-02,  4.45287071e+00,  2.56574712e+00,\n",
       "         2.11420046e+00],\n",
       "       [-2.91368005e+00,  5.08274564e+00,  2.13707562e+00,\n",
       "         9.78265093e-01],\n",
       "       [-2.42213353e-02,  1.63066525e+00,  1.24561275e+00,\n",
       "        -1.35225754e-01],\n",
       "       [-1.05379131e+00,  1.50876584e+00,  9.21938010e-01,\n",
       "        -8.36241173e-01],\n",
       "       [-1.77118875e+00,  3.08820382e+00,  1.48593311e+00,\n",
       "         2.67655748e-02],\n",
       "       [-1.57491701e-01, -1.52170125e-01,  3.65477789e-01,\n",
       "        -1.66081237e+00],\n",
       "       [ 6.20287095e-01, -6.04245293e-01,  3.51860504e-01,\n",
       "        -1.57309586e+00]])"
      ]
     },
     "execution_count": 32,
     "metadata": {},
     "output_type": "execute_result"
    }
   ],
   "source": [
    "h"
   ]
  },
  {
   "cell_type": "code",
   "execution_count": 33,
   "metadata": {},
   "outputs": [],
   "source": [
    "# 시그모이드 함수\n",
    "def sigmoid(x):\n",
    "    return 1 / (1 + np.exp(-x))"
   ]
  },
  {
   "cell_type": "code",
   "execution_count": 34,
   "metadata": {},
   "outputs": [],
   "source": [
    "# 활성화 함수에 의한 변환\n",
    "a = sigmoid(h)"
   ]
  },
  {
   "cell_type": "code",
   "execution_count": 35,
   "metadata": {},
   "outputs": [],
   "source": [
    "# 추론 과정 종합\n",
    "import numpy as np\n",
    "\n",
    "def sigmoid(x):\n",
    "    return 1 / (1 + np.exp(-x))\n",
    "\n",
    "x = np.random.randn(10, 2)\n",
    "W1 = np.random.randn(2, 4)\n",
    "b1 = np.random.randn(4)\n",
    "W2 = np.random.randn(4, 3)\n",
    "b2 = np.random.randn(3)\n",
    "\n",
    "h = np.matmul(x, W1) + b1\n",
    "a = sigmoid(h)\n",
    "s = np.matmul(a, W2) + b2"
   ]
  },
  {
   "cell_type": "markdown",
   "metadata": {},
   "source": [
    "#### 계층 구현 규칙\n",
    "\n",
    "1. 모든 계층은 forward(), backward() 메소드를 가진다.\n",
    "2. 모든 계층은 인스턴스 변수인 params, grads를 가진다."
   ]
  },
  {
   "cell_type": "code",
   "execution_count": 36,
   "metadata": {},
   "outputs": [],
   "source": [
    "# 순전파만 구현: forward\n",
    "import numpy as np\n",
    "\n",
    "class Sigmoid:\n",
    "    \n",
    "    def __init__(self):\n",
    "        # 시그모이드 계층은 학습할 매개변수가 없으므로 빈 리스트로 초기화\n",
    "        self.params = []\n",
    "        \n",
    "        \n",
    "    def forward(self, x):\n",
    "        return 1 / (1 + np.exp(-x))\n",
    "    \n",
    "\n",
    "class Affine:\n",
    "    \n",
    "    def __init__(self, W, b):\n",
    "        self.params = [W, b]\n",
    "        \n",
    "    \n",
    "    def forward(self, x):\n",
    "        W, b = self.params\n",
    "        out = np.matmul(x, W) + b\n",
    "        return out"
   ]
  },
  {
   "cell_type": "code",
   "execution_count": 40,
   "metadata": {},
   "outputs": [],
   "source": [
    "# 입력-Affine-Sigmoid-Affine-점수\n",
    "class TwoLayerNet:\n",
    "    \n",
    "    def __init__(self, input_size, hidden_size, output_size):\n",
    "        I, H, O = input_size, hidden_size, output_size\n",
    "        \n",
    "        # 가중치와 편향 초기화\n",
    "        W1 = np.random.randn(I, H)\n",
    "        b1 = np.random.randn(H)\n",
    "        W2 = np.random.randn(H, O)\n",
    "        b2 = np.random.randn(O)\n",
    "        \n",
    "        # 계층 생성\n",
    "        self.layers = [\n",
    "            Affine(W1, b1),\n",
    "            Sigmoid(),\n",
    "            Affine(W2, b2)\n",
    "        ]\n",
    "        \n",
    "        # 모든 가중치를 리스트에 모은다\n",
    "        self.params = []\n",
    "        for layer in self.layers:\n",
    "            self.params += layer.params\n",
    "            \n",
    "    \n",
    "    def predict(self, x):\n",
    "        for layer in self.layers:\n",
    "            x = layer.forward(x)\n",
    "        \n",
    "        return x"
   ]
  },
  {
   "cell_type": "code",
   "execution_count": 41,
   "metadata": {},
   "outputs": [],
   "source": [
    "x = np.random.randn(10, 2)\n",
    "model = TwoLayerNet(2, 4, 3)\n",
    "s = model.predict(x)"
   ]
  },
  {
   "cell_type": "markdown",
   "metadata": {},
   "source": [
    "## 1.3 신경망의 학습"
   ]
  },
  {
   "cell_type": "markdown",
   "metadata": {},
   "source": [
    "- 손실함수\n",
    "- 오차역전파법\n",
    "\n",
    "역전파의 계산그래프\n",
    "- 곱셈 노드: 입력을 서로 바꾼 값을 상류의 기울기와 곱해준다\n",
    "- 분기 노드: 복제 노드\n",
    "- repeat 노드: 상류의 기울기를 모두 더해서 구한다.\n",
    "- sum 노드: 상류의 기울기를 모든 화살표로 전파, repeat과 sum은 서로 반대 관계에 있는 노드\n",
    "- matmul 노드: 행렬의 형상을 유지해주는 방식으로 다른 입력값을 transpose한 값을 상류의 기울기와 행렬곱 해준다."
   ]
  },
  {
   "cell_type": "code",
   "execution_count": 42,
   "metadata": {},
   "outputs": [],
   "source": [
    "# repeat 노드\n",
    "import numpy as np\n",
    "\n",
    "D, N = 8, 7\n",
    "\n",
    "x = np.random.randn(1, D)\n",
    "y = np.repeat(x, N, axis=0)\n",
    "\n",
    "dy = np.random.randn(N, D)\n",
    "dx = np.sum(dy, axis=0, keepdims=True)"
   ]
  },
  {
   "cell_type": "code",
   "execution_count": 43,
   "metadata": {},
   "outputs": [],
   "source": [
    "# sum 노드\n",
    "import numpy as np\n",
    "\n",
    "D, N = 8, 7\n",
    "\n",
    "x = np.random.randn(N, D)\n",
    "y = np.sum(x, axis=0, keepdims=True)\n",
    "\n",
    "dy = np.random.randn(1, D)\n",
    "dx = np.repeat(dy, N, axis=0)"
   ]
  },
  {
   "cell_type": "code",
   "execution_count": 44,
   "metadata": {},
   "outputs": [],
   "source": [
    "# matmul 노드\n",
    "class MatMul:\n",
    "    \n",
    "    def __init__(self, W):\n",
    "        self.params = [W]\n",
    "        self.grads = [np.zeros_like(W)]\n",
    "        self.x = None\n",
    "        \n",
    "    \n",
    "    def forward(self, x):\n",
    "        W, = self.params\n",
    "        out = np.matmul(x, W)\n",
    "        self.x = x\n",
    "        \n",
    "        return out\n",
    "    \n",
    "    \n",
    "    def backward(self, dout):\n",
    "        W, = self.params\n",
    "        dx = np.matmul(dout, W.T)\n",
    "        dW = np.matmul(self.x.T, dout)\n",
    "        self.grads[0][...] = dW\n",
    "        \n",
    "        return dx"
   ]
  },
  {
   "cell_type": "markdown",
   "metadata": {},
   "source": [
    "#### 얕은 복사와 깊은 복사\n",
    "\n",
    "얕은 복사  \n",
    "grads[0] = dW와 같은 형식으로 메모리를 가리키기만 한다. 값을 변경하면 같이 변경된다.\n",
    "\n",
    "깊은 복사  \n",
    "grads[0][...] = dW와 같은 형식, 데이터를 덮어씌워 한 쪽의 값이 변경되도 다른 쪽은 변경되지 않는다."
   ]
  },
  {
   "cell_type": "code",
   "execution_count": 45,
   "metadata": {},
   "outputs": [],
   "source": [
    "# 시그모이드 계층 역전파까지 구현\n",
    "class Sigmoid:\n",
    "    \n",
    "    def __init__(self):\n",
    "        self.params, self.grads = [], []\n",
    "        self.out = None\n",
    "        \n",
    "        \n",
    "    def forward(self, x):\n",
    "        out = 1 / (1 + np.exp(-x))\n",
    "        self.out = out\n",
    "        \n",
    "        return out\n",
    "    \n",
    "    \n",
    "    def backward(self, dout):\n",
    "        dx = dout * (1.0 - self.dout) * self.dout\n",
    "        \n",
    "        return dx"
   ]
  },
  {
   "cell_type": "code",
   "execution_count": 46,
   "metadata": {},
   "outputs": [],
   "source": [
    "# Affine 계층 역전파까지 구현\n",
    "class Affine:\n",
    "    \n",
    "    def __init__(self, W, b):\n",
    "        self.params = [W, b]\n",
    "        self.grads = [np.zeros_like(W), np.zeros_like(b)]\n",
    "        self.x = None\n",
    "        \n",
    "    \n",
    "    def forward(self, x):\n",
    "        W, b = self.params\n",
    "        out = np.matmul(x, W) + b\n",
    "        self.x = x\n",
    "        \n",
    "        return out\n",
    "    \n",
    "    \n",
    "    def backward(self, dout):\n",
    "        W, b = self.params\n",
    "        dx = np.matmul(dout, W.T)\n",
    "        dW = np.matmul(self.x.T, dout)\n",
    "        db = np.sum(dout, axis=0)\n",
    "        \n",
    "        self.grads[0][...] = dW\n",
    "        self, grads[1][...] = db\n",
    "        \n",
    "        return dx"
   ]
  },
  {
   "cell_type": "markdown",
   "metadata": {},
   "source": [
    "#### Softmax with Loss 계층\n",
    "\n",
    "softmax 계층의 역전파  \n",
    "출력과 정답레이블의 차: $y_i - t_i$"
   ]
  },
  {
   "cell_type": "markdown",
   "metadata": {},
   "source": [
    "### 가중치 갱신\n",
    "\n",
    "가중치 갱신 = 경사하강법\n",
    "\n",
    "- 확률적경사하강법(SGD)\n",
    "- 모멘텀\n",
    "- AdaGrad\n",
    "- Adam 등"
   ]
  },
  {
   "cell_type": "code",
   "execution_count": 47,
   "metadata": {},
   "outputs": [],
   "source": [
    "# SGD 구현\n",
    "class SGD:\n",
    "    \n",
    "    def __init__(self, lr=0.01):\n",
    "        self.lr = lr\n",
    "        \n",
    "    \n",
    "    def update(self, params, grads):\n",
    "        for i in range(len(params)):\n",
    "            params[i] -= self.lr * grads[i]"
   ]
  },
  {
   "cell_type": "markdown",
   "metadata": {},
   "source": [
    "## 1.4 신경망으로 문제를 풀다"
   ]
  },
  {
   "cell_type": "markdown",
   "metadata": {},
   "source": [
    "### 1.4.1 스파이럴 데이터셋"
   ]
  },
  {
   "cell_type": "code",
   "execution_count": 48,
   "metadata": {},
   "outputs": [],
   "source": [
    "from dataset import spiral\n",
    "import matplotlib.pyplot as plt"
   ]
  },
  {
   "cell_type": "code",
   "execution_count": 49,
   "metadata": {},
   "outputs": [
    {
     "name": "stdout",
     "output_type": "stream",
     "text": [
      "x (300, 2)\n",
      "t (300, 3)\n"
     ]
    }
   ],
   "source": [
    "x, t = spiral.load_data()\n",
    "print('x', x.shape)    # 2차원\n",
    "print('t', t.shape)    # 분류할 클래스는 3개"
   ]
  },
  {
   "cell_type": "code",
   "execution_count": 50,
   "metadata": {},
   "outputs": [
    {
     "data": {
      "image/png": "[encoded data removed]",
      "text/plain": [
       "<Figure size 432x288 with 1 Axes>"
      ]
     },
     "metadata": {
      "needs_background": "light"
     },
     "output_type": "display_data"
    }
   ],
   "source": [
    "N = 100\n",
    "CLS_NUM = 3\n",
    "markers = ['o', 'x', '^']\n",
    "for i in range(CLS_NUM):\n",
    "    plt.scatter(x[i*N:(i+1)*N, 0], x[i*N:(i+1)*N, 1], s=40, marker=markers[i])\n",
    "plt.show()"
   ]
  },
  {
   "cell_type": "code",
   "execution_count": 51,
   "metadata": {},
   "outputs": [],
   "source": [
    "# 신경망 구현\n",
    "import numpy as np\n",
    "from common.layers import Affine, Sigmoid, SoftmaxWithLoss\n",
    "\n",
    "class TwoLayerNet:\n",
    "    \n",
    "    def __init__(self, input_size, hidden_size, output_size):\n",
    "        I, H, O = input_size, hidden_size, output_size\n",
    "        \n",
    "        W1 = np.random.randn(I, H) * 0.01\n",
    "        b1 = np.zeros(H)\n",
    "        W2 = np.random.randn(H, O) * 0.01\n",
    "        b2 = np.zeros(O)\n",
    "        \n",
    "        self.layers = [\n",
    "            Affine(W1, b1),\n",
    "            Sigmoid(),\n",
    "            Affine(W2, b2)\n",
    "        ]\n",
    "        self.loss_layer = SoftmaxWithLoss()\n",
    "        \n",
    "        self.params, self.grads = [], []\n",
    "        for layer in self.layers:\n",
    "            self.params += layer.params\n",
    "            self.grads += layer.grads\n",
    "            \n",
    "            \n",
    "    def predict(self, x):\n",
    "        for layer in self.layers:\n",
    "            x = layer.forward(x)\n",
    "            \n",
    "        return x\n",
    "    \n",
    "    \n",
    "    def forward(self, x, t):\n",
    "        score = self.predict(x)\n",
    "        loss = self.loss_layer.forward(score, t)\n",
    "        \n",
    "        return loss\n",
    "    \n",
    "    \n",
    "    def backward(self, dout=1):\n",
    "        dout = self.loss_layer.backward(dout)\n",
    "        for layer in reversed(self.layers):\n",
    "            dout = layer.backward(dout)\n",
    "            \n",
    "        return dout"
   ]
  },
  {
   "cell_type": "code",
   "execution_count": 57,
   "metadata": {},
   "outputs": [
    {
     "name": "stdout",
     "output_type": "stream",
     "text": [
      "| 에폿 1 | 반복 10 / 10 | 손실 1.13\n",
      "| 에폿 2 | 반복 10 / 10 | 손실 1.13\n",
      "| 에폿 3 | 반복 10 / 10 | 손실 1.12\n",
      "| 에폿 4 | 반복 10 / 10 | 손실 1.12\n",
      "| 에폿 5 | 반복 10 / 10 | 손실 1.11\n",
      "| 에폿 6 | 반복 10 / 10 | 손실 1.14\n",
      "| 에폿 7 | 반복 10 / 10 | 손실 1.16\n",
      "| 에폿 8 | 반복 10 / 10 | 손실 1.11\n",
      "| 에폿 9 | 반복 10 / 10 | 손실 1.12\n",
      "| 에폿 10 | 반복 10 / 10 | 손실 1.13\n",
      "| 에폿 11 | 반복 10 / 10 | 손실 1.12\n",
      "| 에폿 12 | 반복 10 / 10 | 손실 1.11\n",
      "| 에폿 13 | 반복 10 / 10 | 손실 1.09\n",
      "| 에폿 14 | 반복 10 / 10 | 손실 1.08\n",
      "| 에폿 15 | 반복 10 / 10 | 손실 1.04\n",
      "| 에폿 16 | 반복 10 / 10 | 손실 1.03\n",
      "| 에폿 17 | 반복 10 / 10 | 손실 0.96\n",
      "| 에폿 18 | 반복 10 / 10 | 손실 0.92\n",
      "| 에폿 19 | 반복 10 / 10 | 손실 0.92\n",
      "| 에폿 20 | 반복 10 / 10 | 손실 0.87\n",
      "| 에폿 21 | 반복 10 / 10 | 손실 0.85\n",
      "| 에폿 22 | 반복 10 / 10 | 손실 0.82\n",
      "| 에폿 23 | 반복 10 / 10 | 손실 0.79\n",
      "| 에폿 24 | 반복 10 / 10 | 손실 0.78\n",
      "| 에폿 25 | 반복 10 / 10 | 손실 0.82\n",
      "| 에폿 26 | 반복 10 / 10 | 손실 0.78\n",
      "| 에폿 27 | 반복 10 / 10 | 손실 0.76\n",
      "| 에폿 28 | 반복 10 / 10 | 손실 0.76\n",
      "| 에폿 29 | 반복 10 / 10 | 손실 0.78\n",
      "| 에폿 30 | 반복 10 / 10 | 손실 0.75\n",
      "| 에폿 31 | 반복 10 / 10 | 손실 0.78\n",
      "| 에폿 32 | 반복 10 / 10 | 손실 0.77\n",
      "| 에폿 33 | 반복 10 / 10 | 손실 0.77\n",
      "| 에폿 34 | 반복 10 / 10 | 손실 0.78\n",
      "| 에폿 35 | 반복 10 / 10 | 손실 0.75\n",
      "| 에폿 36 | 반복 10 / 10 | 손실 0.74\n",
      "| 에폿 37 | 반복 10 / 10 | 손실 0.76\n",
      "| 에폿 38 | 반복 10 / 10 | 손실 0.76\n",
      "| 에폿 39 | 반복 10 / 10 | 손실 0.73\n",
      "| 에폿 40 | 반복 10 / 10 | 손실 0.75\n",
      "| 에폿 41 | 반복 10 / 10 | 손실 0.76\n",
      "| 에폿 42 | 반복 10 / 10 | 손실 0.76\n",
      "| 에폿 43 | 반복 10 / 10 | 손실 0.76\n",
      "| 에폿 44 | 반복 10 / 10 | 손실 0.74\n",
      "| 에폿 45 | 반복 10 / 10 | 손실 0.75\n",
      "| 에폿 46 | 반복 10 / 10 | 손실 0.73\n",
      "| 에폿 47 | 반복 10 / 10 | 손실 0.72\n",
      "| 에폿 48 | 반복 10 / 10 | 손실 0.73\n",
      "| 에폿 49 | 반복 10 / 10 | 손실 0.72\n",
      "| 에폿 50 | 반복 10 / 10 | 손실 0.72\n",
      "| 에폿 51 | 반복 10 / 10 | 손실 0.72\n",
      "| 에폿 52 | 반복 10 / 10 | 손실 0.72\n",
      "| 에폿 53 | 반복 10 / 10 | 손실 0.74\n",
      "| 에폿 54 | 반복 10 / 10 | 손실 0.74\n",
      "| 에폿 55 | 반복 10 / 10 | 손실 0.72\n",
      "| 에폿 56 | 반복 10 / 10 | 손실 0.72\n",
      "| 에폿 57 | 반복 10 / 10 | 손실 0.71\n",
      "| 에폿 58 | 반복 10 / 10 | 손실 0.70\n",
      "| 에폿 59 | 반복 10 / 10 | 손실 0.72\n",
      "| 에폿 60 | 반복 10 / 10 | 손실 0.70\n",
      "| 에폿 61 | 반복 10 / 10 | 손실 0.71\n",
      "| 에폿 62 | 반복 10 / 10 | 손실 0.72\n",
      "| 에폿 63 | 반복 10 / 10 | 손실 0.70\n",
      "| 에폿 64 | 반복 10 / 10 | 손실 0.71\n",
      "| 에폿 65 | 반복 10 / 10 | 손실 0.73\n",
      "| 에폿 66 | 반복 10 / 10 | 손실 0.70\n",
      "| 에폿 67 | 반복 10 / 10 | 손실 0.71\n",
      "| 에폿 68 | 반복 10 / 10 | 손실 0.69\n",
      "| 에폿 69 | 반복 10 / 10 | 손실 0.70\n",
      "| 에폿 70 | 반복 10 / 10 | 손실 0.71\n",
      "| 에폿 71 | 반복 10 / 10 | 손실 0.68\n",
      "| 에폿 72 | 반복 10 / 10 | 손실 0.69\n",
      "| 에폿 73 | 반복 10 / 10 | 손실 0.67\n",
      "| 에폿 74 | 반복 10 / 10 | 손실 0.68\n",
      "| 에폿 75 | 반복 10 / 10 | 손실 0.67\n",
      "| 에폿 76 | 반복 10 / 10 | 손실 0.66\n",
      "| 에폿 77 | 반복 10 / 10 | 손실 0.69\n",
      "| 에폿 78 | 반복 10 / 10 | 손실 0.64\n",
      "| 에폿 79 | 반복 10 / 10 | 손실 0.68\n",
      "| 에폿 80 | 반복 10 / 10 | 손실 0.64\n",
      "| 에폿 81 | 반복 10 / 10 | 손실 0.64\n",
      "| 에폿 82 | 반복 10 / 10 | 손실 0.66\n",
      "| 에폿 83 | 반복 10 / 10 | 손실 0.62\n",
      "| 에폿 84 | 반복 10 / 10 | 손실 0.62\n",
      "| 에폿 85 | 반복 10 / 10 | 손실 0.61\n",
      "| 에폿 86 | 반복 10 / 10 | 손실 0.60\n",
      "| 에폿 87 | 반복 10 / 10 | 손실 0.60\n",
      "| 에폿 88 | 반복 10 / 10 | 손실 0.61\n",
      "| 에폿 89 | 반복 10 / 10 | 손실 0.59\n",
      "| 에폿 90 | 반복 10 / 10 | 손실 0.58\n",
      "| 에폿 91 | 반복 10 / 10 | 손실 0.56\n",
      "| 에폿 92 | 반복 10 / 10 | 손실 0.56\n",
      "| 에폿 93 | 반복 10 / 10 | 손실 0.54\n",
      "| 에폿 94 | 반복 10 / 10 | 손실 0.53\n",
      "| 에폿 95 | 반복 10 / 10 | 손실 0.53\n",
      "| 에폿 96 | 반복 10 / 10 | 손실 0.52\n",
      "| 에폿 97 | 반복 10 / 10 | 손실 0.51\n",
      "| 에폿 98 | 반복 10 / 10 | 손실 0.50\n",
      "| 에폿 99 | 반복 10 / 10 | 손실 0.48\n",
      "| 에폿 100 | 반복 10 / 10 | 손실 0.48\n",
      "| 에폿 101 | 반복 10 / 10 | 손실 0.46\n",
      "| 에폿 102 | 반복 10 / 10 | 손실 0.45\n",
      "| 에폿 103 | 반복 10 / 10 | 손실 0.45\n",
      "| 에폿 104 | 반복 10 / 10 | 손실 0.44\n",
      "| 에폿 105 | 반복 10 / 10 | 손실 0.44\n",
      "| 에폿 106 | 반복 10 / 10 | 손실 0.41\n",
      "| 에폿 107 | 반복 10 / 10 | 손실 0.40\n",
      "| 에폿 108 | 반복 10 / 10 | 손실 0.41\n",
      "| 에폿 109 | 반복 10 / 10 | 손실 0.40\n",
      "| 에폿 110 | 반복 10 / 10 | 손실 0.40\n",
      "| 에폿 111 | 반복 10 / 10 | 손실 0.38\n",
      "| 에폿 112 | 반복 10 / 10 | 손실 0.38\n",
      "| 에폿 113 | 반복 10 / 10 | 손실 0.36\n",
      "| 에폿 114 | 반복 10 / 10 | 손실 0.37\n",
      "| 에폿 115 | 반복 10 / 10 | 손실 0.35\n",
      "| 에폿 116 | 반복 10 / 10 | 손실 0.34\n",
      "| 에폿 117 | 반복 10 / 10 | 손실 0.34\n",
      "| 에폿 118 | 반복 10 / 10 | 손실 0.34\n",
      "| 에폿 119 | 반복 10 / 10 | 손실 0.33\n",
      "| 에폿 120 | 반복 10 / 10 | 손실 0.34\n",
      "| 에폿 121 | 반복 10 / 10 | 손실 0.32\n",
      "| 에폿 122 | 반복 10 / 10 | 손실 0.32\n",
      "| 에폿 123 | 반복 10 / 10 | 손실 0.31\n",
      "| 에폿 124 | 반복 10 / 10 | 손실 0.31\n",
      "| 에폿 125 | 반복 10 / 10 | 손실 0.30\n",
      "| 에폿 126 | 반복 10 / 10 | 손실 0.30\n",
      "| 에폿 127 | 반복 10 / 10 | 손실 0.28\n",
      "| 에폿 128 | 반복 10 / 10 | 손실 0.28\n",
      "| 에폿 129 | 반복 10 / 10 | 손실 0.28\n",
      "| 에폿 130 | 반복 10 / 10 | 손실 0.28\n",
      "| 에폿 131 | 반복 10 / 10 | 손실 0.27\n",
      "| 에폿 132 | 반복 10 / 10 | 손실 0.27\n",
      "| 에폿 133 | 반복 10 / 10 | 손실 0.27\n",
      "| 에폿 134 | 반복 10 / 10 | 손실 0.27\n",
      "| 에폿 135 | 반복 10 / 10 | 손실 0.27\n",
      "| 에폿 136 | 반복 10 / 10 | 손실 0.26\n",
      "| 에폿 137 | 반복 10 / 10 | 손실 0.26\n",
      "| 에폿 138 | 반복 10 / 10 | 손실 0.26\n",
      "| 에폿 139 | 반복 10 / 10 | 손실 0.25\n",
      "| 에폿 140 | 반복 10 / 10 | 손실 0.24\n",
      "| 에폿 141 | 반복 10 / 10 | 손실 0.24\n",
      "| 에폿 142 | 반복 10 / 10 | 손실 0.25\n",
      "| 에폿 143 | 반복 10 / 10 | 손실 0.24\n",
      "| 에폿 144 | 반복 10 / 10 | 손실 0.24\n",
      "| 에폿 145 | 반복 10 / 10 | 손실 0.23\n",
      "| 에폿 146 | 반복 10 / 10 | 손실 0.24\n",
      "| 에폿 147 | 반복 10 / 10 | 손실 0.23\n",
      "| 에폿 148 | 반복 10 / 10 | 손실 0.23\n",
      "| 에폿 149 | 반복 10 / 10 | 손실 0.22\n",
      "| 에폿 150 | 반복 10 / 10 | 손실 0.22\n",
      "| 에폿 151 | 반복 10 / 10 | 손실 0.22\n",
      "| 에폿 152 | 반복 10 / 10 | 손실 0.22\n",
      "| 에폿 153 | 반복 10 / 10 | 손실 0.22\n",
      "| 에폿 154 | 반복 10 / 10 | 손실 0.22\n",
      "| 에폿 155 | 반복 10 / 10 | 손실 0.22\n",
      "| 에폿 156 | 반복 10 / 10 | 손실 0.21\n",
      "| 에폿 157 | 반복 10 / 10 | 손실 0.21\n",
      "| 에폿 158 | 반복 10 / 10 | 손실 0.20\n",
      "| 에폿 159 | 반복 10 / 10 | 손실 0.21\n",
      "| 에폿 160 | 반복 10 / 10 | 손실 0.20\n",
      "| 에폿 161 | 반복 10 / 10 | 손실 0.20\n",
      "| 에폿 162 | 반복 10 / 10 | 손실 0.20\n",
      "| 에폿 163 | 반복 10 / 10 | 손실 0.21\n",
      "| 에폿 164 | 반복 10 / 10 | 손실 0.20\n",
      "| 에폿 165 | 반복 10 / 10 | 손실 0.20\n",
      "| 에폿 166 | 반복 10 / 10 | 손실 0.19\n",
      "| 에폿 167 | 반복 10 / 10 | 손실 0.19\n",
      "| 에폿 168 | 반복 10 / 10 | 손실 0.19\n",
      "| 에폿 169 | 반복 10 / 10 | 손실 0.19\n",
      "| 에폿 170 | 반복 10 / 10 | 손실 0.19\n",
      "| 에폿 171 | 반복 10 / 10 | 손실 0.19\n",
      "| 에폿 172 | 반복 10 / 10 | 손실 0.18\n",
      "| 에폿 173 | 반복 10 / 10 | 손실 0.18\n",
      "| 에폿 174 | 반복 10 / 10 | 손실 0.18\n",
      "| 에폿 175 | 반복 10 / 10 | 손실 0.18\n",
      "| 에폿 176 | 반복 10 / 10 | 손실 0.18\n",
      "| 에폿 177 | 반복 10 / 10 | 손실 0.18\n",
      "| 에폿 178 | 반복 10 / 10 | 손실 0.18\n",
      "| 에폿 179 | 반복 10 / 10 | 손실 0.17\n",
      "| 에폿 180 | 반복 10 / 10 | 손실 0.17\n",
      "| 에폿 181 | 반복 10 / 10 | 손실 0.18\n",
      "| 에폿 182 | 반복 10 / 10 | 손실 0.17\n",
      "| 에폿 183 | 반복 10 / 10 | 손실 0.18\n",
      "| 에폿 184 | 반복 10 / 10 | 손실 0.17\n",
      "| 에폿 185 | 반복 10 / 10 | 손실 0.17\n",
      "| 에폿 186 | 반복 10 / 10 | 손실 0.18\n",
      "| 에폿 187 | 반복 10 / 10 | 손실 0.17\n",
      "| 에폿 188 | 반복 10 / 10 | 손실 0.17\n",
      "| 에폿 189 | 반복 10 / 10 | 손실 0.17\n",
      "| 에폿 190 | 반복 10 / 10 | 손실 0.17\n",
      "| 에폿 191 | 반복 10 / 10 | 손실 0.16\n",
      "| 에폿 192 | 반복 10 / 10 | 손실 0.17\n",
      "| 에폿 193 | 반복 10 / 10 | 손실 0.16\n",
      "| 에폿 194 | 반복 10 / 10 | 손실 0.16\n",
      "| 에폿 195 | 반복 10 / 10 | 손실 0.16\n",
      "| 에폿 196 | 반복 10 / 10 | 손실 0.16\n",
      "| 에폿 197 | 반복 10 / 10 | 손실 0.16\n",
      "| 에폿 198 | 반복 10 / 10 | 손실 0.15\n",
      "| 에폿 199 | 반복 10 / 10 | 손실 0.16\n",
      "| 에폿 200 | 반복 10 / 10 | 손실 0.16\n",
      "| 에폿 201 | 반복 10 / 10 | 손실 0.15\n",
      "| 에폿 202 | 반복 10 / 10 | 손실 0.16\n",
      "| 에폿 203 | 반복 10 / 10 | 손실 0.16\n",
      "| 에폿 204 | 반복 10 / 10 | 손실 0.15\n",
      "| 에폿 205 | 반복 10 / 10 | 손실 0.16\n",
      "| 에폿 206 | 반복 10 / 10 | 손실 0.15\n",
      "| 에폿 207 | 반복 10 / 10 | 손실 0.15\n",
      "| 에폿 208 | 반복 10 / 10 | 손실 0.15\n",
      "| 에폿 209 | 반복 10 / 10 | 손실 0.15\n",
      "| 에폿 210 | 반복 10 / 10 | 손실 0.15\n",
      "| 에폿 211 | 반복 10 / 10 | 손실 0.15\n",
      "| 에폿 212 | 반복 10 / 10 | 손실 0.15\n",
      "| 에폿 213 | 반복 10 / 10 | 손실 0.15\n",
      "| 에폿 214 | 반복 10 / 10 | 손실 0.15\n",
      "| 에폿 215 | 반복 10 / 10 | 손실 0.15\n",
      "| 에폿 216 | 반복 10 / 10 | 손실 0.14\n",
      "| 에폿 217 | 반복 10 / 10 | 손실 0.14\n",
      "| 에폿 218 | 반복 10 / 10 | 손실 0.15\n",
      "| 에폿 219 | 반복 10 / 10 | 손실 0.14\n",
      "| 에폿 220 | 반복 10 / 10 | 손실 0.14\n",
      "| 에폿 221 | 반복 10 / 10 | 손실 0.14\n",
      "| 에폿 222 | 반복 10 / 10 | 손실 0.14\n",
      "| 에폿 223 | 반복 10 / 10 | 손실 0.14\n",
      "| 에폿 224 | 반복 10 / 10 | 손실 0.14\n",
      "| 에폿 225 | 반복 10 / 10 | 손실 0.14\n",
      "| 에폿 226 | 반복 10 / 10 | 손실 0.14\n",
      "| 에폿 227 | 반복 10 / 10 | 손실 0.14\n",
      "| 에폿 228 | 반복 10 / 10 | 손실 0.14\n",
      "| 에폿 229 | 반복 10 / 10 | 손실 0.13\n",
      "| 에폿 230 | 반복 10 / 10 | 손실 0.14\n",
      "| 에폿 231 | 반복 10 / 10 | 손실 0.13\n",
      "| 에폿 232 | 반복 10 / 10 | 손실 0.14\n",
      "| 에폿 233 | 반복 10 / 10 | 손실 0.13\n",
      "| 에폿 234 | 반복 10 / 10 | 손실 0.13\n",
      "| 에폿 235 | 반복 10 / 10 | 손실 0.13\n",
      "| 에폿 236 | 반복 10 / 10 | 손실 0.13\n",
      "| 에폿 237 | 반복 10 / 10 | 손실 0.14\n",
      "| 에폿 238 | 반복 10 / 10 | 손실 0.13\n",
      "| 에폿 239 | 반복 10 / 10 | 손실 0.13\n",
      "| 에폿 240 | 반복 10 / 10 | 손실 0.14\n",
      "| 에폿 241 | 반복 10 / 10 | 손실 0.13\n",
      "| 에폿 242 | 반복 10 / 10 | 손실 0.13\n",
      "| 에폿 243 | 반복 10 / 10 | 손실 0.13\n",
      "| 에폿 244 | 반복 10 / 10 | 손실 0.13\n",
      "| 에폿 245 | 반복 10 / 10 | 손실 0.13\n",
      "| 에폿 246 | 반복 10 / 10 | 손실 0.13\n",
      "| 에폿 247 | 반복 10 / 10 | 손실 0.13\n",
      "| 에폿 248 | 반복 10 / 10 | 손실 0.13\n",
      "| 에폿 249 | 반복 10 / 10 | 손실 0.13\n",
      "| 에폿 250 | 반복 10 / 10 | 손실 0.13\n",
      "| 에폿 251 | 반복 10 / 10 | 손실 0.13\n",
      "| 에폿 252 | 반복 10 / 10 | 손실 0.12\n",
      "| 에폿 253 | 반복 10 / 10 | 손실 0.12\n",
      "| 에폿 254 | 반복 10 / 10 | 손실 0.12\n",
      "| 에폿 255 | 반복 10 / 10 | 손실 0.12\n",
      "| 에폿 256 | 반복 10 / 10 | 손실 0.12\n",
      "| 에폿 257 | 반복 10 / 10 | 손실 0.12\n",
      "| 에폿 258 | 반복 10 / 10 | 손실 0.12\n",
      "| 에폿 259 | 반복 10 / 10 | 손실 0.13\n",
      "| 에폿 260 | 반복 10 / 10 | 손실 0.12\n",
      "| 에폿 261 | 반복 10 / 10 | 손실 0.13\n",
      "| 에폿 262 | 반복 10 / 10 | 손실 0.12\n",
      "| 에폿 263 | 반복 10 / 10 | 손실 0.12\n",
      "| 에폿 264 | 반복 10 / 10 | 손실 0.13\n",
      "| 에폿 265 | 반복 10 / 10 | 손실 0.12\n",
      "| 에폿 266 | 반복 10 / 10 | 손실 0.12\n",
      "| 에폿 267 | 반복 10 / 10 | 손실 0.12\n",
      "| 에폿 268 | 반복 10 / 10 | 손실 0.12\n",
      "| 에폿 269 | 반복 10 / 10 | 손실 0.11\n",
      "| 에폿 270 | 반복 10 / 10 | 손실 0.12\n",
      "| 에폿 271 | 반복 10 / 10 | 손실 0.12\n",
      "| 에폿 272 | 반복 10 / 10 | 손실 0.12\n",
      "| 에폿 273 | 반복 10 / 10 | 손실 0.12\n",
      "| 에폿 274 | 반복 10 / 10 | 손실 0.12\n",
      "| 에폿 275 | 반복 10 / 10 | 손실 0.11\n",
      "| 에폿 276 | 반복 10 / 10 | 손실 0.12\n",
      "| 에폿 277 | 반복 10 / 10 | 손실 0.12\n",
      "| 에폿 278 | 반복 10 / 10 | 손실 0.11\n",
      "| 에폿 279 | 반복 10 / 10 | 손실 0.11\n",
      "| 에폿 280 | 반복 10 / 10 | 손실 0.11\n",
      "| 에폿 281 | 반복 10 / 10 | 손실 0.11\n",
      "| 에폿 282 | 반복 10 / 10 | 손실 0.12\n",
      "| 에폿 283 | 반복 10 / 10 | 손실 0.11\n",
      "| 에폿 284 | 반복 10 / 10 | 손실 0.11\n",
      "| 에폿 285 | 반복 10 / 10 | 손실 0.11\n",
      "| 에폿 286 | 반복 10 / 10 | 손실 0.11\n",
      "| 에폿 287 | 반복 10 / 10 | 손실 0.11\n",
      "| 에폿 288 | 반복 10 / 10 | 손실 0.12\n",
      "| 에폿 289 | 반복 10 / 10 | 손실 0.11\n",
      "| 에폿 290 | 반복 10 / 10 | 손실 0.11\n",
      "| 에폿 291 | 반복 10 / 10 | 손실 0.11\n",
      "| 에폿 292 | 반복 10 / 10 | 손실 0.11\n",
      "| 에폿 293 | 반복 10 / 10 | 손실 0.11\n",
      "| 에폿 294 | 반복 10 / 10 | 손실 0.11\n",
      "| 에폿 295 | 반복 10 / 10 | 손실 0.12\n",
      "| 에폿 296 | 반복 10 / 10 | 손실 0.11\n",
      "| 에폿 297 | 반복 10 / 10 | 손실 0.12\n",
      "| 에폿 298 | 반복 10 / 10 | 손실 0.11\n",
      "| 에폿 299 | 반복 10 / 10 | 손실 0.11\n",
      "| 에폿 300 | 반복 10 / 10 | 손실 0.11\n"
     ]
    }
   ],
   "source": [
    "# 학습\n",
    "import numpy as np\n",
    "from common.optimizer import SGD\n",
    "from dataset import spiral\n",
    "import matplotlib.pyplot as plt\n",
    "from two_layer_net import TwoLayerNet\n",
    "\n",
    "# 1. 하이퍼파라미터 설정\n",
    "max_epoch = 300\n",
    "batch_size = 30\n",
    "hidden_size = 10\n",
    "learning_rate = 1.0\n",
    "\n",
    "# 2. 데이터 읽기, 모델과 옵티마이저 생성\n",
    "x, t = spiral.load_data()\n",
    "model = TwoLayerNet(input_size=2, hidden_size=hidden_size, output_size=3)\n",
    "optimizer = SGD(lr=learning_rate)\n",
    "\n",
    "# 학습에 사용하는 변수\n",
    "data_size = len(x)\n",
    "max_iters = data_size // batch_size\n",
    "total_loss = 0\n",
    "loss_count = 0\n",
    "loss_list = []\n",
    "\n",
    "for epoch in range(max_epoch):\n",
    "    idx = np.random.permutation(data_size)\n",
    "    x = x[idx]\n",
    "    t = t[idx]\n",
    "    \n",
    "    for iters in range(max_iters):\n",
    "        batch_x = x[iters*batch_size:(iters+1)*batch_size]\n",
    "        batch_t = t[iters*batch_size:(iters+1)*batch_size]\n",
    "        \n",
    "        loss = model.forward(batch_x, batch_t)\n",
    "        model.backward()\n",
    "        optimizer.update(model.params, model.grads)\n",
    "        \n",
    "        total_loss += loss\n",
    "        loss_count += 1\n",
    "        \n",
    "        if (iters+1) % 10 == 0:\n",
    "            avg_loss = total_loss / loss_count\n",
    "            print('| 에폿 %d | 반복 %d / %d | 손실 %.2f'\n",
    "                  % (epoch + 1, iters + 1, max_iters, avg_loss))\n",
    "            loss_list.append(avg_loss)\n",
    "            total_loss, loss_count = 0, 0"
   ]
  },
  {
   "cell_type": "code",
   "execution_count": 58,
   "metadata": {},
   "outputs": [
    {
     "data": {
      "text/plain": [
       "array([5, 1, 8, 4, 9, 7, 0, 2, 6, 3])"
      ]
     },
     "execution_count": 58,
     "metadata": {},
     "output_type": "execute_result"
    }
   ],
   "source": [
    "# 인덱스 뒤섞기\n",
    "import numpy as np\n",
    "np.random.permutation(10)"
   ]
  },
  {
   "cell_type": "code",
   "execution_count": 60,
   "metadata": {},
   "outputs": [
    {
     "data": {
      "image/png": "[encoded data removed]",
      "text/plain": [
       "<Figure size 432x288 with 1 Axes>"
      ]
     },
     "metadata": {
      "needs_background": "light"
     },
     "output_type": "display_data"
    }
   ],
   "source": [
    "# 학습 결과 플롯\n",
    "plt.plot(np.arange(len(loss_list)), loss_list, label='train')\n",
    "plt.xlabel('iterations (x10)')\n",
    "plt.ylabel('loss')\n",
    "plt.show()"
   ]
  },
  {
   "cell_type": "code",
   "execution_count": 61,
   "metadata": {},
   "outputs": [
    {
     "data": {
      "image/png": "[encoded data removed]",
      "text/plain": [
       "<Figure size 432x288 with 1 Axes>"
      ]
     },
     "metadata": {
      "needs_background": "light"
     },
     "output_type": "display_data"
    }
   ],
   "source": [
    "# 경계 영역 플롯\n",
    "h = 0.001\n",
    "x_min, x_max = x[:, 0].min() - .1, x[:, 0].max() + .1\n",
    "y_min, y_max = x[:, 1].min() - .1, x[:, 1].max() + .1\n",
    "xx, yy = np.meshgrid(np.arange(x_min, x_max, h), np.arange(y_min, y_max, h))\n",
    "X = np.c_[xx.ravel(), yy.ravel()]\n",
    "score = model.predict(X)\n",
    "predict_cls = np.argmax(score, axis=1)\n",
    "Z = predict_cls.reshape(xx.shape)\n",
    "plt.contourf(xx, yy, Z)\n",
    "plt.axis('off')\n",
    "\n",
    "# 데이터점 플롯\n",
    "x, t = spiral.load_data()\n",
    "N = 100\n",
    "CLS_NUM = 3\n",
    "markers = ['o', 'x', '^']\n",
    "for i in range(CLS_NUM):\n",
    "    plt.scatter(x[i*N:(i+1)*N, 0], x[i*N:(i+1)*N, 1], s=40, marker=markers[i])\n",
    "plt.show()"
   ]
  },
  {
   "cell_type": "markdown",
   "metadata": {},
   "source": [
    "### Trainer 클래스"
   ]
  },
  {
   "cell_type": "markdown",
   "metadata": {},
   "source": [
    "모델(신경망)과 옵티마이저를 인수로 받아 학습을 수행하는 역할을 하는 클래스\n",
    "- fit(): 학습을 수행한다.\n",
    "- plot(): fit()이 기록한 손실을 그래프로 그린다.\n",
    "\n",
    "#### fit() 메소드\n",
    "\n",
    "인수\n",
    "- x: 입력 데이터\n",
    "- t: 정답 레이블\n",
    "- max_epoch(=10): 에폭 수\n",
    "- batch_size(=32): 미니배치 크기\n",
    "- eval_interval(=20): 결과(평균 손실 등)을 출력하는 간격\n",
    "- max_grad(=None): 기울기 최대 노름, 기울기 노름이 이 값을 넘어서면 기울기를 줄인다.(기울기 클리핑)"
   ]
  },
  {
   "cell_type": "code",
   "execution_count": 62,
   "metadata": {},
   "outputs": [
    {
     "name": "stdout",
     "output_type": "stream",
     "text": [
      "| 에폭 1 |  반복 1 / 10 | 시간 0[s] | 손실 1.10\n",
      "| 에폭 2 |  반복 1 / 10 | 시간 0[s] | 손실 1.12\n",
      "| 에폭 3 |  반복 1 / 10 | 시간 0[s] | 손실 1.13\n",
      "| 에폭 4 |  반복 1 / 10 | 시간 0[s] | 손실 1.12\n",
      "| 에폭 5 |  반복 1 / 10 | 시간 0[s] | 손실 1.12\n",
      "| 에폭 6 |  반복 1 / 10 | 시간 0[s] | 손실 1.10\n",
      "| 에폭 7 |  반복 1 / 10 | 시간 0[s] | 손실 1.14\n",
      "| 에폭 8 |  반복 1 / 10 | 시간 0[s] | 손실 1.16\n",
      "| 에폭 9 |  반복 1 / 10 | 시간 0[s] | 손실 1.11\n",
      "| 에폭 10 |  반복 1 / 10 | 시간 0[s] | 손실 1.12\n",
      "| 에폭 11 |  반복 1 / 10 | 시간 0[s] | 손실 1.12\n",
      "| 에폭 12 |  반복 1 / 10 | 시간 0[s] | 손실 1.12\n",
      "| 에폭 13 |  반복 1 / 10 | 시간 0[s] | 손실 1.10\n",
      "| 에폭 14 |  반복 1 / 10 | 시간 0[s] | 손실 1.09\n",
      "| 에폭 15 |  반복 1 / 10 | 시간 0[s] | 손실 1.08\n",
      "| 에폭 16 |  반복 1 / 10 | 시간 0[s] | 손실 1.04\n",
      "| 에폭 17 |  반복 1 / 10 | 시간 0[s] | 손실 1.03\n",
      "| 에폭 18 |  반복 1 / 10 | 시간 0[s] | 손실 0.94\n",
      "| 에폭 19 |  반복 1 / 10 | 시간 0[s] | 손실 0.92\n",
      "| 에폭 20 |  반복 1 / 10 | 시간 0[s] | 손실 0.92\n",
      "| 에폭 21 |  반복 1 / 10 | 시간 0[s] | 손실 0.87\n",
      "| 에폭 22 |  반복 1 / 10 | 시간 0[s] | 손실 0.85\n",
      "| 에폭 23 |  반복 1 / 10 | 시간 0[s] | 손실 0.80\n",
      "| 에폭 24 |  반복 1 / 10 | 시간 0[s] | 손실 0.79\n",
      "| 에폭 25 |  반복 1 / 10 | 시간 0[s] | 손실 0.78\n",
      "| 에폭 26 |  반복 1 / 10 | 시간 0[s] | 손실 0.83\n",
      "| 에폭 27 |  반복 1 / 10 | 시간 0[s] | 손실 0.77\n",
      "| 에폭 28 |  반복 1 / 10 | 시간 0[s] | 손실 0.76\n",
      "| 에폭 29 |  반복 1 / 10 | 시간 0[s] | 손실 0.77\n",
      "| 에폭 30 |  반복 1 / 10 | 시간 0[s] | 손실 0.76\n",
      "| 에폭 31 |  반복 1 / 10 | 시간 0[s] | 손실 0.77\n",
      "| 에폭 32 |  반복 1 / 10 | 시간 0[s] | 손실 0.75\n",
      "| 에폭 33 |  반복 1 / 10 | 시간 0[s] | 손실 0.78\n",
      "| 에폭 34 |  반복 1 / 10 | 시간 0[s] | 손실 0.77\n",
      "| 에폭 35 |  반복 1 / 10 | 시간 0[s] | 손실 0.78\n",
      "| 에폭 36 |  반복 1 / 10 | 시간 0[s] | 손실 0.74\n",
      "| 에폭 37 |  반복 1 / 10 | 시간 0[s] | 손실 0.75\n",
      "| 에폭 38 |  반복 1 / 10 | 시간 0[s] | 손실 0.77\n",
      "| 에폭 39 |  반복 1 / 10 | 시간 0[s] | 손실 0.75\n",
      "| 에폭 40 |  반복 1 / 10 | 시간 0[s] | 손실 0.73\n",
      "| 에폭 41 |  반복 1 / 10 | 시간 0[s] | 손실 0.75\n",
      "| 에폭 42 |  반복 1 / 10 | 시간 0[s] | 손실 0.76\n",
      "| 에폭 43 |  반복 1 / 10 | 시간 0[s] | 손실 0.79\n",
      "| 에폭 44 |  반복 1 / 10 | 시간 0[s] | 손실 0.74\n",
      "| 에폭 45 |  반복 1 / 10 | 시간 0[s] | 손실 0.75\n",
      "| 에폭 46 |  반복 1 / 10 | 시간 0[s] | 손실 0.73\n",
      "| 에폭 47 |  반복 1 / 10 | 시간 0[s] | 손실 0.73\n",
      "| 에폭 48 |  반복 1 / 10 | 시간 0[s] | 손실 0.73\n",
      "| 에폭 49 |  반복 1 / 10 | 시간 0[s] | 손실 0.73\n",
      "| 에폭 50 |  반복 1 / 10 | 시간 0[s] | 손실 0.72\n",
      "| 에폭 51 |  반복 1 / 10 | 시간 0[s] | 손실 0.72\n",
      "| 에폭 52 |  반복 1 / 10 | 시간 0[s] | 손실 0.72\n",
      "| 에폭 53 |  반복 1 / 10 | 시간 0[s] | 손실 0.72\n",
      "| 에폭 54 |  반복 1 / 10 | 시간 0[s] | 손실 0.74\n",
      "| 에폭 55 |  반복 1 / 10 | 시간 0[s] | 손실 0.74\n",
      "| 에폭 56 |  반복 1 / 10 | 시간 0[s] | 손실 0.73\n",
      "| 에폭 57 |  반복 1 / 10 | 시간 0[s] | 손실 0.72\n",
      "| 에폭 58 |  반복 1 / 10 | 시간 0[s] | 손실 0.69\n",
      "| 에폭 59 |  반복 1 / 10 | 시간 0[s] | 손실 0.72\n",
      "| 에폭 60 |  반복 1 / 10 | 시간 0[s] | 손실 0.70\n",
      "| 에폭 61 |  반복 1 / 10 | 시간 0[s] | 손실 0.69\n",
      "| 에폭 62 |  반복 1 / 10 | 시간 0[s] | 손실 0.71\n",
      "| 에폭 63 |  반복 1 / 10 | 시간 0[s] | 손실 0.70\n",
      "| 에폭 64 |  반복 1 / 10 | 시간 0[s] | 손실 0.71\n",
      "| 에폭 65 |  반복 1 / 10 | 시간 0[s] | 손실 0.72\n",
      "| 에폭 66 |  반복 1 / 10 | 시간 0[s] | 손실 0.71\n",
      "| 에폭 67 |  반복 1 / 10 | 시간 0[s] | 손실 0.71\n",
      "| 에폭 68 |  반복 1 / 10 | 시간 0[s] | 손실 0.71\n",
      "| 에폭 69 |  반복 1 / 10 | 시간 0[s] | 손실 0.70\n",
      "| 에폭 70 |  반복 1 / 10 | 시간 0[s] | 손실 0.68\n",
      "| 에폭 71 |  반복 1 / 10 | 시간 0[s] | 손실 0.73\n",
      "| 에폭 72 |  반복 1 / 10 | 시간 0[s] | 손실 0.66\n",
      "| 에폭 73 |  반복 1 / 10 | 시간 0[s] | 손실 0.69\n",
      "| 에폭 74 |  반복 1 / 10 | 시간 0[s] | 손실 0.66\n",
      "| 에폭 75 |  반복 1 / 10 | 시간 0[s] | 손실 0.70\n",
      "| 에폭 76 |  반복 1 / 10 | 시간 0[s] | 손실 0.65\n",
      "| 에폭 77 |  반복 1 / 10 | 시간 0[s] | 손실 0.67\n",
      "| 에폭 78 |  반복 1 / 10 | 시간 0[s] | 손실 0.70\n",
      "| 에폭 79 |  반복 1 / 10 | 시간 0[s] | 손실 0.63\n",
      "| 에폭 80 |  반복 1 / 10 | 시간 0[s] | 손실 0.66\n",
      "| 에폭 81 |  반복 1 / 10 | 시간 0[s] | 손실 0.65\n",
      "| 에폭 82 |  반복 1 / 10 | 시간 0[s] | 손실 0.66\n",
      "| 에폭 83 |  반복 1 / 10 | 시간 0[s] | 손실 0.64\n",
      "| 에폭 84 |  반복 1 / 10 | 시간 0[s] | 손실 0.62\n",
      "| 에폭 85 |  반복 1 / 10 | 시간 0[s] | 손실 0.62\n",
      "| 에폭 86 |  반복 1 / 10 | 시간 0[s] | 손실 0.63\n",
      "| 에폭 87 |  반복 1 / 10 | 시간 0[s] | 손실 0.59\n",
      "| 에폭 88 |  반복 1 / 10 | 시간 0[s] | 손실 0.58\n",
      "| 에폭 89 |  반복 1 / 10 | 시간 0[s] | 손실 0.61\n",
      "| 에폭 90 |  반복 1 / 10 | 시간 0[s] | 손실 0.59\n",
      "| 에폭 91 |  반복 1 / 10 | 시간 0[s] | 손실 0.58\n",
      "| 에폭 92 |  반복 1 / 10 | 시간 0[s] | 손실 0.57\n",
      "| 에폭 93 |  반복 1 / 10 | 시간 0[s] | 손실 0.55\n",
      "| 에폭 94 |  반복 1 / 10 | 시간 0[s] | 손실 0.54\n",
      "| 에폭 95 |  반복 1 / 10 | 시간 0[s] | 손실 0.53\n",
      "| 에폭 96 |  반복 1 / 10 | 시간 0[s] | 손실 0.54\n",
      "| 에폭 97 |  반복 1 / 10 | 시간 0[s] | 손실 0.51\n",
      "| 에폭 98 |  반복 1 / 10 | 시간 0[s] | 손실 0.51\n",
      "| 에폭 99 |  반복 1 / 10 | 시간 0[s] | 손실 0.50\n",
      "| 에폭 100 |  반복 1 / 10 | 시간 0[s] | 손실 0.47\n",
      "| 에폭 101 |  반복 1 / 10 | 시간 0[s] | 손실 0.49\n",
      "| 에폭 102 |  반복 1 / 10 | 시간 0[s] | 손실 0.46\n",
      "| 에폭 103 |  반복 1 / 10 | 시간 0[s] | 손실 0.44\n",
      "| 에폭 104 |  반복 1 / 10 | 시간 0[s] | 손실 0.47\n",
      "| 에폭 105 |  반복 1 / 10 | 시간 0[s] | 손실 0.44\n",
      "| 에폭 106 |  반복 1 / 10 | 시간 0[s] | 손실 0.43\n",
      "| 에폭 107 |  반복 1 / 10 | 시간 0[s] | 손실 0.43\n",
      "| 에폭 108 |  반복 1 / 10 | 시간 0[s] | 손실 0.39\n",
      "| 에폭 109 |  반복 1 / 10 | 시간 0[s] | 손실 0.40\n",
      "| 에폭 110 |  반복 1 / 10 | 시간 0[s] | 손실 0.41\n",
      "| 에폭 111 |  반복 1 / 10 | 시간 0[s] | 손실 0.38\n",
      "| 에폭 112 |  반복 1 / 10 | 시간 0[s] | 손실 0.38\n",
      "| 에폭 113 |  반복 1 / 10 | 시간 0[s] | 손실 0.38\n",
      "| 에폭 114 |  반복 1 / 10 | 시간 0[s] | 손실 0.37\n",
      "| 에폭 115 |  반복 1 / 10 | 시간 0[s] | 손실 0.36\n",
      "| 에폭 116 |  반복 1 / 10 | 시간 0[s] | 손실 0.34\n",
      "| 에폭 117 |  반복 1 / 10 | 시간 0[s] | 손실 0.35\n",
      "| 에폭 118 |  반복 1 / 10 | 시간 0[s] | 손실 0.33\n",
      "| 에폭 119 |  반복 1 / 10 | 시간 0[s] | 손실 0.35\n",
      "| 에폭 120 |  반복 1 / 10 | 시간 0[s] | 손실 0.33\n",
      "| 에폭 121 |  반복 1 / 10 | 시간 0[s] | 손실 0.33\n",
      "| 에폭 122 |  반복 1 / 10 | 시간 0[s] | 손실 0.32\n",
      "| 에폭 123 |  반복 1 / 10 | 시간 0[s] | 손실 0.31\n",
      "| 에폭 124 |  반복 1 / 10 | 시간 0[s] | 손실 0.31\n",
      "| 에폭 125 |  반복 1 / 10 | 시간 0[s] | 손실 0.31\n",
      "| 에폭 126 |  반복 1 / 10 | 시간 0[s] | 손실 0.30\n",
      "| 에폭 127 |  반복 1 / 10 | 시간 0[s] | 손실 0.30\n",
      "| 에폭 128 |  반복 1 / 10 | 시간 0[s] | 손실 0.27\n",
      "| 에폭 129 |  반복 1 / 10 | 시간 0[s] | 손실 0.30\n",
      "| 에폭 130 |  반복 1 / 10 | 시간 0[s] | 손실 0.28\n",
      "| 에폭 131 |  반복 1 / 10 | 시간 0[s] | 손실 0.26\n",
      "| 에폭 132 |  반복 1 / 10 | 시간 0[s] | 손실 0.27\n",
      "| 에폭 133 |  반복 1 / 10 | 시간 0[s] | 손실 0.27\n",
      "| 에폭 134 |  반복 1 / 10 | 시간 0[s] | 손실 0.28\n",
      "| 에폭 135 |  반복 1 / 10 | 시간 0[s] | 손실 0.26\n",
      "| 에폭 136 |  반복 1 / 10 | 시간 0[s] | 손실 0.28\n",
      "| 에폭 137 |  반복 1 / 10 | 시간 0[s] | 손실 0.25\n",
      "| 에폭 138 |  반복 1 / 10 | 시간 0[s] | 손실 0.26\n",
      "| 에폭 139 |  반복 1 / 10 | 시간 0[s] | 손실 0.26\n",
      "| 에폭 140 |  반복 1 / 10 | 시간 0[s] | 손실 0.26\n",
      "| 에폭 141 |  반복 1 / 10 | 시간 0[s] | 손실 0.23\n",
      "| 에폭 142 |  반복 1 / 10 | 시간 0[s] | 손실 0.23\n",
      "| 에폭 143 |  반복 1 / 10 | 시간 0[s] | 손실 0.26\n",
      "| 에폭 144 |  반복 1 / 10 | 시간 0[s] | 손실 0.23\n",
      "| 에폭 145 |  반복 1 / 10 | 시간 0[s] | 손실 0.24\n",
      "| 에폭 146 |  반복 1 / 10 | 시간 0[s] | 손실 0.24\n",
      "| 에폭 147 |  반복 1 / 10 | 시간 0[s] | 손실 0.25\n",
      "| 에폭 148 |  반복 1 / 10 | 시간 0[s] | 손실 0.21\n",
      "| 에폭 149 |  반복 1 / 10 | 시간 0[s] | 손실 0.23\n",
      "| 에폭 150 |  반복 1 / 10 | 시간 0[s] | 손실 0.22\n",
      "| 에폭 151 |  반복 1 / 10 | 시간 0[s] | 손실 0.22\n",
      "| 에폭 152 |  반복 1 / 10 | 시간 0[s] | 손실 0.23\n",
      "| 에폭 153 |  반복 1 / 10 | 시간 0[s] | 손실 0.23\n",
      "| 에폭 154 |  반복 1 / 10 | 시간 0[s] | 손실 0.20\n",
      "| 에폭 155 |  반복 1 / 10 | 시간 0[s] | 손실 0.22\n",
      "| 에폭 156 |  반복 1 / 10 | 시간 0[s] | 손실 0.21\n",
      "| 에폭 157 |  반복 1 / 10 | 시간 0[s] | 손실 0.21\n",
      "| 에폭 158 |  반복 1 / 10 | 시간 0[s] | 손실 0.20\n",
      "| 에폭 159 |  반복 1 / 10 | 시간 0[s] | 손실 0.21\n",
      "| 에폭 160 |  반복 1 / 10 | 시간 0[s] | 손실 0.20\n",
      "| 에폭 161 |  반복 1 / 10 | 시간 0[s] | 손실 0.19\n",
      "| 에폭 162 |  반복 1 / 10 | 시간 0[s] | 손실 0.22\n",
      "| 에폭 163 |  반복 1 / 10 | 시간 0[s] | 손실 0.19\n",
      "| 에폭 164 |  반복 1 / 10 | 시간 0[s] | 손실 0.21\n",
      "| 에폭 165 |  반복 1 / 10 | 시간 0[s] | 손실 0.20\n",
      "| 에폭 166 |  반복 1 / 10 | 시간 0[s] | 손실 0.20\n",
      "| 에폭 167 |  반복 1 / 10 | 시간 0[s] | 손실 0.20\n",
      "| 에폭 168 |  반복 1 / 10 | 시간 0[s] | 손실 0.19\n",
      "| 에폭 169 |  반복 1 / 10 | 시간 0[s] | 손실 0.18\n",
      "| 에폭 170 |  반복 1 / 10 | 시간 0[s] | 손실 0.19\n",
      "| 에폭 171 |  반복 1 / 10 | 시간 0[s] | 손실 0.19\n",
      "| 에폭 172 |  반복 1 / 10 | 시간 0[s] | 손실 0.20\n",
      "| 에폭 173 |  반복 1 / 10 | 시간 0[s] | 손실 0.16\n",
      "| 에폭 174 |  반복 1 / 10 | 시간 0[s] | 손실 0.20\n",
      "| 에폭 175 |  반복 1 / 10 | 시간 0[s] | 손실 0.18\n",
      "| 에폭 176 |  반복 1 / 10 | 시간 0[s] | 손실 0.17\n",
      "| 에폭 177 |  반복 1 / 10 | 시간 0[s] | 손실 0.17\n",
      "| 에폭 178 |  반복 1 / 10 | 시간 0[s] | 손실 0.17\n",
      "| 에폭 179 |  반복 1 / 10 | 시간 0[s] | 손실 0.18\n",
      "| 에폭 180 |  반복 1 / 10 | 시간 0[s] | 손실 0.19\n",
      "| 에폭 181 |  반복 1 / 10 | 시간 0[s] | 손실 0.17\n",
      "| 에폭 182 |  반복 1 / 10 | 시간 0[s] | 손실 0.18\n",
      "| 에폭 183 |  반복 1 / 10 | 시간 0[s] | 손실 0.16\n",
      "| 에폭 184 |  반복 1 / 10 | 시간 0[s] | 손실 0.18\n",
      "| 에폭 185 |  반복 1 / 10 | 시간 0[s] | 손실 0.18\n",
      "| 에폭 186 |  반복 1 / 10 | 시간 0[s] | 손실 0.17\n",
      "| 에폭 187 |  반복 1 / 10 | 시간 0[s] | 손실 0.17\n",
      "| 에폭 188 |  반복 1 / 10 | 시간 0[s] | 손실 0.18\n",
      "| 에폭 189 |  반복 1 / 10 | 시간 0[s] | 손실 0.16\n",
      "| 에폭 190 |  반복 1 / 10 | 시간 0[s] | 손실 0.16\n",
      "| 에폭 191 |  반복 1 / 10 | 시간 0[s] | 손실 0.17\n",
      "| 에폭 192 |  반복 1 / 10 | 시간 0[s] | 손실 0.17\n",
      "| 에폭 193 |  반복 1 / 10 | 시간 0[s] | 손실 0.16\n",
      "| 에폭 194 |  반복 1 / 10 | 시간 0[s] | 손실 0.16\n",
      "| 에폭 195 |  반복 1 / 10 | 시간 0[s] | 손실 0.16\n",
      "| 에폭 196 |  반복 1 / 10 | 시간 0[s] | 손실 0.17\n",
      "| 에폭 197 |  반복 1 / 10 | 시간 0[s] | 손실 0.16\n",
      "| 에폭 198 |  반복 1 / 10 | 시간 0[s] | 손실 0.17\n",
      "| 에폭 199 |  반복 1 / 10 | 시간 0[s] | 손실 0.16\n",
      "| 에폭 200 |  반복 1 / 10 | 시간 0[s] | 손실 0.14\n",
      "| 에폭 201 |  반복 1 / 10 | 시간 0[s] | 손실 0.16\n",
      "| 에폭 202 |  반복 1 / 10 | 시간 0[s] | 손실 0.16\n"
     ]
    },
    {
     "name": "stdout",
     "output_type": "stream",
     "text": [
      "| 에폭 203 |  반복 1 / 10 | 시간 0[s] | 손실 0.15\n",
      "| 에폭 204 |  반복 1 / 10 | 시간 0[s] | 손실 0.16\n",
      "| 에폭 205 |  반복 1 / 10 | 시간 0[s] | 손실 0.14\n",
      "| 에폭 206 |  반복 1 / 10 | 시간 0[s] | 손실 0.16\n",
      "| 에폭 207 |  반복 1 / 10 | 시간 0[s] | 손실 0.16\n",
      "| 에폭 208 |  반복 1 / 10 | 시간 0[s] | 손실 0.14\n",
      "| 에폭 209 |  반복 1 / 10 | 시간 0[s] | 손실 0.15\n",
      "| 에폭 210 |  반복 1 / 10 | 시간 0[s] | 손실 0.16\n",
      "| 에폭 211 |  반복 1 / 10 | 시간 0[s] | 손실 0.14\n",
      "| 에폭 212 |  반복 1 / 10 | 시간 0[s] | 손실 0.15\n",
      "| 에폭 213 |  반복 1 / 10 | 시간 0[s] | 손실 0.15\n",
      "| 에폭 214 |  반복 1 / 10 | 시간 0[s] | 손실 0.15\n",
      "| 에폭 215 |  반복 1 / 10 | 시간 0[s] | 손실 0.14\n",
      "| 에폭 216 |  반복 1 / 10 | 시간 0[s] | 손실 0.14\n",
      "| 에폭 217 |  반복 1 / 10 | 시간 0[s] | 손실 0.15\n",
      "| 에폭 218 |  반복 1 / 10 | 시간 0[s] | 손실 0.14\n",
      "| 에폭 219 |  반복 1 / 10 | 시간 0[s] | 손실 0.15\n",
      "| 에폭 220 |  반복 1 / 10 | 시간 0[s] | 손실 0.15\n",
      "| 에폭 221 |  반복 1 / 10 | 시간 0[s] | 손실 0.14\n",
      "| 에폭 222 |  반복 1 / 10 | 시간 0[s] | 손실 0.13\n",
      "| 에폭 223 |  반복 1 / 10 | 시간 0[s] | 손실 0.15\n",
      "| 에폭 224 |  반복 1 / 10 | 시간 0[s] | 손실 0.14\n",
      "| 에폭 225 |  반복 1 / 10 | 시간 0[s] | 손실 0.16\n",
      "| 에폭 226 |  반복 1 / 10 | 시간 0[s] | 손실 0.12\n",
      "| 에폭 227 |  반복 1 / 10 | 시간 0[s] | 손실 0.13\n",
      "| 에폭 228 |  반복 1 / 10 | 시간 0[s] | 손실 0.15\n",
      "| 에폭 229 |  반복 1 / 10 | 시간 0[s] | 손실 0.14\n",
      "| 에폭 230 |  반복 1 / 10 | 시간 0[s] | 손실 0.13\n",
      "| 에폭 231 |  반복 1 / 10 | 시간 0[s] | 손실 0.14\n",
      "| 에폭 232 |  반복 1 / 10 | 시간 0[s] | 손실 0.13\n",
      "| 에폭 233 |  반복 1 / 10 | 시간 0[s] | 손실 0.13\n",
      "| 에폭 234 |  반복 1 / 10 | 시간 0[s] | 손실 0.14\n",
      "| 에폭 235 |  반복 1 / 10 | 시간 0[s] | 손실 0.13\n",
      "| 에폭 236 |  반복 1 / 10 | 시간 0[s] | 손실 0.12\n",
      "| 에폭 237 |  반복 1 / 10 | 시간 0[s] | 손실 0.13\n",
      "| 에폭 238 |  반복 1 / 10 | 시간 0[s] | 손실 0.14\n",
      "| 에폭 239 |  반복 1 / 10 | 시간 0[s] | 손실 0.14\n",
      "| 에폭 240 |  반복 1 / 10 | 시간 0[s] | 손실 0.13\n",
      "| 에폭 241 |  반복 1 / 10 | 시간 0[s] | 손실 0.14\n",
      "| 에폭 242 |  반복 1 / 10 | 시간 0[s] | 손실 0.13\n",
      "| 에폭 243 |  반복 1 / 10 | 시간 0[s] | 손실 0.13\n",
      "| 에폭 244 |  반복 1 / 10 | 시간 0[s] | 손실 0.14\n",
      "| 에폭 245 |  반복 1 / 10 | 시간 0[s] | 손실 0.12\n",
      "| 에폭 246 |  반복 1 / 10 | 시간 0[s] | 손실 0.13\n",
      "| 에폭 247 |  반복 1 / 10 | 시간 0[s] | 손실 0.13\n",
      "| 에폭 248 |  반복 1 / 10 | 시간 0[s] | 손실 0.12\n",
      "| 에폭 249 |  반복 1 / 10 | 시간 0[s] | 손실 0.14\n",
      "| 에폭 250 |  반복 1 / 10 | 시간 0[s] | 손실 0.12\n",
      "| 에폭 251 |  반복 1 / 10 | 시간 0[s] | 손실 0.13\n",
      "| 에폭 252 |  반복 1 / 10 | 시간 0[s] | 손실 0.13\n",
      "| 에폭 253 |  반복 1 / 10 | 시간 0[s] | 손실 0.12\n",
      "| 에폭 254 |  반복 1 / 10 | 시간 0[s] | 손실 0.12\n",
      "| 에폭 255 |  반복 1 / 10 | 시간 0[s] | 손실 0.13\n",
      "| 에폭 256 |  반복 1 / 10 | 시간 0[s] | 손실 0.12\n",
      "| 에폭 257 |  반복 1 / 10 | 시간 0[s] | 손실 0.12\n",
      "| 에폭 258 |  반복 1 / 10 | 시간 0[s] | 손실 0.12\n",
      "| 에폭 259 |  반복 1 / 10 | 시간 0[s] | 손실 0.13\n",
      "| 에폭 260 |  반복 1 / 10 | 시간 0[s] | 손실 0.13\n",
      "| 에폭 261 |  반복 1 / 10 | 시간 0[s] | 손실 0.11\n",
      "| 에폭 262 |  반복 1 / 10 | 시간 0[s] | 손실 0.13\n",
      "| 에폭 263 |  반복 1 / 10 | 시간 0[s] | 손실 0.12\n",
      "| 에폭 264 |  반복 1 / 10 | 시간 0[s] | 손실 0.11\n",
      "| 에폭 265 |  반복 1 / 10 | 시간 0[s] | 손실 0.14\n",
      "| 에폭 266 |  반복 1 / 10 | 시간 0[s] | 손실 0.11\n",
      "| 에폭 267 |  반복 1 / 10 | 시간 0[s] | 손실 0.13\n",
      "| 에폭 268 |  반복 1 / 10 | 시간 0[s] | 손실 0.11\n",
      "| 에폭 269 |  반복 1 / 10 | 시간 0[s] | 손실 0.13\n",
      "| 에폭 270 |  반복 1 / 10 | 시간 0[s] | 손실 0.11\n",
      "| 에폭 271 |  반복 1 / 10 | 시간 0[s] | 손실 0.12\n",
      "| 에폭 272 |  반복 1 / 10 | 시간 0[s] | 손실 0.12\n",
      "| 에폭 273 |  반복 1 / 10 | 시간 0[s] | 손실 0.12\n",
      "| 에폭 274 |  반복 1 / 10 | 시간 0[s] | 손실 0.12\n",
      "| 에폭 275 |  반복 1 / 10 | 시간 0[s] | 손실 0.12\n",
      "| 에폭 276 |  반복 1 / 10 | 시간 0[s] | 손실 0.12\n",
      "| 에폭 277 |  반복 1 / 10 | 시간 0[s] | 손실 0.11\n",
      "| 에폭 278 |  반복 1 / 10 | 시간 0[s] | 손실 0.13\n",
      "| 에폭 279 |  반복 1 / 10 | 시간 0[s] | 손실 0.11\n",
      "| 에폭 280 |  반복 1 / 10 | 시간 0[s] | 손실 0.10\n",
      "| 에폭 281 |  반복 1 / 10 | 시간 0[s] | 손실 0.12\n",
      "| 에폭 282 |  반복 1 / 10 | 시간 0[s] | 손실 0.11\n",
      "| 에폭 283 |  반복 1 / 10 | 시간 0[s] | 손실 0.12\n",
      "| 에폭 284 |  반복 1 / 10 | 시간 0[s] | 손실 0.11\n",
      "| 에폭 285 |  반복 1 / 10 | 시간 0[s] | 손실 0.11\n",
      "| 에폭 286 |  반복 1 / 10 | 시간 0[s] | 손실 0.12\n",
      "| 에폭 287 |  반복 1 / 10 | 시간 0[s] | 손실 0.11\n",
      "| 에폭 288 |  반복 1 / 10 | 시간 0[s] | 손실 0.11\n",
      "| 에폭 289 |  반복 1 / 10 | 시간 0[s] | 손실 0.12\n",
      "| 에폭 290 |  반복 1 / 10 | 시간 0[s] | 손실 0.11\n",
      "| 에폭 291 |  반복 1 / 10 | 시간 0[s] | 손실 0.11\n",
      "| 에폭 292 |  반복 1 / 10 | 시간 0[s] | 손실 0.11\n",
      "| 에폭 293 |  반복 1 / 10 | 시간 0[s] | 손실 0.11\n",
      "| 에폭 294 |  반복 1 / 10 | 시간 0[s] | 손실 0.11\n",
      "| 에폭 295 |  반복 1 / 10 | 시간 0[s] | 손실 0.11\n",
      "| 에폭 296 |  반복 1 / 10 | 시간 0[s] | 손실 0.12\n",
      "| 에폭 297 |  반복 1 / 10 | 시간 0[s] | 손실 0.11\n",
      "| 에폭 298 |  반복 1 / 10 | 시간 0[s] | 손실 0.11\n",
      "| 에폭 299 |  반복 1 / 10 | 시간 0[s] | 손실 0.11\n",
      "| 에폭 300 |  반복 1 / 10 | 시간 0[s] | 손실 0.11\n"
     ]
    },
    {
     "name": "stderr",
     "output_type": "stream",
     "text": [
      "C:\\Users\\KJK\\Anaconda3\\lib\\site-packages\\matplotlib\\backends\\backend_agg.py:211: RuntimeWarning: Glyph 48152 missing from current font.\n",
      "  font.set_text(s, 0.0, flags=flags)\n",
      "C:\\Users\\KJK\\Anaconda3\\lib\\site-packages\\matplotlib\\backends\\backend_agg.py:211: RuntimeWarning: Glyph 48373 missing from current font.\n",
      "  font.set_text(s, 0.0, flags=flags)\n",
      "C:\\Users\\KJK\\Anaconda3\\lib\\site-packages\\matplotlib\\backends\\backend_agg.py:180: RuntimeWarning: Glyph 48152 missing from current font.\n",
      "  font.set_text(s, 0, flags=flags)\n",
      "C:\\Users\\KJK\\Anaconda3\\lib\\site-packages\\matplotlib\\backends\\backend_agg.py:180: RuntimeWarning: Glyph 48373 missing from current font.\n",
      "  font.set_text(s, 0, flags=flags)\n",
      "C:\\Users\\KJK\\Anaconda3\\lib\\site-packages\\matplotlib\\backends\\backend_agg.py:211: RuntimeWarning: Glyph 49552 missing from current font.\n",
      "  font.set_text(s, 0.0, flags=flags)\n",
      "C:\\Users\\KJK\\Anaconda3\\lib\\site-packages\\matplotlib\\backends\\backend_agg.py:211: RuntimeWarning: Glyph 49892 missing from current font.\n",
      "  font.set_text(s, 0.0, flags=flags)\n",
      "C:\\Users\\KJK\\Anaconda3\\lib\\site-packages\\matplotlib\\backends\\backend_agg.py:180: RuntimeWarning: Glyph 49552 missing from current font.\n",
      "  font.set_text(s, 0, flags=flags)\n",
      "C:\\Users\\KJK\\Anaconda3\\lib\\site-packages\\matplotlib\\backends\\backend_agg.py:180: RuntimeWarning: Glyph 49892 missing from current font.\n",
      "  font.set_text(s, 0, flags=flags)\n"
     ]
    },
    {
     "data": {
      "image/png": "[encoded data removed]",
      "text/plain": [
       "<Figure size 432x288 with 1 Axes>"
      ]
     },
     "metadata": {
      "needs_background": "light"
     },
     "output_type": "display_data"
    }
   ],
   "source": [
    "from common.optimizer import SGD\n",
    "from common.trainer import Trainer\n",
    "from dataset import spiral\n",
    "from two_layer_net import TwoLayerNet\n",
    "\n",
    "max_epoch = 300\n",
    "batch_size = 30\n",
    "hidden_size = 10\n",
    "learning_rate = 1.0\n",
    "\n",
    "x, t = spiral.load_data()\n",
    "model = TwoLayerNet(input_size=2, hidden_size=hidden_size, output_size=3)\n",
    "optimizer = SGD(lr=learning_rate)\n",
    "\n",
    "trainer = Trainer(model, optimizer)\n",
    "trainer.fit(x, t, max_epoch, batch_size, eval_interval=10)\n",
    "trainer.plot()"
   ]
  },
  {
   "cell_type": "markdown",
   "metadata": {},
   "source": [
    "## 1.5 계산 고속화"
   ]
  },
  {
   "cell_type": "markdown",
   "metadata": {},
   "source": [
    "### 1.5.1 비트 정밀도"
   ]
  },
  {
   "cell_type": "markdown",
   "metadata": {},
   "source": [
    "넘파이 기본: 64비트 부동소수점"
   ]
  },
  {
   "cell_type": "code",
   "execution_count": 63,
   "metadata": {},
   "outputs": [
    {
     "data": {
      "text/plain": [
       "dtype('float64')"
      ]
     },
     "execution_count": 63,
     "metadata": {},
     "output_type": "execute_result"
    }
   ],
   "source": [
    "import numpy as np\n",
    "a = np.random.randn(3)\n",
    "a.dtype"
   ]
  },
  {
   "cell_type": "markdown",
   "metadata": {},
   "source": [
    "#### 32비트와 64비트\n",
    "- 인식률 측면: 거의 동일\n",
    "- 메모리 효율 측면: 32비트 유리\n",
    "- 버스 대역폭 측면: 32비트 유리\n",
    "- 계산 속도 측면: 일반적으로 32비트 유리\n",
    "\n",
    "버스 대역폭(bus bandwidth): 데이터를 주고 받는 통로\n",
    "\n",
    "이 책에서는 32비트 부동소수점을 우선적으로 사용"
   ]
  },
  {
   "cell_type": "code",
   "execution_count": 64,
   "metadata": {},
   "outputs": [
    {
     "data": {
      "text/plain": [
       "dtype('float32')"
      ]
     },
     "execution_count": 64,
     "metadata": {},
     "output_type": "execute_result"
    }
   ],
   "source": [
    "b = np.random.randn(3).astype(np.float32)\n",
    "b.dtype"
   ]
  },
  {
   "cell_type": "code",
   "execution_count": 65,
   "metadata": {},
   "outputs": [
    {
     "data": {
      "text/plain": [
       "dtype('float32')"
      ]
     },
     "execution_count": 65,
     "metadata": {},
     "output_type": "execute_result"
    }
   ],
   "source": [
    "c = np.random.randn(3).astype('f')\n",
    "c.dtype"
   ]
  },
  {
   "cell_type": "markdown",
   "metadata": {},
   "source": [
    "#### 16비트 부동소수점\n",
    "- 신경망 추론 한정, 인식률 거의 비슷\n",
    "- 계산 속도 측면에서는 이점이 없을 수도 - 컴퓨터는 기본적으로 32비트로 계산하기 때문\n",
    "- 학습된 가중치를 저장할 땐 유리 - 용량이 적기 때문에 - 가중치 저장은 16비트로\n",
    "\n",
    "#### GPU와 TPU\n",
    "- GPU: 16비트 반정밀도까지 지원\n",
    "- TPU: 8비트 계산 지원"
   ]
  },
  {
   "cell_type": "markdown",
   "metadata": {},
   "source": [
    "### 1.5.2 GPU(쿠파이)"
   ]
  },
  {
   "cell_type": "markdown",
   "metadata": {},
   "source": [
    "병렬 계산은 CPU보다 GPU가 유리하다. 대부분의 프레임워크가 GPU를 지원한다.\n",
    "\n",
    "#### 쿠파이\n",
    "\n",
    "- GPU를 이용해 병렬 계산을 수행해주는 라이브러리, 엔비디아 GPU만 지원\n",
    "- CUDA(GPU 전용 범용 병렬 컴퓨팅 플랫폼) 설치 필요"
   ]
  },
  {
   "cell_type": "code",
   "execution_count": 1,
   "metadata": {},
   "outputs": [],
   "source": [
    "import cupy as cp"
   ]
  },
  {
   "cell_type": "code",
   "execution_count": 2,
   "metadata": {},
   "outputs": [],
   "source": [
    "x = cp.arange(6).reshape(2, 3).astype('f')"
   ]
  },
  {
   "cell_type": "code",
   "execution_count": 3,
   "metadata": {},
   "outputs": [
    {
     "data": {
      "text/plain": [
       "array([[0., 1., 2.],\n",
       "       [3., 4., 5.]], dtype=float32)"
      ]
     },
     "execution_count": 3,
     "metadata": {},
     "output_type": "execute_result"
    }
   ],
   "source": [
    "x"
   ]
  },
  {
   "cell_type": "code",
   "execution_count": 4,
   "metadata": {},
   "outputs": [
    {
     "data": {
      "text/plain": [
       "array([ 3., 12.], dtype=float32)"
      ]
     },
     "execution_count": 4,
     "metadata": {},
     "output_type": "execute_result"
    }
   ],
   "source": [
    "x.sum(axis=1)"
   ]
  },
  {
   "cell_type": "markdown",
   "metadata": {},
   "source": [
    "cupy는 numpy와 유사한 부분이 많아서 대체하기 쉽다."
   ]
  },
  {
   "cell_type": "code",
   "execution_count": null,
   "metadata": {},
   "outputs": [],
   "source": []
  }
 ],
 "metadata": {
  "kernelspec": {
   "display_name": "Python 3",
   "language": "python",
   "name": "python3"
  },
  "language_info": {
   "codemirror_mode": {
    "name": "ipython",
    "version": 3
   },
   "file_extension": ".py",
   "mimetype": "text/x-python",
   "name": "python",
   "nbconvert_exporter": "python",
   "pygments_lexer": "ipython3",
   "version": "3.6.9"
  }
 },
 "nbformat": 4,
 "nbformat_minor": 2
}
