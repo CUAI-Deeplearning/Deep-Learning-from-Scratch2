{
 "cells": [
  {
   "cell_type": "markdown",
   "metadata": {},
   "source": [
    "# CH01. 신경망 복습"
   ]
  },
  {
   "cell_type": "markdown",
   "metadata": {},
   "source": [
    "## 1.3.4 계산그래프"
   ]
  },
  {
   "cell_type": "code",
   "execution_count": 6,
   "metadata": {
    "collapsed": true
   },
   "outputs": [
    {
     "name": "stdout",
     "output_type": "stream",
     "text": [
      "[[ 2.31068304  0.09163239 -0.73091572 -1.40054031  0.04385987 -1.44322706\n",
      "   2.13292231  0.11072172]\n",
      " [-0.23827156  1.98371587  0.67639609  0.65441168  1.03593056  0.69894879\n",
      "   0.30789283 -0.49570089]\n",
      " [-0.42000308  0.57691663  0.70970754 -0.43896088  0.207223    1.25923365\n",
      "  -0.48408352  1.73814797]\n",
      " [-0.3634243   0.94387515  1.0169148   1.27916493  0.33741904  1.68287735\n",
      "   1.99020662 -1.22116129]\n",
      " [ 1.29700498  0.80008739 -1.88158838 -0.3660027  -0.09396057 -0.24036034\n",
      "   0.55055659  1.32907561]\n",
      " [-0.91043727  0.71028858  0.7640434  -0.69822293  0.93021693 -0.0456967\n",
      "  -0.9546086  -2.61327041]\n",
      " [ 0.41338269 -1.16269099  2.02663635 -0.0845493   1.62008585  2.40631816\n",
      "  -0.97906672  0.12844493]]\n",
      "[[ 2.08893451  3.943825    2.58119408 -1.05469951  4.08077467  4.31809383\n",
      "   2.5638195  -1.02374236]]\n"
     ]
    }
   ],
   "source": [
    "# repeat 노드\n",
    "import numpy as np \n",
    "D, N = 8,7\n",
    "x=np.random.randn(1,D)\n",
    "y = np.repeat(x, N, axis =0)  #axis = 0 행 방향으로 N개 \n",
    "dy = np.random.randn(N,D) \n",
    "dx = np.sum(dy, axis=0, keepdims = True)\n",
    "\n",
    "print(dy)\n",
    "print(dx)"
   ]
  },
  {
   "cell_type": "code",
   "execution_count": null,
   "metadata": {},
   "outputs": [],
   "source": []
  }
 ],
 "metadata": {
  "kernelspec": {
   "display_name": "Python 3",
   "language": "python",
   "name": "python3"
  },
  "language_info": {
   "codemirror_mode": {
    "name": "ipython",
    "version": 3
   },
   "file_extension": ".py",
   "mimetype": "text/x-python",
   "name": "python",
   "nbconvert_exporter": "python",
   "pygments_lexer": "ipython3",
   "version": "3.7.3"
  }
 },
 "nbformat": 4,
 "nbformat_minor": 2
}
