{
 "cells": [
  {
   "cell_type": "markdown",
   "metadata": {},
   "source": [
    "# Ch 08 Attention\n",
    "\n",
    "## 8.1.1 seq2seq의 문제점\n",
    "- seq2seq는 encoder가 시계열 데이터를 인코딩한다. 이 정보를 decoder로 전달한다.\n",
    " - 이때 encoder의 출력은 고정된 길이의 벡터이다. 아무리 긴 문장이 입력되더라도 항상 같은 길이의 벡터에 밀어넣어야한다. \n",
    " \n",
    " ## 8.1.2 Encoder 개선\n",
    " - 시각별 LSTM계층의 은닉상태를 모두 이용하는것. .... 8장은 이해 위주로 . "
   ]
  },
  {
   "cell_type": "code",
   "execution_count": null,
   "metadata": {},
   "outputs": [],
   "source": []
  }
 ],
 "metadata": {
  "kernelspec": {
   "display_name": "Python 3",
   "language": "python",
   "name": "python3"
  },
  "language_info": {
   "codemirror_mode": {
    "name": "ipython",
    "version": 3
   },
   "file_extension": ".py",
   "mimetype": "text/x-python",
   "name": "python",
   "nbconvert_exporter": "python",
   "pygments_lexer": "ipython3",
   "version": "3.7.3"
  }
 },
 "nbformat": 4,
 "nbformat_minor": 2
}
